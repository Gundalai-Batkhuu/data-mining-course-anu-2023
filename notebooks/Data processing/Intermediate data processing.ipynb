{
 "cells": [
  {
   "cell_type": "code",
   "execution_count": 2,
   "metadata": {
    "collapsed": true
   },
   "outputs": [
    {
     "data": {
      "text/plain": "['raw_data', 'codebook', 'intermediate_data', 'processed_data', 'parameters']"
     },
     "execution_count": 2,
     "metadata": {},
     "output_type": "execute_result"
    }
   ],
   "source": [
    "import pandas as pd\n",
    "catalog.list()"
   ]
  },
  {
   "cell_type": "code",
   "execution_count": 3,
   "outputs": [
    {
     "name": "stdout",
     "output_type": "stream",
     "text": [
      "2023-05-02 16:45:41,442 - kedro.io.data_catalog - INFO - Loading data from 'intermediate_data' (CSVDataSet)...\n"
     ]
    }
   ],
   "source": [
    "df = catalog.load(\"intermediate_data\")"
   ],
   "metadata": {
    "collapsed": false,
    "pycharm": {
     "name": "#%%\n"
    }
   }
  },
  {
   "cell_type": "code",
   "execution_count": 4,
   "outputs": [],
   "source": [
    "# Find the columns with only one unique value\n",
    "unique_counts = df.nunique()\n",
    "only_one_unique = unique_counts[unique_counts == 1]"
   ],
   "metadata": {
    "collapsed": false,
    "pycharm": {
     "name": "#%%\n"
    }
   }
  },
  {
   "cell_type": "code",
   "execution_count": 5,
   "outputs": [
    {
     "name": "stdout",
     "output_type": "stream",
     "text": [
      "['p_state', 'p_region', 'p_geography', 'p_seifa', 'p_gender', 'p_age', 'p_age_group', 'p_birthgroup', 'p_citizen', 'p_lote', 'p_atsi', 'p_house_str', 'p_schooling', 'p_education', 'p_phone', 'wt_agehedu12', 'wt_geography', 'wt_sex']\n"
     ]
    }
   ],
   "source": [
    "# Get the list of column names\n",
    "cols_with_one_unique_value = list(only_one_unique.index)\n",
    "\n",
    "print(cols_with_one_unique_value)"
   ],
   "metadata": {
    "collapsed": false,
    "pycharm": {
     "name": "#%%\n"
    }
   }
  },
  {
   "cell_type": "code",
   "execution_count": 6,
   "outputs": [
    {
     "data": {
      "text/plain": "      p_state  p_region  p_geography  p_seifa  p_gender  p_age  p_age_group   \n0         -99       -99          -99      -99       -99    -99          -99  \\\n1         -99       -99          -99      -99       -99    -99          -99   \n2         -99       -99          -99      -99       -99    -99          -99   \n3         -99       -99          -99      -99       -99    -99          -99   \n4         -99       -99          -99      -99       -99    -99          -99   \n...       ...       ...          ...      ...       ...    ...          ...   \n2049      -99       -99          -99      -99       -99    -99          -99   \n2050      -99       -99          -99      -99       -99    -99          -99   \n2051      -99       -99          -99      -99       -99    -99          -99   \n2052      -99       -99          -99      -99       -99    -99          -99   \n2053      -99       -99          -99      -99       -99    -99          -99   \n\n      p_birthgroup  p_citizen  p_lote  p_atsi  p_house_str  p_schooling   \n0              -99        -99     -99     -99          -99          -99  \\\n1              -99        -99     -99     -99          -99          -99   \n2              -99        -99     -99     -99          -99          -99   \n3              -99        -99     -99     -99          -99          -99   \n4              -99        -99     -99     -99          -99          -99   \n...            ...        ...     ...     ...          ...          ...   \n2049           -99        -99     -99     -99          -99          -99   \n2050           -99        -99     -99     -99          -99          -99   \n2051           -99        -99     -99     -99          -99          -99   \n2052           -99        -99     -99     -99          -99          -99   \n2053           -99        -99     -99     -99          -99          -99   \n\n      p_education  p_phone  wt_agehedu12  wt_geography  wt_sex  \n0             -99      -99           -99           -99     -99  \n1             -99      -99           -99           -99     -99  \n2             -99      -99           -99           -99     -99  \n3             -99      -99           -99           -99     -99  \n4             -99      -99           -99           -99     -99  \n...           ...      ...           ...           ...     ...  \n2049          -99      -99           -99           -99     -99  \n2050          -99      -99           -99           -99     -99  \n2051          -99      -99           -99           -99     -99  \n2052          -99      -99           -99           -99     -99  \n2053          -99      -99           -99           -99     -99  \n\n[2054 rows x 18 columns]",
      "text/html": "<div>\n<style scoped>\n    .dataframe tbody tr th:only-of-type {\n        vertical-align: middle;\n    }\n\n    .dataframe tbody tr th {\n        vertical-align: top;\n    }\n\n    .dataframe thead th {\n        text-align: right;\n    }\n</style>\n<table border=\"1\" class=\"dataframe\">\n  <thead>\n    <tr style=\"text-align: right;\">\n      <th></th>\n      <th>p_state</th>\n      <th>p_region</th>\n      <th>p_geography</th>\n      <th>p_seifa</th>\n      <th>p_gender</th>\n      <th>p_age</th>\n      <th>p_age_group</th>\n      <th>p_birthgroup</th>\n      <th>p_citizen</th>\n      <th>p_lote</th>\n      <th>p_atsi</th>\n      <th>p_house_str</th>\n      <th>p_schooling</th>\n      <th>p_education</th>\n      <th>p_phone</th>\n      <th>wt_agehedu12</th>\n      <th>wt_geography</th>\n      <th>wt_sex</th>\n    </tr>\n  </thead>\n  <tbody>\n    <tr>\n      <th>0</th>\n      <td>-99</td>\n      <td>-99</td>\n      <td>-99</td>\n      <td>-99</td>\n      <td>-99</td>\n      <td>-99</td>\n      <td>-99</td>\n      <td>-99</td>\n      <td>-99</td>\n      <td>-99</td>\n      <td>-99</td>\n      <td>-99</td>\n      <td>-99</td>\n      <td>-99</td>\n      <td>-99</td>\n      <td>-99</td>\n      <td>-99</td>\n      <td>-99</td>\n    </tr>\n    <tr>\n      <th>1</th>\n      <td>-99</td>\n      <td>-99</td>\n      <td>-99</td>\n      <td>-99</td>\n      <td>-99</td>\n      <td>-99</td>\n      <td>-99</td>\n      <td>-99</td>\n      <td>-99</td>\n      <td>-99</td>\n      <td>-99</td>\n      <td>-99</td>\n      <td>-99</td>\n      <td>-99</td>\n      <td>-99</td>\n      <td>-99</td>\n      <td>-99</td>\n      <td>-99</td>\n    </tr>\n    <tr>\n      <th>2</th>\n      <td>-99</td>\n      <td>-99</td>\n      <td>-99</td>\n      <td>-99</td>\n      <td>-99</td>\n      <td>-99</td>\n      <td>-99</td>\n      <td>-99</td>\n      <td>-99</td>\n      <td>-99</td>\n      <td>-99</td>\n      <td>-99</td>\n      <td>-99</td>\n      <td>-99</td>\n      <td>-99</td>\n      <td>-99</td>\n      <td>-99</td>\n      <td>-99</td>\n    </tr>\n    <tr>\n      <th>3</th>\n      <td>-99</td>\n      <td>-99</td>\n      <td>-99</td>\n      <td>-99</td>\n      <td>-99</td>\n      <td>-99</td>\n      <td>-99</td>\n      <td>-99</td>\n      <td>-99</td>\n      <td>-99</td>\n      <td>-99</td>\n      <td>-99</td>\n      <td>-99</td>\n      <td>-99</td>\n      <td>-99</td>\n      <td>-99</td>\n      <td>-99</td>\n      <td>-99</td>\n    </tr>\n    <tr>\n      <th>4</th>\n      <td>-99</td>\n      <td>-99</td>\n      <td>-99</td>\n      <td>-99</td>\n      <td>-99</td>\n      <td>-99</td>\n      <td>-99</td>\n      <td>-99</td>\n      <td>-99</td>\n      <td>-99</td>\n      <td>-99</td>\n      <td>-99</td>\n      <td>-99</td>\n      <td>-99</td>\n      <td>-99</td>\n      <td>-99</td>\n      <td>-99</td>\n      <td>-99</td>\n    </tr>\n    <tr>\n      <th>...</th>\n      <td>...</td>\n      <td>...</td>\n      <td>...</td>\n      <td>...</td>\n      <td>...</td>\n      <td>...</td>\n      <td>...</td>\n      <td>...</td>\n      <td>...</td>\n      <td>...</td>\n      <td>...</td>\n      <td>...</td>\n      <td>...</td>\n      <td>...</td>\n      <td>...</td>\n      <td>...</td>\n      <td>...</td>\n      <td>...</td>\n    </tr>\n    <tr>\n      <th>2049</th>\n      <td>-99</td>\n      <td>-99</td>\n      <td>-99</td>\n      <td>-99</td>\n      <td>-99</td>\n      <td>-99</td>\n      <td>-99</td>\n      <td>-99</td>\n      <td>-99</td>\n      <td>-99</td>\n      <td>-99</td>\n      <td>-99</td>\n      <td>-99</td>\n      <td>-99</td>\n      <td>-99</td>\n      <td>-99</td>\n      <td>-99</td>\n      <td>-99</td>\n    </tr>\n    <tr>\n      <th>2050</th>\n      <td>-99</td>\n      <td>-99</td>\n      <td>-99</td>\n      <td>-99</td>\n      <td>-99</td>\n      <td>-99</td>\n      <td>-99</td>\n      <td>-99</td>\n      <td>-99</td>\n      <td>-99</td>\n      <td>-99</td>\n      <td>-99</td>\n      <td>-99</td>\n      <td>-99</td>\n      <td>-99</td>\n      <td>-99</td>\n      <td>-99</td>\n      <td>-99</td>\n    </tr>\n    <tr>\n      <th>2051</th>\n      <td>-99</td>\n      <td>-99</td>\n      <td>-99</td>\n      <td>-99</td>\n      <td>-99</td>\n      <td>-99</td>\n      <td>-99</td>\n      <td>-99</td>\n      <td>-99</td>\n      <td>-99</td>\n      <td>-99</td>\n      <td>-99</td>\n      <td>-99</td>\n      <td>-99</td>\n      <td>-99</td>\n      <td>-99</td>\n      <td>-99</td>\n      <td>-99</td>\n    </tr>\n    <tr>\n      <th>2052</th>\n      <td>-99</td>\n      <td>-99</td>\n      <td>-99</td>\n      <td>-99</td>\n      <td>-99</td>\n      <td>-99</td>\n      <td>-99</td>\n      <td>-99</td>\n      <td>-99</td>\n      <td>-99</td>\n      <td>-99</td>\n      <td>-99</td>\n      <td>-99</td>\n      <td>-99</td>\n      <td>-99</td>\n      <td>-99</td>\n      <td>-99</td>\n      <td>-99</td>\n    </tr>\n    <tr>\n      <th>2053</th>\n      <td>-99</td>\n      <td>-99</td>\n      <td>-99</td>\n      <td>-99</td>\n      <td>-99</td>\n      <td>-99</td>\n      <td>-99</td>\n      <td>-99</td>\n      <td>-99</td>\n      <td>-99</td>\n      <td>-99</td>\n      <td>-99</td>\n      <td>-99</td>\n      <td>-99</td>\n      <td>-99</td>\n      <td>-99</td>\n      <td>-99</td>\n      <td>-99</td>\n    </tr>\n  </tbody>\n</table>\n<p>2054 rows × 18 columns</p>\n</div>"
     },
     "execution_count": 6,
     "metadata": {},
     "output_type": "execute_result"
    }
   ],
   "source": [
    "df[cols_with_one_unique_value]"
   ],
   "metadata": {
    "collapsed": false,
    "pycharm": {
     "name": "#%%\n"
    }
   }
  },
  {
   "cell_type": "code",
   "execution_count": 7,
   "outputs": [],
   "source": [
    "df = df.drop(cols_with_one_unique_value, axis=1)"
   ],
   "metadata": {
    "collapsed": false,
    "pycharm": {
     "name": "#%%\n"
    }
   }
  },
  {
   "cell_type": "code",
   "execution_count": 8,
   "outputs": [
    {
     "name": "stdout",
     "output_type": "stream",
     "text": [
      "Index([], dtype='object')\n"
     ]
    }
   ],
   "source": [
    "# find columns with all null values\n",
    "all_null_cols = df.columns[df.isna().all()]\n",
    "\n",
    "print(all_null_cols)"
   ],
   "metadata": {
    "collapsed": false,
    "pycharm": {
     "name": "#%%\n"
    }
   }
  },
  {
   "cell_type": "code",
   "execution_count": 9,
   "outputs": [
    {
     "data": {
      "text/plain": "   SRCID     IntDate  Mode  CF_Order  Q1  Q2 Q2_Oth    Q3 Q3_Oth  Q4  ...   \n0     39  2019-04-11     2         1   2  19    NaN  16.0    NaN   3  ...  \\\n1    156  2019-04-09     2         2   1  12    NaN  11.0    NaN   1  ...   \n2    605  2019-04-09     2         1   2 -98    NaN   NaN    NaN   3  ...   \n3     41  2019-04-18     2         1   2  16    NaN   5.0    NaN   3  ...   \n4   1295  2019-04-18     1         1   4  29    NaN  16.0    NaN   5  ...   \n\n    wt_design  wt_propensit   wt_base_anu   wt_wave_anu  weight_anu   \n0   4695.4258      1.150989   5384.734620    853.713782    0.091853  \\\n1   4997.3515      1.074450   5349.881695    908.609364    0.097759   \n2  16529.8031      1.074450  17695.871707  32062.736887    3.449705   \n3   6108.6230      1.150989   7005.395282   5064.031682    0.544851   \n4   4100.6080      1.150989   4702.594994   8231.010107    0.885594   \n\n   p_gender_sdc  p_age_group_sdc  p_education_sdc  p_state_sdc  StateMap  \n0           2.0              3.0              1.0          1.0       1.0  \n1           2.0              4.0              1.0          1.0       1.0  \n2           2.0              3.0              3.0          1.0       1.0  \n3           2.0              4.0              2.0          1.0       1.0  \n4           1.0              2.0              2.0          1.0       1.0  \n\n[5 rows x 184 columns]",
      "text/html": "<div>\n<style scoped>\n    .dataframe tbody tr th:only-of-type {\n        vertical-align: middle;\n    }\n\n    .dataframe tbody tr th {\n        vertical-align: top;\n    }\n\n    .dataframe thead th {\n        text-align: right;\n    }\n</style>\n<table border=\"1\" class=\"dataframe\">\n  <thead>\n    <tr style=\"text-align: right;\">\n      <th></th>\n      <th>SRCID</th>\n      <th>IntDate</th>\n      <th>Mode</th>\n      <th>CF_Order</th>\n      <th>Q1</th>\n      <th>Q2</th>\n      <th>Q2_Oth</th>\n      <th>Q3</th>\n      <th>Q3_Oth</th>\n      <th>Q4</th>\n      <th>...</th>\n      <th>wt_design</th>\n      <th>wt_propensit</th>\n      <th>wt_base_anu</th>\n      <th>wt_wave_anu</th>\n      <th>weight_anu</th>\n      <th>p_gender_sdc</th>\n      <th>p_age_group_sdc</th>\n      <th>p_education_sdc</th>\n      <th>p_state_sdc</th>\n      <th>StateMap</th>\n    </tr>\n  </thead>\n  <tbody>\n    <tr>\n      <th>0</th>\n      <td>39</td>\n      <td>2019-04-11</td>\n      <td>2</td>\n      <td>1</td>\n      <td>2</td>\n      <td>19</td>\n      <td>NaN</td>\n      <td>16.0</td>\n      <td>NaN</td>\n      <td>3</td>\n      <td>...</td>\n      <td>4695.4258</td>\n      <td>1.150989</td>\n      <td>5384.734620</td>\n      <td>853.713782</td>\n      <td>0.091853</td>\n      <td>2.0</td>\n      <td>3.0</td>\n      <td>1.0</td>\n      <td>1.0</td>\n      <td>1.0</td>\n    </tr>\n    <tr>\n      <th>1</th>\n      <td>156</td>\n      <td>2019-04-09</td>\n      <td>2</td>\n      <td>2</td>\n      <td>1</td>\n      <td>12</td>\n      <td>NaN</td>\n      <td>11.0</td>\n      <td>NaN</td>\n      <td>1</td>\n      <td>...</td>\n      <td>4997.3515</td>\n      <td>1.074450</td>\n      <td>5349.881695</td>\n      <td>908.609364</td>\n      <td>0.097759</td>\n      <td>2.0</td>\n      <td>4.0</td>\n      <td>1.0</td>\n      <td>1.0</td>\n      <td>1.0</td>\n    </tr>\n    <tr>\n      <th>2</th>\n      <td>605</td>\n      <td>2019-04-09</td>\n      <td>2</td>\n      <td>1</td>\n      <td>2</td>\n      <td>-98</td>\n      <td>NaN</td>\n      <td>NaN</td>\n      <td>NaN</td>\n      <td>3</td>\n      <td>...</td>\n      <td>16529.8031</td>\n      <td>1.074450</td>\n      <td>17695.871707</td>\n      <td>32062.736887</td>\n      <td>3.449705</td>\n      <td>2.0</td>\n      <td>3.0</td>\n      <td>3.0</td>\n      <td>1.0</td>\n      <td>1.0</td>\n    </tr>\n    <tr>\n      <th>3</th>\n      <td>41</td>\n      <td>2019-04-18</td>\n      <td>2</td>\n      <td>1</td>\n      <td>2</td>\n      <td>16</td>\n      <td>NaN</td>\n      <td>5.0</td>\n      <td>NaN</td>\n      <td>3</td>\n      <td>...</td>\n      <td>6108.6230</td>\n      <td>1.150989</td>\n      <td>7005.395282</td>\n      <td>5064.031682</td>\n      <td>0.544851</td>\n      <td>2.0</td>\n      <td>4.0</td>\n      <td>2.0</td>\n      <td>1.0</td>\n      <td>1.0</td>\n    </tr>\n    <tr>\n      <th>4</th>\n      <td>1295</td>\n      <td>2019-04-18</td>\n      <td>1</td>\n      <td>1</td>\n      <td>4</td>\n      <td>29</td>\n      <td>NaN</td>\n      <td>16.0</td>\n      <td>NaN</td>\n      <td>5</td>\n      <td>...</td>\n      <td>4100.6080</td>\n      <td>1.150989</td>\n      <td>4702.594994</td>\n      <td>8231.010107</td>\n      <td>0.885594</td>\n      <td>1.0</td>\n      <td>2.0</td>\n      <td>2.0</td>\n      <td>1.0</td>\n      <td>1.0</td>\n    </tr>\n  </tbody>\n</table>\n<p>5 rows × 184 columns</p>\n</div>"
     },
     "execution_count": 9,
     "metadata": {},
     "output_type": "execute_result"
    }
   ],
   "source": [
    "df.head()"
   ],
   "metadata": {
    "collapsed": false,
    "pycharm": {
     "name": "#%%\n"
    }
   }
  },
  {
   "cell_type": "code",
   "execution_count": 10,
   "outputs": [
    {
     "name": "stdout",
     "output_type": "stream",
     "text": [
      "Index(['Q2_Oth', 'Q3', 'Q3_Oth', 'Q4_Oth', 'Q14', 'Q15_Order', 'Q15a', 'Q15b',\n",
      "       'Q15c', 'Q15d', 'Q15e', 'Q15f', 'Q15g', 'Q15h', 'Q15i', 'R2', 'R3',\n",
      "       'R4', 'R5', 'R6', 'R7', 'R8', 'R9', 'R10', 'R11', 'R12', 'R13', 'R14',\n",
      "       'R15', 'R16', 'R17', 'R18', 'R19', 'R20', 'R21', 'R22', 'R23', 'R24',\n",
      "       'R25', 'R26', 'R27', 'R28', 'R29', 'R30', 'R31', 'S2', 'S3', 'S4', 'S5',\n",
      "       'S6', 'S7', 'S8', 'S9', 'S10', 'S11', 'S12', 'S13', 'S14', 'S15', 'S16',\n",
      "       'S17', 'S18', 'S19', 'S20', 'S21', 'S22', 'S23', 'S24', 'S25', 'S26',\n",
      "       'S27', 'S28', 'S29', 'S30', 'S31', 'Q23', 'Q24', 'Q25', 'p_gender_sdc',\n",
      "       'p_age_group_sdc', 'p_education_sdc', 'p_state_sdc', 'StateMap'],\n",
      "      dtype='object')\n"
     ]
    }
   ],
   "source": [
    "# find columns with null values\n",
    "null_cols = df.columns[df.isna().any()]\n",
    "\n",
    "print(null_cols)"
   ],
   "metadata": {
    "collapsed": false,
    "pycharm": {
     "name": "#%%\n"
    }
   }
  },
  {
   "cell_type": "code",
   "execution_count": 11,
   "outputs": [
    {
     "data": {
      "text/plain": "count    83.000000\nmean      0.739298\nstd       0.296217\nmin       0.002921\n25%       0.535054\n50%       0.868549\n75%       0.967137\nmax       0.996592\ndtype: float64"
     },
     "execution_count": 11,
     "metadata": {},
     "output_type": "execute_result"
    }
   ],
   "source": [
    "df[null_cols].isna().mean().describe()"
   ],
   "metadata": {
    "collapsed": false,
    "pycharm": {
     "name": "#%%\n"
    }
   }
  },
  {
   "cell_type": "code",
   "execution_count": 12,
   "outputs": [
    {
     "data": {
      "text/plain": "<Axes: xlabel='Proportion of null values in the attribute', ylabel='Frequency'>"
     },
     "execution_count": 12,
     "metadata": {},
     "output_type": "execute_result"
    },
    {
     "data": {
      "text/plain": "<Figure size 640x480 with 1 Axes>",
      "image/png": "[encoded data removed]"
     },
     "metadata": {},
     "output_type": "display_data"
    }
   ],
   "source": [
    "df[null_cols].isna().mean().plot(kind='hist' ,xlabel='Proportion of null values in the attribute')"
   ],
   "metadata": {
    "collapsed": false,
    "pycharm": {
     "name": "#%%\n"
    }
   }
  },
  {
   "cell_type": "code",
   "execution_count": 13,
   "outputs": [
    {
     "data": {
      "text/plain": "<Axes: xlabel='Proportion of null values in the attribute', ylabel='Frequency'>"
     },
     "execution_count": 13,
     "metadata": {},
     "output_type": "execute_result"
    },
    {
     "data": {
      "text/plain": "<Figure size 640x480 with 1 Axes>",
      "image/png": "[encoded data removed]"
     },
     "metadata": {},
     "output_type": "display_data"
    }
   ],
   "source": [
    "df.nunique().plot(kind='hist' ,xlabel='Proportion of null values in the attribute')"
   ],
   "metadata": {
    "collapsed": false,
    "pycharm": {
     "name": "#%%\n"
    }
   }
  },
  {
   "cell_type": "code",
   "execution_count": 14,
   "outputs": [
    {
     "data": {
      "text/plain": "count     184.000000\nmean       94.086957\nstd       389.915226\nmin         2.000000\n25%         2.000000\n50%         4.000000\n75%         6.000000\nmax      2054.000000\ndtype: float64"
     },
     "execution_count": 14,
     "metadata": {},
     "output_type": "execute_result"
    }
   ],
   "source": [
    "df.nunique().describe()"
   ],
   "metadata": {
    "collapsed": false,
    "pycharm": {
     "name": "#%%\n"
    }
   }
  },
  {
   "cell_type": "code",
   "execution_count": 15,
   "outputs": [],
   "source": [
    "boolean_cols = df.columns[df.nunique() == 2]"
   ],
   "metadata": {
    "collapsed": false,
    "pycharm": {
     "name": "#%%\n"
    }
   }
  },
  {
   "cell_type": "code",
   "execution_count": 16,
   "outputs": [
    {
     "data": {
      "text/plain": "      Mode  CF_Order  DUM1      Q10_Order Q12_Order  SECTION_DUM  Q13_1   \n0        2         1     2  _1,_2,_98,_99     a,b,c            1      0  \\\n1        2         2     2  _1,_2,_98,_99     c,b,a            1      0   \n2        2         1     1  _2,_1,_98,_99     a,b,c            2      0   \n3        2         1     2  _1,_2,_98,_99     a,b,c            1      1   \n4        1         1     2  _2,_1,_98,_99     a,b,c            2      0   \n...    ...       ...   ...            ...       ...          ...    ...   \n2049     2         1     1  _1,_2,_98,_99     a,b,c            2      0   \n2050     2         1     2  _1,_2,_98,_99     a,b,c            1      0   \n2051     2         2     1  _1,_2,_98,_99     c,b,a            2      0   \n2052     2         1     2  _2,_1,_98,_99     a,b,c            2      0   \n2053     2         2     1  _2,_1,_98,_99     c,b,a            1      1   \n\n      Q13_2  Q13_3  Q13_4  ...  S25  S27  S28  S29  S30  S31  Q25   \n0         0      0      0  ...  NaN  NaN  NaN  NaN  NaN  NaN  2.0  \\\n1         0      0      0  ...  NaN  NaN  NaN  NaN  NaN  NaN  2.0   \n2         0      0      1  ...  NaN  NaN  NaN  NaN  NaN  NaN  NaN   \n3         0      0      0  ...  NaN  NaN  NaN  NaN  NaN  NaN  NaN   \n4         1      0      1  ...  NaN  NaN  NaN  NaN  NaN  NaN  NaN   \n...     ...    ...    ...  ...  ...  ...  ...  ...  ...  ...  ...   \n2049      0      0      0  ...  NaN  NaN  NaN  NaN  NaN  NaN  1.0   \n2050      0      0      1  ...  NaN  NaN  NaN  NaN  NaN  NaN  NaN   \n2051      0      0      0  ...  NaN  NaN  NaN  NaN  NaN  NaN  1.0   \n2052      0      1      1  ...  NaN  NaN  NaN  NaN  NaN  NaN  2.0   \n2053      1      0      1  ...  NaN  NaN  NaN  NaN  NaN  NaN  NaN   \n\n      wt_internet  wt_volunteer  p_gender_sdc  \n0               1             1           2.0  \n1               1             1           2.0  \n2               1             2           2.0  \n3               1             2           2.0  \n4               1             1           1.0  \n...           ...           ...           ...  \n2049            1             1           2.0  \n2050            1             2           2.0  \n2051            1             2           1.0  \n2052            1             2           1.0  \n2053            1             2           1.0  \n\n[2054 rows x 64 columns]",
      "text/html": "<div>\n<style scoped>\n    .dataframe tbody tr th:only-of-type {\n        vertical-align: middle;\n    }\n\n    .dataframe tbody tr th {\n        vertical-align: top;\n    }\n\n    .dataframe thead th {\n        text-align: right;\n    }\n</style>\n<table border=\"1\" class=\"dataframe\">\n  <thead>\n    <tr style=\"text-align: right;\">\n      <th></th>\n      <th>Mode</th>\n      <th>CF_Order</th>\n      <th>DUM1</th>\n      <th>Q10_Order</th>\n      <th>Q12_Order</th>\n      <th>SECTION_DUM</th>\n      <th>Q13_1</th>\n      <th>Q13_2</th>\n      <th>Q13_3</th>\n      <th>Q13_4</th>\n      <th>...</th>\n      <th>S25</th>\n      <th>S27</th>\n      <th>S28</th>\n      <th>S29</th>\n      <th>S30</th>\n      <th>S31</th>\n      <th>Q25</th>\n      <th>wt_internet</th>\n      <th>wt_volunteer</th>\n      <th>p_gender_sdc</th>\n    </tr>\n  </thead>\n  <tbody>\n    <tr>\n      <th>0</th>\n      <td>2</td>\n      <td>1</td>\n      <td>2</td>\n      <td>_1,_2,_98,_99</td>\n      <td>a,b,c</td>\n      <td>1</td>\n      <td>0</td>\n      <td>0</td>\n      <td>0</td>\n      <td>0</td>\n      <td>...</td>\n      <td>NaN</td>\n      <td>NaN</td>\n      <td>NaN</td>\n      <td>NaN</td>\n      <td>NaN</td>\n      <td>NaN</td>\n      <td>2.0</td>\n      <td>1</td>\n      <td>1</td>\n      <td>2.0</td>\n    </tr>\n    <tr>\n      <th>1</th>\n      <td>2</td>\n      <td>2</td>\n      <td>2</td>\n      <td>_1,_2,_98,_99</td>\n      <td>c,b,a</td>\n      <td>1</td>\n      <td>0</td>\n      <td>0</td>\n      <td>0</td>\n      <td>0</td>\n      <td>...</td>\n      <td>NaN</td>\n      <td>NaN</td>\n      <td>NaN</td>\n      <td>NaN</td>\n      <td>NaN</td>\n      <td>NaN</td>\n      <td>2.0</td>\n      <td>1</td>\n      <td>1</td>\n      <td>2.0</td>\n    </tr>\n    <tr>\n      <th>2</th>\n      <td>2</td>\n      <td>1</td>\n      <td>1</td>\n      <td>_2,_1,_98,_99</td>\n      <td>a,b,c</td>\n      <td>2</td>\n      <td>0</td>\n      <td>0</td>\n      <td>0</td>\n      <td>1</td>\n      <td>...</td>\n      <td>NaN</td>\n      <td>NaN</td>\n      <td>NaN</td>\n      <td>NaN</td>\n      <td>NaN</td>\n      <td>NaN</td>\n      <td>NaN</td>\n      <td>1</td>\n      <td>2</td>\n      <td>2.0</td>\n    </tr>\n    <tr>\n      <th>3</th>\n      <td>2</td>\n      <td>1</td>\n      <td>2</td>\n      <td>_1,_2,_98,_99</td>\n      <td>a,b,c</td>\n      <td>1</td>\n      <td>1</td>\n      <td>0</td>\n      <td>0</td>\n      <td>0</td>\n      <td>...</td>\n      <td>NaN</td>\n      <td>NaN</td>\n      <td>NaN</td>\n      <td>NaN</td>\n      <td>NaN</td>\n      <td>NaN</td>\n      <td>NaN</td>\n      <td>1</td>\n      <td>2</td>\n      <td>2.0</td>\n    </tr>\n    <tr>\n      <th>4</th>\n      <td>1</td>\n      <td>1</td>\n      <td>2</td>\n      <td>_2,_1,_98,_99</td>\n      <td>a,b,c</td>\n      <td>2</td>\n      <td>0</td>\n      <td>1</td>\n      <td>0</td>\n      <td>1</td>\n      <td>...</td>\n      <td>NaN</td>\n      <td>NaN</td>\n      <td>NaN</td>\n      <td>NaN</td>\n      <td>NaN</td>\n      <td>NaN</td>\n      <td>NaN</td>\n      <td>1</td>\n      <td>1</td>\n      <td>1.0</td>\n    </tr>\n    <tr>\n      <th>...</th>\n      <td>...</td>\n      <td>...</td>\n      <td>...</td>\n      <td>...</td>\n      <td>...</td>\n      <td>...</td>\n      <td>...</td>\n      <td>...</td>\n      <td>...</td>\n      <td>...</td>\n      <td>...</td>\n      <td>...</td>\n      <td>...</td>\n      <td>...</td>\n      <td>...</td>\n      <td>...</td>\n      <td>...</td>\n      <td>...</td>\n      <td>...</td>\n      <td>...</td>\n      <td>...</td>\n    </tr>\n    <tr>\n      <th>2049</th>\n      <td>2</td>\n      <td>1</td>\n      <td>1</td>\n      <td>_1,_2,_98,_99</td>\n      <td>a,b,c</td>\n      <td>2</td>\n      <td>0</td>\n      <td>0</td>\n      <td>0</td>\n      <td>0</td>\n      <td>...</td>\n      <td>NaN</td>\n      <td>NaN</td>\n      <td>NaN</td>\n      <td>NaN</td>\n      <td>NaN</td>\n      <td>NaN</td>\n      <td>1.0</td>\n      <td>1</td>\n      <td>1</td>\n      <td>2.0</td>\n    </tr>\n    <tr>\n      <th>2050</th>\n      <td>2</td>\n      <td>1</td>\n      <td>2</td>\n      <td>_1,_2,_98,_99</td>\n      <td>a,b,c</td>\n      <td>1</td>\n      <td>0</td>\n      <td>0</td>\n      <td>0</td>\n      <td>1</td>\n      <td>...</td>\n      <td>NaN</td>\n      <td>NaN</td>\n      <td>NaN</td>\n      <td>NaN</td>\n      <td>NaN</td>\n      <td>NaN</td>\n      <td>NaN</td>\n      <td>1</td>\n      <td>2</td>\n      <td>2.0</td>\n    </tr>\n    <tr>\n      <th>2051</th>\n      <td>2</td>\n      <td>2</td>\n      <td>1</td>\n      <td>_1,_2,_98,_99</td>\n      <td>c,b,a</td>\n      <td>2</td>\n      <td>0</td>\n      <td>0</td>\n      <td>0</td>\n      <td>0</td>\n      <td>...</td>\n      <td>NaN</td>\n      <td>NaN</td>\n      <td>NaN</td>\n      <td>NaN</td>\n      <td>NaN</td>\n      <td>NaN</td>\n      <td>1.0</td>\n      <td>1</td>\n      <td>2</td>\n      <td>1.0</td>\n    </tr>\n    <tr>\n      <th>2052</th>\n      <td>2</td>\n      <td>1</td>\n      <td>2</td>\n      <td>_2,_1,_98,_99</td>\n      <td>a,b,c</td>\n      <td>2</td>\n      <td>0</td>\n      <td>0</td>\n      <td>1</td>\n      <td>1</td>\n      <td>...</td>\n      <td>NaN</td>\n      <td>NaN</td>\n      <td>NaN</td>\n      <td>NaN</td>\n      <td>NaN</td>\n      <td>NaN</td>\n      <td>2.0</td>\n      <td>1</td>\n      <td>2</td>\n      <td>1.0</td>\n    </tr>\n    <tr>\n      <th>2053</th>\n      <td>2</td>\n      <td>2</td>\n      <td>1</td>\n      <td>_2,_1,_98,_99</td>\n      <td>c,b,a</td>\n      <td>1</td>\n      <td>1</td>\n      <td>1</td>\n      <td>0</td>\n      <td>1</td>\n      <td>...</td>\n      <td>NaN</td>\n      <td>NaN</td>\n      <td>NaN</td>\n      <td>NaN</td>\n      <td>NaN</td>\n      <td>NaN</td>\n      <td>NaN</td>\n      <td>1</td>\n      <td>2</td>\n      <td>1.0</td>\n    </tr>\n  </tbody>\n</table>\n<p>2054 rows × 64 columns</p>\n</div>"
     },
     "execution_count": 16,
     "metadata": {},
     "output_type": "execute_result"
    }
   ],
   "source": [
    "df[boolean_cols]"
   ],
   "metadata": {
    "collapsed": false,
    "pycharm": {
     "name": "#%%\n"
    }
   }
  },
  {
   "cell_type": "code",
   "execution_count": 17,
   "outputs": [],
   "source": [
    "# Redundant columns\n",
    "redundant_cols = ['IntDate',\n",
    "                  'Mode',\n",
    "                  'CF_Order',\n",
    "                  'DUM1',\n",
    "                  'DUM2',\n",
    "                  'Q5_Order',\n",
    "                  'Q7_Order',\n",
    "                  'Q9_Order',\n",
    "                  'Q10_Order',\n",
    "                  'Q11_Order',\n",
    "                  'Q12_Order',\n",
    "                  'SECTION_DUM',\n",
    "                  'Q15_Order',\n",
    "                  'Q16_Order',\n",
    "                  'Q17_Order',\n",
    "                  'wt_internet',\n",
    "                'wt_tel',\n",
    "                'wt_design',\n",
    "                'wt_volunteer',\n",
    "                'wt_propensit',\n",
    "                'wt_base_anu',\n",
    "                'wt_wave_anu',\n",
    "                'weight_anu',]\n",
    "\n",
    "\n",
    "df = df.drop(redundant_cols, axis=1)"
   ],
   "metadata": {
    "collapsed": false,
    "pycharm": {
     "name": "#%%\n"
    }
   }
  },
  {
   "cell_type": "code",
   "execution_count": 17,
   "outputs": [],
   "source": [],
   "metadata": {
    "collapsed": false,
    "pycharm": {
     "name": "#%%\n"
    }
   }
  }
 ],
 "metadata": {
  "kernelspec": {
   "name": "kedro_data_mining_course_anu_2023",
   "language": "python",
   "display_name": "Kedro (data_mining_course_anu_2023)"
  },
  "language_info": {
   "codemirror_mode": {
    "name": "ipython",
    "version": 2
   },
   "file_extension": ".py",
   "mimetype": "text/x-python",
   "name": "python",
   "nbconvert_exporter": "python",
   "pygments_lexer": "ipython2",
   "version": "2.7.6"
  }
 },
 "nbformat": 4,
 "nbformat_minor": 0
}