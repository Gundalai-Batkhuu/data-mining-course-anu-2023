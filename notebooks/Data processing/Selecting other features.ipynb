{
 "cells": [
  {
   "cell_type": "code",
   "execution_count": 66,
   "metadata": {
    "collapsed": true
   },
   "outputs": [],
   "source": [
    "import numpy as np\n",
    "import pandas as pd"
   ]
  },
  {
   "cell_type": "code",
   "execution_count": 67,
   "outputs": [
    {
     "name": "stdout",
     "output_type": "stream",
     "text": [
      "2023-05-06 14:37:28,254 - kedro.io.data_catalog - INFO - Loading data from 'primary_data' (CSVDataSet)...\n"
     ]
    }
   ],
   "source": [
    "primary_data = catalog.load(\"primary_data\")"
   ],
   "metadata": {
    "collapsed": false,
    "pycharm": {
     "name": "#%%\n"
    }
   }
  },
  {
   "cell_type": "code",
   "execution_count": 68,
   "outputs": [],
   "source": [
    "cols = list(primary_data.columns)"
   ],
   "metadata": {
    "collapsed": false,
    "pycharm": {
     "name": "#%%\n"
    }
   }
  },
  {
   "cell_type": "code",
   "execution_count": 69,
   "outputs": [
    {
     "data": {
      "text/plain": "['Unnamed: 0',\n 'SRCID',\n 'Q1',\n 'Q2',\n 'Q2_Oth',\n 'Q3',\n 'Q3_Oth',\n 'Q4',\n 'Q4_Oth',\n 'Q5a',\n 'Q5b',\n 'Q5c',\n 'Q5d',\n 'Q5e',\n 'Q5f',\n 'Q5g',\n 'Q5h',\n 'Q5i',\n 'Q5j',\n 'Q5k',\n 'Q5m',\n 'Q6',\n 'Q7a',\n 'Q7b',\n 'Q7c',\n 'Q7d',\n 'Q7e',\n 'Q7f',\n 'Q7g',\n 'Q7h',\n 'Q7i',\n 'Q8',\n 'Q9a',\n 'Q9b',\n 'Q9c',\n 'Q9d',\n 'Q9e',\n 'Q9f',\n 'Q9g',\n 'Q9h',\n 'Q9i',\n 'Q9j',\n 'Q9k',\n 'Q10',\n 'Q11a',\n 'Q11b',\n 'Q11c',\n 'Q11d',\n 'Q11e',\n 'Q11f',\n 'Q11g',\n 'Q12',\n 'Q13_1',\n 'Q13_2',\n 'Q13_3',\n 'Q13_4',\n 'Q13_5',\n 'Q13_6',\n 'Q13_7',\n 'Q13_8',\n 'Q13_9',\n 'Q13_10',\n 'Q13_11',\n 'Q13_12',\n 'Q13_DK',\n 'Q13_REF',\n 'Q14',\n 'Q15a',\n 'Q15b',\n 'Q15c',\n 'Q15d',\n 'Q15e',\n 'Q15f',\n 'Q15g',\n 'Q15h',\n 'Q15i',\n 'Q16a',\n 'Q16b',\n 'Q16c',\n 'Q16d',\n 'Q16e',\n 'Q16f',\n 'Q16g',\n 'Q16h',\n 'Q16i',\n 'Q17a',\n 'Q17b',\n 'Q17c',\n 'Q17d',\n 'Q18',\n 'R1',\n 'R2',\n 'R3',\n 'R4',\n 'R5',\n 'R6',\n 'R7',\n 'R8',\n 'R9',\n 'R10',\n 'R11',\n 'R12',\n 'R13',\n 'R14',\n 'R15',\n 'R16',\n 'R17',\n 'R18',\n 'R19',\n 'R20',\n 'R21',\n 'R22',\n 'R23',\n 'R24',\n 'R25',\n 'R26',\n 'R27',\n 'R28',\n 'R29',\n 'R30',\n 'R31',\n 'Q20',\n 'S1',\n 'S2',\n 'S3',\n 'S4',\n 'S5',\n 'S6',\n 'S7',\n 'S8',\n 'S9',\n 'S10',\n 'S11',\n 'S12',\n 'S13',\n 'S14',\n 'S15',\n 'S16',\n 'S17',\n 'S18',\n 'S19',\n 'S20',\n 'S21',\n 'S22',\n 'S23',\n 'S24',\n 'S25',\n 'S26',\n 'S27',\n 'S28',\n 'S29',\n 'S30',\n 'S31',\n 'Q22',\n 'Q23',\n 'Q24',\n 'Q25',\n 'p_state',\n 'p_region',\n 'p_geography',\n 'p_seifa',\n 'p_gender',\n 'p_age',\n 'p_age_group',\n 'p_birthgroup',\n 'p_citizen',\n 'p_lote',\n 'p_atsi',\n 'p_house_str',\n 'p_schooling',\n 'p_education',\n 'p_phone',\n 'wt_agehedu12',\n 'wt_geography',\n 'wt_sex',\n 'p_gender_sdc',\n 'p_age_group_sdc',\n 'p_education_sdc',\n 'p_state_sdc',\n 'StateMap']"
     },
     "execution_count": 69,
     "metadata": {},
     "output_type": "execute_result"
    }
   ],
   "source": [
    "cols"
   ],
   "metadata": {
    "collapsed": false,
    "pycharm": {
     "name": "#%%\n"
    }
   }
  },
  {
   "cell_type": "code",
   "execution_count": 70,
   "outputs": [],
   "source": [
    "qts = ['SRCID',\n",
    "'Q16a',\n",
    " 'Q16b',\n",
    " 'Q16c',\n",
    " 'Q16d',\n",
    " 'Q16e',\n",
    " 'Q16f',\n",
    " 'Q16g',\n",
    " 'Q16h',\n",
    " 'Q16i',\n",
    " 'Q17a',\n",
    " 'Q17b',\n",
    " 'Q17c',\n",
    " 'Q17d',\n",
    " 'Q18',\n",
    " 'Q20',\n",
    " 'Q22',\n",
    " ]"
   ],
   "metadata": {
    "collapsed": false,
    "pycharm": {
     "name": "#%%\n"
    }
   }
  },
  {
   "cell_type": "code",
   "execution_count": 71,
   "outputs": [],
   "source": [
    "df = primary_data[qts]"
   ],
   "metadata": {
    "collapsed": false,
    "pycharm": {
     "name": "#%%\n"
    }
   }
  },
  {
   "cell_type": "code",
   "execution_count": 72,
   "outputs": [
    {
     "name": "stdout",
     "output_type": "stream",
     "text": [
      "<class 'pandas.core.frame.DataFrame'>\n",
      "RangeIndex: 2054 entries, 0 to 2053\n",
      "Data columns (total 17 columns):\n",
      " #   Column  Non-Null Count  Dtype  \n",
      "---  ------  --------------  -----  \n",
      " 0   SRCID   2054 non-null   int64  \n",
      " 1   Q16a    2045 non-null   float64\n",
      " 2   Q16b    2052 non-null   float64\n",
      " 3   Q16c    2047 non-null   float64\n",
      " 4   Q16d    2027 non-null   float64\n",
      " 5   Q16e    2042 non-null   float64\n",
      " 6   Q16f    2041 non-null   float64\n",
      " 7   Q16g    2045 non-null   float64\n",
      " 8   Q16h    2040 non-null   float64\n",
      " 9   Q16i    2038 non-null   float64\n",
      " 10  Q17a    2031 non-null   float64\n",
      " 11  Q17b    2032 non-null   float64\n",
      " 12  Q17c    1962 non-null   float64\n",
      " 13  Q17d    2030 non-null   float64\n",
      " 14  Q18     2052 non-null   float64\n",
      " 15  Q20     2048 non-null   float64\n",
      " 16  Q22     2048 non-null   float64\n",
      "dtypes: float64(16), int64(1)\n",
      "memory usage: 272.9 KB\n"
     ]
    }
   ],
   "source": [
    "df.info()"
   ],
   "metadata": {
    "collapsed": false,
    "pycharm": {
     "name": "#%%\n"
    }
   }
  },
  {
   "cell_type": "code",
   "execution_count": 73,
   "outputs": [
    {
     "data": {
      "text/plain": "SRCID    2054\nQ16a        4\nQ16b        4\nQ16c        4\nQ16d        4\nQ16e        4\nQ16f        4\nQ16g        4\nQ16h        4\nQ16i        4\nQ17a        4\nQ17b        4\nQ17c        4\nQ17d        4\nQ18        11\nQ20        11\nQ22         3\ndtype: int64"
     },
     "execution_count": 73,
     "metadata": {},
     "output_type": "execute_result"
    }
   ],
   "source": [
    "df.nunique()"
   ],
   "metadata": {
    "collapsed": false,
    "pycharm": {
     "name": "#%%\n"
    }
   }
  },
  {
   "cell_type": "code",
   "execution_count": 74,
   "outputs": [],
   "source": [
    "gambling_variety = primary_data[['SRCID','Q13_1',\n",
    " 'Q13_2',\n",
    " 'Q13_3',\n",
    " 'Q13_4',\n",
    " 'Q13_5',\n",
    " 'Q13_6',\n",
    " 'Q13_7',\n",
    " 'Q13_8',\n",
    " 'Q13_9',\n",
    " 'Q13_10',\n",
    " 'Q13_11',]]"
   ],
   "metadata": {
    "collapsed": false,
    "pycharm": {
     "name": "#%%\n"
    }
   }
  },
  {
   "cell_type": "code",
   "execution_count": 75,
   "outputs": [
    {
     "name": "stdout",
     "output_type": "stream",
     "text": [
      "<class 'pandas.core.frame.DataFrame'>\n",
      "RangeIndex: 2054 entries, 0 to 2053\n",
      "Data columns (total 12 columns):\n",
      " #   Column  Non-Null Count  Dtype\n",
      "---  ------  --------------  -----\n",
      " 0   SRCID   2054 non-null   int64\n",
      " 1   Q13_1   2054 non-null   int64\n",
      " 2   Q13_2   2054 non-null   int64\n",
      " 3   Q13_3   2054 non-null   int64\n",
      " 4   Q13_4   2054 non-null   int64\n",
      " 5   Q13_5   2054 non-null   int64\n",
      " 6   Q13_6   2054 non-null   int64\n",
      " 7   Q13_7   2054 non-null   int64\n",
      " 8   Q13_8   2054 non-null   int64\n",
      " 9   Q13_9   2054 non-null   int64\n",
      " 10  Q13_10  2054 non-null   int64\n",
      " 11  Q13_11  2054 non-null   int64\n",
      "dtypes: int64(12)\n",
      "memory usage: 192.7 KB\n"
     ]
    }
   ],
   "source": [
    "gambling_variety.info()"
   ],
   "metadata": {
    "collapsed": false,
    "pycharm": {
     "name": "#%%\n"
    }
   }
  },
  {
   "cell_type": "code",
   "execution_count": 76,
   "outputs": [],
   "source": [
    "gambling_variety = gambling_variety[[\n",
    " 'Q13_1',\n",
    " 'Q13_2',\n",
    " 'Q13_3',\n",
    " 'Q13_4',\n",
    " 'Q13_5',\n",
    " 'Q13_6',\n",
    " 'Q13_7',\n",
    " 'Q13_8',\n",
    " 'Q13_9',\n",
    " 'Q13_10',\n",
    " 'Q13_11']].sum(axis=1)"
   ],
   "metadata": {
    "collapsed": false,
    "pycharm": {
     "name": "#%%\n"
    }
   }
  },
  {
   "cell_type": "code",
   "execution_count": 77,
   "outputs": [
    {
     "data": {
      "text/plain": "<Axes: ylabel='Frequency'>"
     },
     "execution_count": 77,
     "metadata": {},
     "output_type": "execute_result"
    },
    {
     "data": {
      "text/plain": "<Figure size 640x480 with 1 Axes>",
      "image/png": "[encoded data removed]"
     },
     "metadata": {},
     "output_type": "display_data"
    }
   ],
   "source": [
    "gambling_variety.plot(kind='hist')"
   ],
   "metadata": {
    "collapsed": false,
    "pycharm": {
     "name": "#%%\n"
    }
   }
  },
  {
   "cell_type": "code",
   "execution_count": 78,
   "outputs": [
    {
     "name": "stdout",
     "output_type": "stream",
     "text": [
      "<class 'pandas.core.series.Series'>\n",
      "RangeIndex: 2054 entries, 0 to 2053\n",
      "Series name: None\n",
      "Non-Null Count  Dtype\n",
      "--------------  -----\n",
      "2054 non-null   int64\n",
      "dtypes: int64(1)\n",
      "memory usage: 16.2 KB\n"
     ]
    }
   ],
   "source": [
    "gambling_variety.info()\n"
   ],
   "metadata": {
    "collapsed": false,
    "pycharm": {
     "name": "#%%\n"
    }
   }
  },
  {
   "cell_type": "code",
   "execution_count": 78,
   "outputs": [],
   "source": [],
   "metadata": {
    "collapsed": false,
    "pycharm": {
     "name": "#%%\n"
    }
   }
  }
 ],
 "metadata": {
  "kernelspec": {
   "name": "kedro_data_mining_course_anu_2023",
   "language": "python",
   "display_name": "Kedro (data_mining_course_anu_2023)"
  },
  "language_info": {
   "codemirror_mode": {
    "name": "ipython",
    "version": 2
   },
   "file_extension": ".py",
   "mimetype": "text/x-python",
   "name": "python",
   "nbconvert_exporter": "python",
   "pygments_lexer": "ipython2",
   "version": "2.7.6"
  }
 },
 "nbformat": 4,
 "nbformat_minor": 0
}