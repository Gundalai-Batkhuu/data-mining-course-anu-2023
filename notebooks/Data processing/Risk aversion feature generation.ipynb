{
 "cells": [
  {
   "cell_type": "code",
   "execution_count": 29,
   "metadata": {
    "collapsed": true
   },
   "outputs": [
    {
     "name": "stdout",
     "output_type": "stream",
     "text": [
      "2023-05-04 22:54:50,203 - kedro.io.data_catalog - INFO - Loading data from 'feature_data_r' (CSVDataSet)...\n"
     ]
    }
   ],
   "source": [
    "df = catalog.load(\"feature_data_r\")"
   ]
  },
  {
   "cell_type": "code",
   "execution_count": 30,
   "outputs": [],
   "source": [
    "# 0.1-1 normalize 'Column1' where 1 is the minimum value and 0 is the maximum value\n",
    "df['risk_premium_normalised'] = 0.1 + (df['min_risk_premium_to_bet'].max() - df['min_risk_premium_to_bet']) / (df['min_risk_premium_to_bet'].max() - df['min_risk_premium_to_bet'].min()) * 0.9"
   ],
   "metadata": {
    "collapsed": false,
    "pycharm": {
     "name": "#%%\n"
    }
   }
  },
  {
   "cell_type": "code",
   "execution_count": 31,
   "outputs": [],
   "source": [
    "df['min_risk_premium_to_bet'] = df['min_risk_premium_to_bet'].fillna(0)\n",
    "df['risk_premium_normalised'] = df['risk_premium_normalised'].fillna(0)"
   ],
   "metadata": {
    "collapsed": false,
    "pycharm": {
     "name": "#%%\n"
    }
   }
  },
  {
   "cell_type": "code",
   "execution_count": 32,
   "outputs": [],
   "source": [
    "# create new column based on values of old column\n",
    "df['risk_aversion'] = df['min_risk_premium_to_bet'].apply(lambda x: 2 if x < 0 else (1 if x > 0 else 0))"
   ],
   "metadata": {
    "collapsed": false,
    "pycharm": {
     "name": "#%%\n"
    }
   }
  },
  {
   "cell_type": "code",
   "execution_count": 33,
   "outputs": [
    {
     "name": "stdout",
     "output_type": "stream",
     "text": [
      "<class 'pandas.core.frame.DataFrame'>\n",
      "RangeIndex: 2054 entries, 0 to 2053\n",
      "Data columns (total 5 columns):\n",
      " #   Column                   Non-Null Count  Dtype  \n",
      "---  ------                   --------------  -----  \n",
      " 0   Unnamed: 0               2054 non-null   int64  \n",
      " 1   SRCID                    2054 non-null   int64  \n",
      " 2   min_risk_premium_to_bet  2054 non-null   float64\n",
      " 3   risk_premium_normalised  2054 non-null   float64\n",
      " 4   risk_aversion            2054 non-null   int64  \n",
      "dtypes: float64(2), int64(3)\n",
      "memory usage: 80.4 KB\n"
     ]
    }
   ],
   "source": [
    "df.info()"
   ],
   "metadata": {
    "collapsed": false,
    "pycharm": {
     "name": "#%%\n"
    }
   }
  },
  {
   "cell_type": "code",
   "execution_count": 34,
   "outputs": [
    {
     "data": {
      "text/plain": "   Unnamed: 0  SRCID  min_risk_premium_to_bet  risk_premium_normalised   \n0           0     39                    420.0                     0.10  \\\n1           1    156                    390.0                     0.13   \n2           2    605                    240.0                     0.28   \n3           3     41                    420.0                     0.10   \n4           4   1295                    180.0                     0.34   \n\n   risk_aversion  \n0              1  \n1              1  \n2              1  \n3              1  \n4              1  ",
      "text/html": "<div>\n<style scoped>\n    .dataframe tbody tr th:only-of-type {\n        vertical-align: middle;\n    }\n\n    .dataframe tbody tr th {\n        vertical-align: top;\n    }\n\n    .dataframe thead th {\n        text-align: right;\n    }\n</style>\n<table border=\"1\" class=\"dataframe\">\n  <thead>\n    <tr style=\"text-align: right;\">\n      <th></th>\n      <th>Unnamed: 0</th>\n      <th>SRCID</th>\n      <th>min_risk_premium_to_bet</th>\n      <th>risk_premium_normalised</th>\n      <th>risk_aversion</th>\n    </tr>\n  </thead>\n  <tbody>\n    <tr>\n      <th>0</th>\n      <td>0</td>\n      <td>39</td>\n      <td>420.0</td>\n      <td>0.10</td>\n      <td>1</td>\n    </tr>\n    <tr>\n      <th>1</th>\n      <td>1</td>\n      <td>156</td>\n      <td>390.0</td>\n      <td>0.13</td>\n      <td>1</td>\n    </tr>\n    <tr>\n      <th>2</th>\n      <td>2</td>\n      <td>605</td>\n      <td>240.0</td>\n      <td>0.28</td>\n      <td>1</td>\n    </tr>\n    <tr>\n      <th>3</th>\n      <td>3</td>\n      <td>41</td>\n      <td>420.0</td>\n      <td>0.10</td>\n      <td>1</td>\n    </tr>\n    <tr>\n      <th>4</th>\n      <td>4</td>\n      <td>1295</td>\n      <td>180.0</td>\n      <td>0.34</td>\n      <td>1</td>\n    </tr>\n  </tbody>\n</table>\n</div>"
     },
     "execution_count": 34,
     "metadata": {},
     "output_type": "execute_result"
    }
   ],
   "source": [
    "df.head()"
   ],
   "metadata": {
    "collapsed": false,
    "pycharm": {
     "name": "#%%\n"
    }
   }
  },
  {
   "cell_type": "code",
   "execution_count": 35,
   "outputs": [
    {
     "data": {
      "text/plain": "        Unnamed: 0        SRCID  min_risk_premium_to_bet   \ncount  2054.000000  2054.000000              2054.000000  \\\nmean   1026.500000  1117.469328               175.428432   \nstd     593.083046   679.487718               176.472130   \nmin       0.000000     3.000000              -480.000000   \n25%     513.250000   542.250000                30.000000   \n50%    1026.500000  1079.500000               180.000000   \n75%    1539.750000  1633.750000               330.000000   \nmax    2053.000000  2535.000000               420.000000   \n\n       risk_premium_normalised  risk_aversion  \ncount              2054.000000    2054.000000  \nmean                  0.260774       0.903116  \nstd                   0.195698       0.482383  \nmin                   0.000000       0.000000  \n25%                   0.130000       1.000000  \n50%                   0.250000       1.000000  \n75%                   0.400000       1.000000  \nmax                   1.000000       2.000000  ",
      "text/html": "<div>\n<style scoped>\n    .dataframe tbody tr th:only-of-type {\n        vertical-align: middle;\n    }\n\n    .dataframe tbody tr th {\n        vertical-align: top;\n    }\n\n    .dataframe thead th {\n        text-align: right;\n    }\n</style>\n<table border=\"1\" class=\"dataframe\">\n  <thead>\n    <tr style=\"text-align: right;\">\n      <th></th>\n      <th>Unnamed: 0</th>\n      <th>SRCID</th>\n      <th>min_risk_premium_to_bet</th>\n      <th>risk_premium_normalised</th>\n      <th>risk_aversion</th>\n    </tr>\n  </thead>\n  <tbody>\n    <tr>\n      <th>count</th>\n      <td>2054.000000</td>\n      <td>2054.000000</td>\n      <td>2054.000000</td>\n      <td>2054.000000</td>\n      <td>2054.000000</td>\n    </tr>\n    <tr>\n      <th>mean</th>\n      <td>1026.500000</td>\n      <td>1117.469328</td>\n      <td>175.428432</td>\n      <td>0.260774</td>\n      <td>0.903116</td>\n    </tr>\n    <tr>\n      <th>std</th>\n      <td>593.083046</td>\n      <td>679.487718</td>\n      <td>176.472130</td>\n      <td>0.195698</td>\n      <td>0.482383</td>\n    </tr>\n    <tr>\n      <th>min</th>\n      <td>0.000000</td>\n      <td>3.000000</td>\n      <td>-480.000000</td>\n      <td>0.000000</td>\n      <td>0.000000</td>\n    </tr>\n    <tr>\n      <th>25%</th>\n      <td>513.250000</td>\n      <td>542.250000</td>\n      <td>30.000000</td>\n      <td>0.130000</td>\n      <td>1.000000</td>\n    </tr>\n    <tr>\n      <th>50%</th>\n      <td>1026.500000</td>\n      <td>1079.500000</td>\n      <td>180.000000</td>\n      <td>0.250000</td>\n      <td>1.000000</td>\n    </tr>\n    <tr>\n      <th>75%</th>\n      <td>1539.750000</td>\n      <td>1633.750000</td>\n      <td>330.000000</td>\n      <td>0.400000</td>\n      <td>1.000000</td>\n    </tr>\n    <tr>\n      <th>max</th>\n      <td>2053.000000</td>\n      <td>2535.000000</td>\n      <td>420.000000</td>\n      <td>1.000000</td>\n      <td>2.000000</td>\n    </tr>\n  </tbody>\n</table>\n</div>"
     },
     "execution_count": 35,
     "metadata": {},
     "output_type": "execute_result"
    }
   ],
   "source": [
    "df.describe()\n"
   ],
   "metadata": {
    "collapsed": false,
    "pycharm": {
     "name": "#%%\n"
    }
   }
  },
  {
   "cell_type": "code",
   "execution_count": 36,
   "outputs": [
    {
     "data": {
      "text/plain": "<Axes: ylabel='Frequency'>"
     },
     "execution_count": 36,
     "metadata": {},
     "output_type": "execute_result"
    },
    {
     "data": {
      "text/plain": "<Figure size 640x480 with 1 Axes>",
      "image/png": "[encoded data removed]"
     },
     "metadata": {},
     "output_type": "display_data"
    }
   ],
   "source": [
    "df[\"risk_premium_normalised\"].plot(kind=\"hist\")\n"
   ],
   "metadata": {
    "collapsed": false,
    "pycharm": {
     "name": "#%%\n"
    }
   }
  }
 ],
 "metadata": {
  "kernelspec": {
   "name": "kedro_data_mining_course_anu_2023",
   "language": "python",
   "display_name": "Kedro (data_mining_course_anu_2023)"
  },
  "language_info": {
   "codemirror_mode": {
    "name": "ipython",
    "version": 2
   },
   "file_extension": ".py",
   "mimetype": "text/x-python",
   "name": "python",
   "nbconvert_exporter": "python",
   "pygments_lexer": "ipython2",
   "version": "2.7.6"
  }
 },
 "nbformat": 4,
 "nbformat_minor": 0
}