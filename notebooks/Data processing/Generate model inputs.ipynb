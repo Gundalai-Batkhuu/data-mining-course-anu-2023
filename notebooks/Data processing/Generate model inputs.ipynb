{
 "cells": [
  {
   "cell_type": "code",
   "execution_count": 26,
   "metadata": {
    "collapsed": true
   },
   "outputs": [],
   "source": [
    "import pandas as pd"
   ]
  },
  {
   "cell_type": "code",
   "execution_count": 27,
   "outputs": [
    {
     "name": "stdout",
     "output_type": "stream",
     "text": [
      "2023-05-07 14:19:47,693 - kedro.io.data_catalog - INFO - Loading data from 'risk_aversion' (CSVDataSet)...\n"
     ]
    }
   ],
   "source": [
    "risk_aversion = catalog.load(\"risk_aversion\")"
   ],
   "metadata": {
    "collapsed": false,
    "pycharm": {
     "name": "#%%\n"
    }
   }
  },
  {
   "cell_type": "code",
   "execution_count": 28,
   "outputs": [
    {
     "name": "stdout",
     "output_type": "stream",
     "text": [
      "<class 'pandas.core.frame.DataFrame'>\n",
      "Index: 2054 entries, 39 to 2334\n",
      "Data columns (total 3 columns):\n",
      " #   Column                   Non-Null Count  Dtype  \n",
      "---  ------                   --------------  -----  \n",
      " 0   min_risk_premium_to_bet  2054 non-null   float64\n",
      " 1   risk_premium_normalised  2054 non-null   float64\n",
      " 2   risk_aversion            2054 non-null   int64  \n",
      "dtypes: float64(2), int64(1)\n",
      "memory usage: 64.2 KB\n"
     ]
    }
   ],
   "source": [
    "risk_aversion.info()"
   ],
   "metadata": {
    "collapsed": false,
    "pycharm": {
     "name": "#%%\n"
    }
   }
  },
  {
   "cell_type": "code",
   "execution_count": 29,
   "outputs": [],
   "source": [
    "risk_aversion = risk_aversion[['risk_premium_normalised','risk_aversion']]"
   ],
   "metadata": {
    "collapsed": false,
    "pycharm": {
     "name": "#%%\n"
    }
   }
  },
  {
   "cell_type": "code",
   "execution_count": 30,
   "outputs": [
    {
     "data": {
      "text/plain": "       risk_premium_normalised  risk_aversion\nSRCID                                        \n39                        0.10              1\n156                       0.13              1\n605                       0.28              1\n41                        0.10              1\n1295                      0.34              1",
      "text/html": "<div>\n<style scoped>\n    .dataframe tbody tr th:only-of-type {\n        vertical-align: middle;\n    }\n\n    .dataframe tbody tr th {\n        vertical-align: top;\n    }\n\n    .dataframe thead th {\n        text-align: right;\n    }\n</style>\n<table border=\"1\" class=\"dataframe\">\n  <thead>\n    <tr style=\"text-align: right;\">\n      <th></th>\n      <th>risk_premium_normalised</th>\n      <th>risk_aversion</th>\n    </tr>\n    <tr>\n      <th>SRCID</th>\n      <th></th>\n      <th></th>\n    </tr>\n  </thead>\n  <tbody>\n    <tr>\n      <th>39</th>\n      <td>0.10</td>\n      <td>1</td>\n    </tr>\n    <tr>\n      <th>156</th>\n      <td>0.13</td>\n      <td>1</td>\n    </tr>\n    <tr>\n      <th>605</th>\n      <td>0.28</td>\n      <td>1</td>\n    </tr>\n    <tr>\n      <th>41</th>\n      <td>0.10</td>\n      <td>1</td>\n    </tr>\n    <tr>\n      <th>1295</th>\n      <td>0.34</td>\n      <td>1</td>\n    </tr>\n  </tbody>\n</table>\n</div>"
     },
     "execution_count": 30,
     "metadata": {},
     "output_type": "execute_result"
    }
   ],
   "source": [
    "risk_aversion.head()"
   ],
   "metadata": {
    "collapsed": false,
    "pycharm": {
     "name": "#%%\n"
    }
   }
  },
  {
   "cell_type": "code",
   "execution_count": 31,
   "outputs": [
    {
     "name": "stdout",
     "output_type": "stream",
     "text": [
      "2023-05-07 14:19:47,752 - kedro.io.data_catalog - INFO - Loading data from 'target_variable' (CSVDataSet)...\n"
     ]
    }
   ],
   "source": [
    "target_variable = catalog.load(\"target_variable\")"
   ],
   "metadata": {
    "collapsed": false,
    "pycharm": {
     "name": "#%%\n"
    }
   }
  },
  {
   "cell_type": "code",
   "execution_count": 32,
   "outputs": [
    {
     "name": "stdout",
     "output_type": "stream",
     "text": [
      "<class 'pandas.core.frame.DataFrame'>\n",
      "Index: 2054 entries, 39 to 2334\n",
      "Data columns (total 12 columns):\n",
      " #   Column                       Non-Null Count  Dtype  \n",
      "---  ------                       --------------  -----  \n",
      " 0   Q15a                         1208 non-null   float64\n",
      " 1   Q15b                         1207 non-null   float64\n",
      " 2   Q15c                         1208 non-null   float64\n",
      " 3   Q15d                         1208 non-null   float64\n",
      " 4   Q15e                         1208 non-null   float64\n",
      " 5   Q15f                         1208 non-null   float64\n",
      " 6   Q15g                         1208 non-null   float64\n",
      " 7   Q15h                         1208 non-null   float64\n",
      " 8   Q15i                         1207 non-null   float64\n",
      " 9   gambling_problem             1208 non-null   float64\n",
      " 10  gambling_problem_normalised  1208 non-null   float64\n",
      " 11  gambling_problem_binary      1208 non-null   float64\n",
      "dtypes: float64(12)\n",
      "memory usage: 208.6 KB\n"
     ]
    }
   ],
   "source": [
    "target_variable.info()"
   ],
   "metadata": {
    "collapsed": false,
    "pycharm": {
     "name": "#%%\n"
    }
   }
  },
  {
   "cell_type": "code",
   "execution_count": 33,
   "outputs": [
    {
     "data": {
      "text/plain": "       Q15a  Q15b  Q15c  Q15d  Q15e  Q15f  Q15g  Q15h  Q15i  gambling_problem   \nSRCID                                                                           \n39      NaN   NaN   NaN   NaN   NaN   NaN   NaN   NaN   NaN               NaN  \\\n156     NaN   NaN   NaN   NaN   NaN   NaN   NaN   NaN   NaN               NaN   \n605     4.0   4.0   4.0   4.0   4.0   4.0   4.0   4.0   4.0              36.0   \n41      4.0   4.0   4.0   4.0   4.0   4.0   4.0   4.0   4.0              36.0   \n1295    4.0   4.0   4.0   4.0   4.0   4.0   4.0   4.0   4.0              36.0   \n\n       gambling_problem_normalised  gambling_problem_binary  \nSRCID                                                        \n39                             NaN                      NaN  \n156                            NaN                      NaN  \n605                            0.0                      0.0  \n41                             0.0                      0.0  \n1295                           0.0                      0.0  ",
      "text/html": "<div>\n<style scoped>\n    .dataframe tbody tr th:only-of-type {\n        vertical-align: middle;\n    }\n\n    .dataframe tbody tr th {\n        vertical-align: top;\n    }\n\n    .dataframe thead th {\n        text-align: right;\n    }\n</style>\n<table border=\"1\" class=\"dataframe\">\n  <thead>\n    <tr style=\"text-align: right;\">\n      <th></th>\n      <th>Q15a</th>\n      <th>Q15b</th>\n      <th>Q15c</th>\n      <th>Q15d</th>\n      <th>Q15e</th>\n      <th>Q15f</th>\n      <th>Q15g</th>\n      <th>Q15h</th>\n      <th>Q15i</th>\n      <th>gambling_problem</th>\n      <th>gambling_problem_normalised</th>\n      <th>gambling_problem_binary</th>\n    </tr>\n    <tr>\n      <th>SRCID</th>\n      <th></th>\n      <th></th>\n      <th></th>\n      <th></th>\n      <th></th>\n      <th></th>\n      <th></th>\n      <th></th>\n      <th></th>\n      <th></th>\n      <th></th>\n      <th></th>\n    </tr>\n  </thead>\n  <tbody>\n    <tr>\n      <th>39</th>\n      <td>NaN</td>\n      <td>NaN</td>\n      <td>NaN</td>\n      <td>NaN</td>\n      <td>NaN</td>\n      <td>NaN</td>\n      <td>NaN</td>\n      <td>NaN</td>\n      <td>NaN</td>\n      <td>NaN</td>\n      <td>NaN</td>\n      <td>NaN</td>\n    </tr>\n    <tr>\n      <th>156</th>\n      <td>NaN</td>\n      <td>NaN</td>\n      <td>NaN</td>\n      <td>NaN</td>\n      <td>NaN</td>\n      <td>NaN</td>\n      <td>NaN</td>\n      <td>NaN</td>\n      <td>NaN</td>\n      <td>NaN</td>\n      <td>NaN</td>\n      <td>NaN</td>\n    </tr>\n    <tr>\n      <th>605</th>\n      <td>4.0</td>\n      <td>4.0</td>\n      <td>4.0</td>\n      <td>4.0</td>\n      <td>4.0</td>\n      <td>4.0</td>\n      <td>4.0</td>\n      <td>4.0</td>\n      <td>4.0</td>\n      <td>36.0</td>\n      <td>0.0</td>\n      <td>0.0</td>\n    </tr>\n    <tr>\n      <th>41</th>\n      <td>4.0</td>\n      <td>4.0</td>\n      <td>4.0</td>\n      <td>4.0</td>\n      <td>4.0</td>\n      <td>4.0</td>\n      <td>4.0</td>\n      <td>4.0</td>\n      <td>4.0</td>\n      <td>36.0</td>\n      <td>0.0</td>\n      <td>0.0</td>\n    </tr>\n    <tr>\n      <th>1295</th>\n      <td>4.0</td>\n      <td>4.0</td>\n      <td>4.0</td>\n      <td>4.0</td>\n      <td>4.0</td>\n      <td>4.0</td>\n      <td>4.0</td>\n      <td>4.0</td>\n      <td>4.0</td>\n      <td>36.0</td>\n      <td>0.0</td>\n      <td>0.0</td>\n    </tr>\n  </tbody>\n</table>\n</div>"
     },
     "execution_count": 33,
     "metadata": {},
     "output_type": "execute_result"
    }
   ],
   "source": [
    "target_variable.head()"
   ],
   "metadata": {
    "collapsed": false,
    "pycharm": {
     "name": "#%%\n"
    }
   }
  },
  {
   "cell_type": "code",
   "execution_count": 34,
   "outputs": [
    {
     "name": "stdout",
     "output_type": "stream",
     "text": [
      "2023-05-07 14:19:47,800 - kedro.io.data_catalog - INFO - Loading data from 'gambling_variety' (CSVDataSet)...\n"
     ]
    }
   ],
   "source": [
    "gambling_variety = catalog.load(\"gambling_variety\")"
   ],
   "metadata": {
    "collapsed": false,
    "pycharm": {
     "name": "#%%\n"
    }
   }
  },
  {
   "cell_type": "code",
   "execution_count": 35,
   "outputs": [
    {
     "name": "stdout",
     "output_type": "stream",
     "text": [
      "<class 'pandas.core.frame.DataFrame'>\n",
      "Index: 2054 entries, 39 to 2334\n",
      "Data columns (total 1 columns):\n",
      " #   Column            Non-Null Count  Dtype\n",
      "---  ------            --------------  -----\n",
      " 0   gambling_variety  2054 non-null   int64\n",
      "dtypes: int64(1)\n",
      "memory usage: 32.1 KB\n"
     ]
    }
   ],
   "source": [
    "gambling_variety.info()"
   ],
   "metadata": {
    "collapsed": false,
    "pycharm": {
     "name": "#%%\n"
    }
   }
  },
  {
   "cell_type": "code",
   "execution_count": 36,
   "outputs": [
    {
     "data": {
      "text/plain": "       gambling_variety\nSRCID                  \n39                    0\n156                   0\n605                   2\n41                    2\n1295                  2",
      "text/html": "<div>\n<style scoped>\n    .dataframe tbody tr th:only-of-type {\n        vertical-align: middle;\n    }\n\n    .dataframe tbody tr th {\n        vertical-align: top;\n    }\n\n    .dataframe thead th {\n        text-align: right;\n    }\n</style>\n<table border=\"1\" class=\"dataframe\">\n  <thead>\n    <tr style=\"text-align: right;\">\n      <th></th>\n      <th>gambling_variety</th>\n    </tr>\n    <tr>\n      <th>SRCID</th>\n      <th></th>\n    </tr>\n  </thead>\n  <tbody>\n    <tr>\n      <th>39</th>\n      <td>0</td>\n    </tr>\n    <tr>\n      <th>156</th>\n      <td>0</td>\n    </tr>\n    <tr>\n      <th>605</th>\n      <td>2</td>\n    </tr>\n    <tr>\n      <th>41</th>\n      <td>2</td>\n    </tr>\n    <tr>\n      <th>1295</th>\n      <td>2</td>\n    </tr>\n  </tbody>\n</table>\n</div>"
     },
     "execution_count": 36,
     "metadata": {},
     "output_type": "execute_result"
    }
   ],
   "source": [
    "gambling_variety.head()"
   ],
   "metadata": {
    "collapsed": false,
    "pycharm": {
     "name": "#%%\n"
    }
   }
  },
  {
   "cell_type": "code",
   "execution_count": 37,
   "outputs": [
    {
     "name": "stdout",
     "output_type": "stream",
     "text": [
      "2023-05-07 14:19:47,847 - kedro.io.data_catalog - INFO - Loading data from 'min_return' (CSVDataSet)...\n"
     ]
    }
   ],
   "source": [
    "min_return = catalog.load(\"min_return\")"
   ],
   "metadata": {
    "collapsed": false,
    "pycharm": {
     "name": "#%%\n"
    }
   }
  },
  {
   "cell_type": "code",
   "execution_count": 38,
   "outputs": [
    {
     "name": "stdout",
     "output_type": "stream",
     "text": [
      "<class 'pandas.core.frame.DataFrame'>\n",
      "Index: 2054 entries, 39 to 2334\n",
      "Data columns (total 1 columns):\n",
      " #   Column             Non-Null Count  Dtype  \n",
      "---  ------             --------------  -----  \n",
      " 0   min_annual_return  2037 non-null   float64\n",
      "dtypes: float64(1)\n",
      "memory usage: 32.1 KB\n"
     ]
    }
   ],
   "source": [
    "min_return.info()"
   ],
   "metadata": {
    "collapsed": false,
    "pycharm": {
     "name": "#%%\n"
    }
   }
  },
  {
   "cell_type": "code",
   "execution_count": 39,
   "outputs": [
    {
     "data": {
      "text/plain": "       min_annual_return\nSRCID                   \n39                  0.12\n156                 0.12\n605                 0.25\n41                  0.12\n1295                0.32",
      "text/html": "<div>\n<style scoped>\n    .dataframe tbody tr th:only-of-type {\n        vertical-align: middle;\n    }\n\n    .dataframe tbody tr th {\n        vertical-align: top;\n    }\n\n    .dataframe thead th {\n        text-align: right;\n    }\n</style>\n<table border=\"1\" class=\"dataframe\">\n  <thead>\n    <tr style=\"text-align: right;\">\n      <th></th>\n      <th>min_annual_return</th>\n    </tr>\n    <tr>\n      <th>SRCID</th>\n      <th></th>\n    </tr>\n  </thead>\n  <tbody>\n    <tr>\n      <th>39</th>\n      <td>0.12</td>\n    </tr>\n    <tr>\n      <th>156</th>\n      <td>0.12</td>\n    </tr>\n    <tr>\n      <th>605</th>\n      <td>0.25</td>\n    </tr>\n    <tr>\n      <th>41</th>\n      <td>0.12</td>\n    </tr>\n    <tr>\n      <th>1295</th>\n      <td>0.32</td>\n    </tr>\n  </tbody>\n</table>\n</div>"
     },
     "execution_count": 39,
     "metadata": {},
     "output_type": "execute_result"
    }
   ],
   "source": [
    "min_return.head()"
   ],
   "metadata": {
    "collapsed": false,
    "pycharm": {
     "name": "#%%\n"
    }
   }
  },
  {
   "cell_type": "code",
   "execution_count": 40,
   "outputs": [
    {
     "name": "stdout",
     "output_type": "stream",
     "text": [
      "2023-05-07 14:19:47,928 - kedro.io.data_catalog - INFO - Loading data from 'other_features' (CSVDataSet)...\n"
     ]
    }
   ],
   "source": [
    "other_features = catalog.load(\"other_features\")"
   ],
   "metadata": {
    "collapsed": false,
    "pycharm": {
     "name": "#%%\n"
    }
   }
  },
  {
   "cell_type": "code",
   "execution_count": 41,
   "outputs": [
    {
     "name": "stdout",
     "output_type": "stream",
     "text": [
      "<class 'pandas.core.frame.DataFrame'>\n",
      "Index: 2054 entries, 39 to 2334\n",
      "Data columns (total 16 columns):\n",
      " #   Column  Non-Null Count  Dtype  \n",
      "---  ------  --------------  -----  \n",
      " 0   Q16a    2045 non-null   float64\n",
      " 1   Q16b    2052 non-null   float64\n",
      " 2   Q16c    2047 non-null   float64\n",
      " 3   Q16d    2027 non-null   float64\n",
      " 4   Q16e    2042 non-null   float64\n",
      " 5   Q16f    2041 non-null   float64\n",
      " 6   Q16g    2045 non-null   float64\n",
      " 7   Q16h    2040 non-null   float64\n",
      " 8   Q16i    2038 non-null   float64\n",
      " 9   Q17a    2031 non-null   float64\n",
      " 10  Q17b    2032 non-null   float64\n",
      " 11  Q17c    1962 non-null   float64\n",
      " 12  Q17d    2030 non-null   float64\n",
      " 13  Q18     2052 non-null   float64\n",
      " 14  Q20     2048 non-null   float64\n",
      " 15  Q22     2048 non-null   float64\n",
      "dtypes: float64(16)\n",
      "memory usage: 272.8 KB\n"
     ]
    }
   ],
   "source": [
    "other_features.info()"
   ],
   "metadata": {
    "collapsed": false,
    "pycharm": {
     "name": "#%%\n"
    }
   }
  },
  {
   "cell_type": "code",
   "execution_count": 42,
   "outputs": [
    {
     "data": {
      "text/plain": "       Q16a  Q16b  Q16c  Q16d  Q16e  Q16f  Q16g  Q16h  Q16i  Q17a  Q17b  Q17c   \nSRCID                                                                           \n39      2.0   2.0   1.0   3.0   2.0   3.0   4.0   3.0   2.0   4.0   2.0   2.0  \\\n156     3.0   2.0   2.0   2.0   2.0   4.0   4.0   4.0   3.0   4.0   2.0   3.0   \n605     3.0   2.0   3.0   2.0   3.0   2.0   4.0   2.0   3.0   2.0   2.0   2.0   \n41      3.0   1.0   1.0   4.0   1.0   4.0   4.0   3.0   2.0   4.0   1.0   4.0   \n1295    2.0   1.0   3.0   3.0   2.0   3.0   2.0   3.0   2.0   2.0   2.0   3.0   \n\n       Q17d  Q18  Q20  Q22  \nSRCID                       \n39      2.0  5.0  5.0  3.0  \n156     2.0  2.0  8.0  3.0  \n605     3.0  3.0  3.0  NaN  \n41      4.0  9.0  8.0  1.0  \n1295    3.0  6.0  8.0  1.0  ",
      "text/html": "<div>\n<style scoped>\n    .dataframe tbody tr th:only-of-type {\n        vertical-align: middle;\n    }\n\n    .dataframe tbody tr th {\n        vertical-align: top;\n    }\n\n    .dataframe thead th {\n        text-align: right;\n    }\n</style>\n<table border=\"1\" class=\"dataframe\">\n  <thead>\n    <tr style=\"text-align: right;\">\n      <th></th>\n      <th>Q16a</th>\n      <th>Q16b</th>\n      <th>Q16c</th>\n      <th>Q16d</th>\n      <th>Q16e</th>\n      <th>Q16f</th>\n      <th>Q16g</th>\n      <th>Q16h</th>\n      <th>Q16i</th>\n      <th>Q17a</th>\n      <th>Q17b</th>\n      <th>Q17c</th>\n      <th>Q17d</th>\n      <th>Q18</th>\n      <th>Q20</th>\n      <th>Q22</th>\n    </tr>\n    <tr>\n      <th>SRCID</th>\n      <th></th>\n      <th></th>\n      <th></th>\n      <th></th>\n      <th></th>\n      <th></th>\n      <th></th>\n      <th></th>\n      <th></th>\n      <th></th>\n      <th></th>\n      <th></th>\n      <th></th>\n      <th></th>\n      <th></th>\n      <th></th>\n    </tr>\n  </thead>\n  <tbody>\n    <tr>\n      <th>39</th>\n      <td>2.0</td>\n      <td>2.0</td>\n      <td>1.0</td>\n      <td>3.0</td>\n      <td>2.0</td>\n      <td>3.0</td>\n      <td>4.0</td>\n      <td>3.0</td>\n      <td>2.0</td>\n      <td>4.0</td>\n      <td>2.0</td>\n      <td>2.0</td>\n      <td>2.0</td>\n      <td>5.0</td>\n      <td>5.0</td>\n      <td>3.0</td>\n    </tr>\n    <tr>\n      <th>156</th>\n      <td>3.0</td>\n      <td>2.0</td>\n      <td>2.0</td>\n      <td>2.0</td>\n      <td>2.0</td>\n      <td>4.0</td>\n      <td>4.0</td>\n      <td>4.0</td>\n      <td>3.0</td>\n      <td>4.0</td>\n      <td>2.0</td>\n      <td>3.0</td>\n      <td>2.0</td>\n      <td>2.0</td>\n      <td>8.0</td>\n      <td>3.0</td>\n    </tr>\n    <tr>\n      <th>605</th>\n      <td>3.0</td>\n      <td>2.0</td>\n      <td>3.0</td>\n      <td>2.0</td>\n      <td>3.0</td>\n      <td>2.0</td>\n      <td>4.0</td>\n      <td>2.0</td>\n      <td>3.0</td>\n      <td>2.0</td>\n      <td>2.0</td>\n      <td>2.0</td>\n      <td>3.0</td>\n      <td>3.0</td>\n      <td>3.0</td>\n      <td>NaN</td>\n    </tr>\n    <tr>\n      <th>41</th>\n      <td>3.0</td>\n      <td>1.0</td>\n      <td>1.0</td>\n      <td>4.0</td>\n      <td>1.0</td>\n      <td>4.0</td>\n      <td>4.0</td>\n      <td>3.0</td>\n      <td>2.0</td>\n      <td>4.0</td>\n      <td>1.0</td>\n      <td>4.0</td>\n      <td>4.0</td>\n      <td>9.0</td>\n      <td>8.0</td>\n      <td>1.0</td>\n    </tr>\n    <tr>\n      <th>1295</th>\n      <td>2.0</td>\n      <td>1.0</td>\n      <td>3.0</td>\n      <td>3.0</td>\n      <td>2.0</td>\n      <td>3.0</td>\n      <td>2.0</td>\n      <td>3.0</td>\n      <td>2.0</td>\n      <td>2.0</td>\n      <td>2.0</td>\n      <td>3.0</td>\n      <td>3.0</td>\n      <td>6.0</td>\n      <td>8.0</td>\n      <td>1.0</td>\n    </tr>\n  </tbody>\n</table>\n</div>"
     },
     "execution_count": 42,
     "metadata": {},
     "output_type": "execute_result"
    }
   ],
   "source": [
    "other_features.head()"
   ],
   "metadata": {
    "collapsed": false,
    "pycharm": {
     "name": "#%%\n"
    }
   }
  },
  {
   "cell_type": "code",
   "execution_count": 43,
   "outputs": [],
   "source": [
    "# join the two dataframes on row index, keeping only common rows\n",
    "model_input = other_features.join(min_return, how='inner')"
   ],
   "metadata": {
    "collapsed": false,
    "pycharm": {
     "name": "#%%\n"
    }
   }
  },
  {
   "cell_type": "code",
   "execution_count": 44,
   "outputs": [
    {
     "name": "stdout",
     "output_type": "stream",
     "text": [
      "<class 'pandas.core.frame.DataFrame'>\n",
      "Index: 2054 entries, 39 to 2334\n",
      "Data columns (total 17 columns):\n",
      " #   Column             Non-Null Count  Dtype  \n",
      "---  ------             --------------  -----  \n",
      " 0   Q16a               2045 non-null   float64\n",
      " 1   Q16b               2052 non-null   float64\n",
      " 2   Q16c               2047 non-null   float64\n",
      " 3   Q16d               2027 non-null   float64\n",
      " 4   Q16e               2042 non-null   float64\n",
      " 5   Q16f               2041 non-null   float64\n",
      " 6   Q16g               2045 non-null   float64\n",
      " 7   Q16h               2040 non-null   float64\n",
      " 8   Q16i               2038 non-null   float64\n",
      " 9   Q17a               2031 non-null   float64\n",
      " 10  Q17b               2032 non-null   float64\n",
      " 11  Q17c               1962 non-null   float64\n",
      " 12  Q17d               2030 non-null   float64\n",
      " 13  Q18                2052 non-null   float64\n",
      " 14  Q20                2048 non-null   float64\n",
      " 15  Q22                2048 non-null   float64\n",
      " 16  min_annual_return  2037 non-null   float64\n",
      "dtypes: float64(17)\n",
      "memory usage: 353.4 KB\n"
     ]
    }
   ],
   "source": [
    "model_input.info()"
   ],
   "metadata": {
    "collapsed": false,
    "pycharm": {
     "name": "#%%\n"
    }
   }
  },
  {
   "cell_type": "code",
   "execution_count": 45,
   "outputs": [],
   "source": [
    "model_input = model_input.join(risk_aversion, how='inner')\n",
    "model_input = model_input.join(gambling_variety, how='inner')\n",
    "model_input = model_input.join(target_variable, how='inner')"
   ],
   "metadata": {
    "collapsed": false,
    "pycharm": {
     "name": "#%%\n"
    }
   }
  },
  {
   "cell_type": "code",
   "execution_count": 46,
   "outputs": [
    {
     "name": "stdout",
     "output_type": "stream",
     "text": [
      "<class 'pandas.core.frame.DataFrame'>\n",
      "Index: 2054 entries, 39 to 2334\n",
      "Data columns (total 32 columns):\n",
      " #   Column                       Non-Null Count  Dtype  \n",
      "---  ------                       --------------  -----  \n",
      " 0   Q16a                         2045 non-null   float64\n",
      " 1   Q16b                         2052 non-null   float64\n",
      " 2   Q16c                         2047 non-null   float64\n",
      " 3   Q16d                         2027 non-null   float64\n",
      " 4   Q16e                         2042 non-null   float64\n",
      " 5   Q16f                         2041 non-null   float64\n",
      " 6   Q16g                         2045 non-null   float64\n",
      " 7   Q16h                         2040 non-null   float64\n",
      " 8   Q16i                         2038 non-null   float64\n",
      " 9   Q17a                         2031 non-null   float64\n",
      " 10  Q17b                         2032 non-null   float64\n",
      " 11  Q17c                         1962 non-null   float64\n",
      " 12  Q17d                         2030 non-null   float64\n",
      " 13  Q18                          2052 non-null   float64\n",
      " 14  Q20                          2048 non-null   float64\n",
      " 15  Q22                          2048 non-null   float64\n",
      " 16  min_annual_return            2037 non-null   float64\n",
      " 17  risk_premium_normalised      2054 non-null   float64\n",
      " 18  risk_aversion                2054 non-null   int64  \n",
      " 19  gambling_variety             2054 non-null   int64  \n",
      " 20  Q15a                         1208 non-null   float64\n",
      " 21  Q15b                         1207 non-null   float64\n",
      " 22  Q15c                         1208 non-null   float64\n",
      " 23  Q15d                         1208 non-null   float64\n",
      " 24  Q15e                         1208 non-null   float64\n",
      " 25  Q15f                         1208 non-null   float64\n",
      " 26  Q15g                         1208 non-null   float64\n",
      " 27  Q15h                         1208 non-null   float64\n",
      " 28  Q15i                         1207 non-null   float64\n",
      " 29  gambling_problem             1208 non-null   float64\n",
      " 30  gambling_problem_normalised  1208 non-null   float64\n",
      " 31  gambling_problem_binary      1208 non-null   float64\n",
      "dtypes: float64(30), int64(2)\n",
      "memory usage: 594.1 KB\n"
     ]
    }
   ],
   "source": [
    "model_input.info()"
   ],
   "metadata": {
    "collapsed": false,
    "pycharm": {
     "name": "#%%\n"
    }
   }
  },
  {
   "cell_type": "code",
   "execution_count": 47,
   "outputs": [
    {
     "data": {
      "text/plain": "       Q16a  Q16b  Q16c  Q16d  Q16e  Q16f  Q16g  Q16h  Q16i  Q17a  ...  Q15c   \nSRCID                                                              ...         \n39      2.0   2.0   1.0   3.0   2.0   3.0   4.0   3.0   2.0   4.0  ...   NaN  \\\n156     3.0   2.0   2.0   2.0   2.0   4.0   4.0   4.0   3.0   4.0  ...   NaN   \n605     3.0   2.0   3.0   2.0   3.0   2.0   4.0   2.0   3.0   2.0  ...   4.0   \n41      3.0   1.0   1.0   4.0   1.0   4.0   4.0   3.0   2.0   4.0  ...   4.0   \n1295    2.0   1.0   3.0   3.0   2.0   3.0   2.0   3.0   2.0   2.0  ...   4.0   \n\n       Q15d  Q15e  Q15f  Q15g  Q15h  Q15i  gambling_problem   \nSRCID                                                         \n39      NaN   NaN   NaN   NaN   NaN   NaN               NaN  \\\n156     NaN   NaN   NaN   NaN   NaN   NaN               NaN   \n605     4.0   4.0   4.0   4.0   4.0   4.0              36.0   \n41      4.0   4.0   4.0   4.0   4.0   4.0              36.0   \n1295    4.0   4.0   4.0   4.0   4.0   4.0              36.0   \n\n       gambling_problem_normalised  gambling_problem_binary  \nSRCID                                                        \n39                             NaN                      NaN  \n156                            NaN                      NaN  \n605                            0.0                      0.0  \n41                             0.0                      0.0  \n1295                           0.0                      0.0  \n\n[5 rows x 32 columns]",
      "text/html": "<div>\n<style scoped>\n    .dataframe tbody tr th:only-of-type {\n        vertical-align: middle;\n    }\n\n    .dataframe tbody tr th {\n        vertical-align: top;\n    }\n\n    .dataframe thead th {\n        text-align: right;\n    }\n</style>\n<table border=\"1\" class=\"dataframe\">\n  <thead>\n    <tr style=\"text-align: right;\">\n      <th></th>\n      <th>Q16a</th>\n      <th>Q16b</th>\n      <th>Q16c</th>\n      <th>Q16d</th>\n      <th>Q16e</th>\n      <th>Q16f</th>\n      <th>Q16g</th>\n      <th>Q16h</th>\n      <th>Q16i</th>\n      <th>Q17a</th>\n      <th>...</th>\n      <th>Q15c</th>\n      <th>Q15d</th>\n      <th>Q15e</th>\n      <th>Q15f</th>\n      <th>Q15g</th>\n      <th>Q15h</th>\n      <th>Q15i</th>\n      <th>gambling_problem</th>\n      <th>gambling_problem_normalised</th>\n      <th>gambling_problem_binary</th>\n    </tr>\n    <tr>\n      <th>SRCID</th>\n      <th></th>\n      <th></th>\n      <th></th>\n      <th></th>\n      <th></th>\n      <th></th>\n      <th></th>\n      <th></th>\n      <th></th>\n      <th></th>\n      <th></th>\n      <th></th>\n      <th></th>\n      <th></th>\n      <th></th>\n      <th></th>\n      <th></th>\n      <th></th>\n      <th></th>\n      <th></th>\n      <th></th>\n    </tr>\n  </thead>\n  <tbody>\n    <tr>\n      <th>39</th>\n      <td>2.0</td>\n      <td>2.0</td>\n      <td>1.0</td>\n      <td>3.0</td>\n      <td>2.0</td>\n      <td>3.0</td>\n      <td>4.0</td>\n      <td>3.0</td>\n      <td>2.0</td>\n      <td>4.0</td>\n      <td>...</td>\n      <td>NaN</td>\n      <td>NaN</td>\n      <td>NaN</td>\n      <td>NaN</td>\n      <td>NaN</td>\n      <td>NaN</td>\n      <td>NaN</td>\n      <td>NaN</td>\n      <td>NaN</td>\n      <td>NaN</td>\n    </tr>\n    <tr>\n      <th>156</th>\n      <td>3.0</td>\n      <td>2.0</td>\n      <td>2.0</td>\n      <td>2.0</td>\n      <td>2.0</td>\n      <td>4.0</td>\n      <td>4.0</td>\n      <td>4.0</td>\n      <td>3.0</td>\n      <td>4.0</td>\n      <td>...</td>\n      <td>NaN</td>\n      <td>NaN</td>\n      <td>NaN</td>\n      <td>NaN</td>\n      <td>NaN</td>\n      <td>NaN</td>\n      <td>NaN</td>\n      <td>NaN</td>\n      <td>NaN</td>\n      <td>NaN</td>\n    </tr>\n    <tr>\n      <th>605</th>\n      <td>3.0</td>\n      <td>2.0</td>\n      <td>3.0</td>\n      <td>2.0</td>\n      <td>3.0</td>\n      <td>2.0</td>\n      <td>4.0</td>\n      <td>2.0</td>\n      <td>3.0</td>\n      <td>2.0</td>\n      <td>...</td>\n      <td>4.0</td>\n      <td>4.0</td>\n      <td>4.0</td>\n      <td>4.0</td>\n      <td>4.0</td>\n      <td>4.0</td>\n      <td>4.0</td>\n      <td>36.0</td>\n      <td>0.0</td>\n      <td>0.0</td>\n    </tr>\n    <tr>\n      <th>41</th>\n      <td>3.0</td>\n      <td>1.0</td>\n      <td>1.0</td>\n      <td>4.0</td>\n      <td>1.0</td>\n      <td>4.0</td>\n      <td>4.0</td>\n      <td>3.0</td>\n      <td>2.0</td>\n      <td>4.0</td>\n      <td>...</td>\n      <td>4.0</td>\n      <td>4.0</td>\n      <td>4.0</td>\n      <td>4.0</td>\n      <td>4.0</td>\n      <td>4.0</td>\n      <td>4.0</td>\n      <td>36.0</td>\n      <td>0.0</td>\n      <td>0.0</td>\n    </tr>\n    <tr>\n      <th>1295</th>\n      <td>2.0</td>\n      <td>1.0</td>\n      <td>3.0</td>\n      <td>3.0</td>\n      <td>2.0</td>\n      <td>3.0</td>\n      <td>2.0</td>\n      <td>3.0</td>\n      <td>2.0</td>\n      <td>2.0</td>\n      <td>...</td>\n      <td>4.0</td>\n      <td>4.0</td>\n      <td>4.0</td>\n      <td>4.0</td>\n      <td>4.0</td>\n      <td>4.0</td>\n      <td>4.0</td>\n      <td>36.0</td>\n      <td>0.0</td>\n      <td>0.0</td>\n    </tr>\n  </tbody>\n</table>\n<p>5 rows × 32 columns</p>\n</div>"
     },
     "execution_count": 47,
     "metadata": {},
     "output_type": "execute_result"
    }
   ],
   "source": [
    "model_input.head()"
   ],
   "metadata": {
    "collapsed": false,
    "pycharm": {
     "name": "#%%\n"
    }
   }
  },
  {
   "cell_type": "code",
   "execution_count": 48,
   "outputs": [],
   "source": [
    "model_input = model_input.dropna(axis=0)\n"
   ],
   "metadata": {
    "collapsed": false,
    "pycharm": {
     "name": "#%%\n"
    }
   }
  },
  {
   "cell_type": "code",
   "execution_count": 49,
   "outputs": [
    {
     "name": "stdout",
     "output_type": "stream",
     "text": [
      "<class 'pandas.core.frame.DataFrame'>\n",
      "Index: 1128 entries, 41 to 2334\n",
      "Data columns (total 32 columns):\n",
      " #   Column                       Non-Null Count  Dtype  \n",
      "---  ------                       --------------  -----  \n",
      " 0   Q16a                         1128 non-null   float64\n",
      " 1   Q16b                         1128 non-null   float64\n",
      " 2   Q16c                         1128 non-null   float64\n",
      " 3   Q16d                         1128 non-null   float64\n",
      " 4   Q16e                         1128 non-null   float64\n",
      " 5   Q16f                         1128 non-null   float64\n",
      " 6   Q16g                         1128 non-null   float64\n",
      " 7   Q16h                         1128 non-null   float64\n",
      " 8   Q16i                         1128 non-null   float64\n",
      " 9   Q17a                         1128 non-null   float64\n",
      " 10  Q17b                         1128 non-null   float64\n",
      " 11  Q17c                         1128 non-null   float64\n",
      " 12  Q17d                         1128 non-null   float64\n",
      " 13  Q18                          1128 non-null   float64\n",
      " 14  Q20                          1128 non-null   float64\n",
      " 15  Q22                          1128 non-null   float64\n",
      " 16  min_annual_return            1128 non-null   float64\n",
      " 17  risk_premium_normalised      1128 non-null   float64\n",
      " 18  risk_aversion                1128 non-null   int64  \n",
      " 19  gambling_variety             1128 non-null   int64  \n",
      " 20  Q15a                         1128 non-null   float64\n",
      " 21  Q15b                         1128 non-null   float64\n",
      " 22  Q15c                         1128 non-null   float64\n",
      " 23  Q15d                         1128 non-null   float64\n",
      " 24  Q15e                         1128 non-null   float64\n",
      " 25  Q15f                         1128 non-null   float64\n",
      " 26  Q15g                         1128 non-null   float64\n",
      " 27  Q15h                         1128 non-null   float64\n",
      " 28  Q15i                         1128 non-null   float64\n",
      " 29  gambling_problem             1128 non-null   float64\n",
      " 30  gambling_problem_normalised  1128 non-null   float64\n",
      " 31  gambling_problem_binary      1128 non-null   float64\n",
      "dtypes: float64(30), int64(2)\n",
      "memory usage: 290.8 KB\n"
     ]
    }
   ],
   "source": [
    "model_input.info()\n"
   ],
   "metadata": {
    "collapsed": false,
    "pycharm": {
     "name": "#%%\n"
    }
   }
  },
  {
   "cell_type": "code",
   "execution_count": 50,
   "outputs": [
    {
     "data": {
      "text/plain": "       Q16a  Q16b  Q16c  Q16d  Q16e  Q16f  Q16g  Q16h  Q16i  Q17a  ...  Q15c   \nSRCID                                                              ...         \n41      3.0   1.0   1.0   4.0   1.0   4.0   4.0   3.0   2.0   4.0  ...   4.0  \\\n1295    2.0   1.0   3.0   3.0   2.0   3.0   2.0   3.0   2.0   2.0  ...   4.0   \n29      2.0   1.0   2.0   3.0   3.0   4.0   4.0   3.0   1.0   4.0  ...   4.0   \n315     3.0   1.0   2.0   2.0   2.0   4.0   4.0   3.0   2.0   4.0  ...   4.0   \n1625    2.0   2.0   3.0   2.0   3.0   2.0   3.0   3.0   2.0   2.0  ...   4.0   \n\n       Q15d  Q15e  Q15f  Q15g  Q15h  Q15i  gambling_problem   \nSRCID                                                         \n41      4.0   4.0   4.0   4.0   4.0   4.0              36.0  \\\n1295    4.0   4.0   4.0   4.0   4.0   4.0              36.0   \n29      4.0   4.0   4.0   4.0   4.0   4.0              36.0   \n315     4.0   4.0   4.0   4.0   4.0   4.0              36.0   \n1625    4.0   4.0   4.0   4.0   4.0   4.0              36.0   \n\n       gambling_problem_normalised  gambling_problem_binary  \nSRCID                                                        \n41                             0.0                      0.0  \n1295                           0.0                      0.0  \n29                             0.0                      0.0  \n315                            0.0                      0.0  \n1625                           0.0                      0.0  \n\n[5 rows x 32 columns]",
      "text/html": "<div>\n<style scoped>\n    .dataframe tbody tr th:only-of-type {\n        vertical-align: middle;\n    }\n\n    .dataframe tbody tr th {\n        vertical-align: top;\n    }\n\n    .dataframe thead th {\n        text-align: right;\n    }\n</style>\n<table border=\"1\" class=\"dataframe\">\n  <thead>\n    <tr style=\"text-align: right;\">\n      <th></th>\n      <th>Q16a</th>\n      <th>Q16b</th>\n      <th>Q16c</th>\n      <th>Q16d</th>\n      <th>Q16e</th>\n      <th>Q16f</th>\n      <th>Q16g</th>\n      <th>Q16h</th>\n      <th>Q16i</th>\n      <th>Q17a</th>\n      <th>...</th>\n      <th>Q15c</th>\n      <th>Q15d</th>\n      <th>Q15e</th>\n      <th>Q15f</th>\n      <th>Q15g</th>\n      <th>Q15h</th>\n      <th>Q15i</th>\n      <th>gambling_problem</th>\n      <th>gambling_problem_normalised</th>\n      <th>gambling_problem_binary</th>\n    </tr>\n    <tr>\n      <th>SRCID</th>\n      <th></th>\n      <th></th>\n      <th></th>\n      <th></th>\n      <th></th>\n      <th></th>\n      <th></th>\n      <th></th>\n      <th></th>\n      <th></th>\n      <th></th>\n      <th></th>\n      <th></th>\n      <th></th>\n      <th></th>\n      <th></th>\n      <th></th>\n      <th></th>\n      <th></th>\n      <th></th>\n      <th></th>\n    </tr>\n  </thead>\n  <tbody>\n    <tr>\n      <th>41</th>\n      <td>3.0</td>\n      <td>1.0</td>\n      <td>1.0</td>\n      <td>4.0</td>\n      <td>1.0</td>\n      <td>4.0</td>\n      <td>4.0</td>\n      <td>3.0</td>\n      <td>2.0</td>\n      <td>4.0</td>\n      <td>...</td>\n      <td>4.0</td>\n      <td>4.0</td>\n      <td>4.0</td>\n      <td>4.0</td>\n      <td>4.0</td>\n      <td>4.0</td>\n      <td>4.0</td>\n      <td>36.0</td>\n      <td>0.0</td>\n      <td>0.0</td>\n    </tr>\n    <tr>\n      <th>1295</th>\n      <td>2.0</td>\n      <td>1.0</td>\n      <td>3.0</td>\n      <td>3.0</td>\n      <td>2.0</td>\n      <td>3.0</td>\n      <td>2.0</td>\n      <td>3.0</td>\n      <td>2.0</td>\n      <td>2.0</td>\n      <td>...</td>\n      <td>4.0</td>\n      <td>4.0</td>\n      <td>4.0</td>\n      <td>4.0</td>\n      <td>4.0</td>\n      <td>4.0</td>\n      <td>4.0</td>\n      <td>36.0</td>\n      <td>0.0</td>\n      <td>0.0</td>\n    </tr>\n    <tr>\n      <th>29</th>\n      <td>2.0</td>\n      <td>1.0</td>\n      <td>2.0</td>\n      <td>3.0</td>\n      <td>3.0</td>\n      <td>4.0</td>\n      <td>4.0</td>\n      <td>3.0</td>\n      <td>1.0</td>\n      <td>4.0</td>\n      <td>...</td>\n      <td>4.0</td>\n      <td>4.0</td>\n      <td>4.0</td>\n      <td>4.0</td>\n      <td>4.0</td>\n      <td>4.0</td>\n      <td>4.0</td>\n      <td>36.0</td>\n      <td>0.0</td>\n      <td>0.0</td>\n    </tr>\n    <tr>\n      <th>315</th>\n      <td>3.0</td>\n      <td>1.0</td>\n      <td>2.0</td>\n      <td>2.0</td>\n      <td>2.0</td>\n      <td>4.0</td>\n      <td>4.0</td>\n      <td>3.0</td>\n      <td>2.0</td>\n      <td>4.0</td>\n      <td>...</td>\n      <td>4.0</td>\n      <td>4.0</td>\n      <td>4.0</td>\n      <td>4.0</td>\n      <td>4.0</td>\n      <td>4.0</td>\n      <td>4.0</td>\n      <td>36.0</td>\n      <td>0.0</td>\n      <td>0.0</td>\n    </tr>\n    <tr>\n      <th>1625</th>\n      <td>2.0</td>\n      <td>2.0</td>\n      <td>3.0</td>\n      <td>2.0</td>\n      <td>3.0</td>\n      <td>2.0</td>\n      <td>3.0</td>\n      <td>3.0</td>\n      <td>2.0</td>\n      <td>2.0</td>\n      <td>...</td>\n      <td>4.0</td>\n      <td>4.0</td>\n      <td>4.0</td>\n      <td>4.0</td>\n      <td>4.0</td>\n      <td>4.0</td>\n      <td>4.0</td>\n      <td>36.0</td>\n      <td>0.0</td>\n      <td>0.0</td>\n    </tr>\n  </tbody>\n</table>\n<p>5 rows × 32 columns</p>\n</div>"
     },
     "execution_count": 50,
     "metadata": {},
     "output_type": "execute_result"
    }
   ],
   "source": [
    "model_input.head()\n",
    "\n"
   ],
   "metadata": {
    "collapsed": false,
    "pycharm": {
     "name": "#%%\n"
    }
   }
  }
 ],
 "metadata": {
  "kernelspec": {
   "name": "kedro_data_mining_course_anu_2023",
   "language": "python",
   "display_name": "Kedro (data_mining_course_anu_2023)"
  },
  "language_info": {
   "codemirror_mode": {
    "name": "ipython",
    "version": 2
   },
   "file_extension": ".py",
   "mimetype": "text/x-python",
   "name": "python",
   "nbconvert_exporter": "python",
   "pygments_lexer": "ipython2",
   "version": "2.7.6"
  }
 },
 "nbformat": 4,
 "nbformat_minor": 0
}