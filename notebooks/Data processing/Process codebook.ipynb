{
 "cells": [
  {
   "cell_type": "code",
   "execution_count": 1,
   "outputs": [],
   "source": [
    "import pandas as pd\n",
    "import math\n",
    "import numpy as np\n"
   ],
   "metadata": {
    "collapsed": false,
    "pycharm": {
     "name": "#%%\n"
    }
   }
  },
  {
   "cell_type": "code",
   "execution_count": 2,
   "outputs": [
    {
     "name": "stdout",
     "output_type": "stream",
     "text": [
      "2023-05-04 19:37:16,883 - kedro.io.data_catalog - INFO - Loading data from 'intermediate_data' (CSVDataSet)...\n"
     ]
    }
   ],
   "source": [
    "df = catalog.load(\"intermediate_data\")"
   ],
   "metadata": {
    "collapsed": false,
    "pycharm": {
     "name": "#%%\n"
    }
   }
  },
  {
   "cell_type": "code",
   "execution_count": 3,
   "outputs": [
    {
     "data": {
      "text/plain": "   SRCID     IntDate  Mode  CF_Order   Q1    Q2 Q2_Oth    Q3 Q3_Oth   Q4  ...   \n0     39  2019-04-11     2         1  2.0  19.0    NaN  16.0    NaN  3.0  ...  \\\n1    156  2019-04-09     2         2  1.0  12.0    NaN  11.0    NaN  1.0  ...   \n2    605  2019-04-09     2         1  2.0   NaN    NaN   NaN    NaN  3.0  ...   \n3     41  2019-04-18     2         1  2.0  16.0    NaN   5.0    NaN  3.0  ...   \n4   1295  2019-04-18     1         1  4.0  29.0    NaN  16.0    NaN  5.0  ...   \n\n    wt_design  wt_propensit   wt_base_anu   wt_wave_anu  weight_anu   \n0   4695.4258      1.150989   5384.734620    853.713782    0.091853  \\\n1   4997.3515      1.074450   5349.881695    908.609364    0.097759   \n2  16529.8031      1.074450  17695.871707  32062.736887    3.449705   \n3   6108.6230      1.150989   7005.395282   5064.031682    0.544851   \n4   4100.6080      1.150989   4702.594994   8231.010107    0.885594   \n\n   p_gender_sdc  p_age_group_sdc  p_education_sdc  p_state_sdc  StateMap  \n0           2.0              3.0              1.0          1.0       1.0  \n1           2.0              4.0              1.0          1.0       1.0  \n2           2.0              3.0              3.0          1.0       1.0  \n3           2.0              4.0              2.0          1.0       1.0  \n4           1.0              2.0              2.0          1.0       1.0  \n\n[5 rows x 202 columns]",
      "text/html": "<div>\n<style scoped>\n    .dataframe tbody tr th:only-of-type {\n        vertical-align: middle;\n    }\n\n    .dataframe tbody tr th {\n        vertical-align: top;\n    }\n\n    .dataframe thead th {\n        text-align: right;\n    }\n</style>\n<table border=\"1\" class=\"dataframe\">\n  <thead>\n    <tr style=\"text-align: right;\">\n      <th></th>\n      <th>SRCID</th>\n      <th>IntDate</th>\n      <th>Mode</th>\n      <th>CF_Order</th>\n      <th>Q1</th>\n      <th>Q2</th>\n      <th>Q2_Oth</th>\n      <th>Q3</th>\n      <th>Q3_Oth</th>\n      <th>Q4</th>\n      <th>...</th>\n      <th>wt_design</th>\n      <th>wt_propensit</th>\n      <th>wt_base_anu</th>\n      <th>wt_wave_anu</th>\n      <th>weight_anu</th>\n      <th>p_gender_sdc</th>\n      <th>p_age_group_sdc</th>\n      <th>p_education_sdc</th>\n      <th>p_state_sdc</th>\n      <th>StateMap</th>\n    </tr>\n  </thead>\n  <tbody>\n    <tr>\n      <th>0</th>\n      <td>39</td>\n      <td>2019-04-11</td>\n      <td>2</td>\n      <td>1</td>\n      <td>2.0</td>\n      <td>19.0</td>\n      <td>NaN</td>\n      <td>16.0</td>\n      <td>NaN</td>\n      <td>3.0</td>\n      <td>...</td>\n      <td>4695.4258</td>\n      <td>1.150989</td>\n      <td>5384.734620</td>\n      <td>853.713782</td>\n      <td>0.091853</td>\n      <td>2.0</td>\n      <td>3.0</td>\n      <td>1.0</td>\n      <td>1.0</td>\n      <td>1.0</td>\n    </tr>\n    <tr>\n      <th>1</th>\n      <td>156</td>\n      <td>2019-04-09</td>\n      <td>2</td>\n      <td>2</td>\n      <td>1.0</td>\n      <td>12.0</td>\n      <td>NaN</td>\n      <td>11.0</td>\n      <td>NaN</td>\n      <td>1.0</td>\n      <td>...</td>\n      <td>4997.3515</td>\n      <td>1.074450</td>\n      <td>5349.881695</td>\n      <td>908.609364</td>\n      <td>0.097759</td>\n      <td>2.0</td>\n      <td>4.0</td>\n      <td>1.0</td>\n      <td>1.0</td>\n      <td>1.0</td>\n    </tr>\n    <tr>\n      <th>2</th>\n      <td>605</td>\n      <td>2019-04-09</td>\n      <td>2</td>\n      <td>1</td>\n      <td>2.0</td>\n      <td>NaN</td>\n      <td>NaN</td>\n      <td>NaN</td>\n      <td>NaN</td>\n      <td>3.0</td>\n      <td>...</td>\n      <td>16529.8031</td>\n      <td>1.074450</td>\n      <td>17695.871707</td>\n      <td>32062.736887</td>\n      <td>3.449705</td>\n      <td>2.0</td>\n      <td>3.0</td>\n      <td>3.0</td>\n      <td>1.0</td>\n      <td>1.0</td>\n    </tr>\n    <tr>\n      <th>3</th>\n      <td>41</td>\n      <td>2019-04-18</td>\n      <td>2</td>\n      <td>1</td>\n      <td>2.0</td>\n      <td>16.0</td>\n      <td>NaN</td>\n      <td>5.0</td>\n      <td>NaN</td>\n      <td>3.0</td>\n      <td>...</td>\n      <td>6108.6230</td>\n      <td>1.150989</td>\n      <td>7005.395282</td>\n      <td>5064.031682</td>\n      <td>0.544851</td>\n      <td>2.0</td>\n      <td>4.0</td>\n      <td>2.0</td>\n      <td>1.0</td>\n      <td>1.0</td>\n    </tr>\n    <tr>\n      <th>4</th>\n      <td>1295</td>\n      <td>2019-04-18</td>\n      <td>1</td>\n      <td>1</td>\n      <td>4.0</td>\n      <td>29.0</td>\n      <td>NaN</td>\n      <td>16.0</td>\n      <td>NaN</td>\n      <td>5.0</td>\n      <td>...</td>\n      <td>4100.6080</td>\n      <td>1.150989</td>\n      <td>4702.594994</td>\n      <td>8231.010107</td>\n      <td>0.885594</td>\n      <td>1.0</td>\n      <td>2.0</td>\n      <td>2.0</td>\n      <td>1.0</td>\n      <td>1.0</td>\n    </tr>\n  </tbody>\n</table>\n<p>5 rows × 202 columns</p>\n</div>"
     },
     "execution_count": 3,
     "metadata": {},
     "output_type": "execute_result"
    }
   ],
   "source": [
    "df.head()"
   ],
   "metadata": {
    "collapsed": false,
    "pycharm": {
     "name": "#%%\n"
    }
   }
  },
  {
   "cell_type": "code",
   "execution_count": 4,
   "outputs": [],
   "source": [
    "columns = df.columns"
   ],
   "metadata": {
    "collapsed": false,
    "pycharm": {
     "name": "#%%\n"
    }
   }
  },
  {
   "cell_type": "code",
   "execution_count": 5,
   "outputs": [
    {
     "data": {
      "text/plain": "Index(['SRCID', 'IntDate', 'Mode', 'CF_Order', 'Q1', 'Q2', 'Q2_Oth', 'Q3',\n       'Q3_Oth', 'Q4',\n       ...\n       'wt_design', 'wt_propensit', 'wt_base_anu', 'wt_wave_anu', 'weight_anu',\n       'p_gender_sdc', 'p_age_group_sdc', 'p_education_sdc', 'p_state_sdc',\n       'StateMap'],\n      dtype='object', length=202)"
     },
     "execution_count": 5,
     "metadata": {},
     "output_type": "execute_result"
    }
   ],
   "source": [
    "columns"
   ],
   "metadata": {
    "collapsed": false,
    "pycharm": {
     "name": "#%%\n"
    }
   }
  },
  {
   "cell_type": "code",
   "execution_count": 6,
   "outputs": [
    {
     "data": {
      "text/plain": "136"
     },
     "execution_count": 6,
     "metadata": {},
     "output_type": "execute_result"
    }
   ],
   "source": [
    "columns.get_loc(\"S1\")"
   ],
   "metadata": {
    "collapsed": false,
    "pycharm": {
     "name": "#%%\n"
    }
   }
  },
  {
   "cell_type": "code",
   "execution_count": 7,
   "outputs": [],
   "source": [
    "s_col = columns[136:167]"
   ],
   "metadata": {
    "collapsed": false,
    "pycharm": {
     "name": "#%%\n"
    }
   }
  },
  {
   "cell_type": "code",
   "execution_count": 8,
   "outputs": [
    {
     "data": {
      "text/plain": "Index(['S1', 'S2', 'S3', 'S4', 'S5', 'S6', 'S7', 'S8', 'S9', 'S10', 'S11',\n       'S12', 'S13', 'S14', 'S15', 'S16', 'S17', 'S18', 'S19', 'S20', 'S21',\n       'S22', 'S23', 'S24', 'S25', 'S26', 'S27', 'S28', 'S29', 'S30', 'S31'],\n      dtype='object')"
     },
     "execution_count": 8,
     "metadata": {},
     "output_type": "execute_result"
    }
   ],
   "source": [
    "s_col"
   ],
   "metadata": {
    "collapsed": false,
    "pycharm": {
     "name": "#%%\n"
    }
   }
  },
  {
   "cell_type": "code",
   "execution_count": 9,
   "outputs": [
    {
     "data": {
      "text/plain": "['raw_data',\n 'codebook',\n 'intermediate_data',\n 'processed_data',\n 'r_labels',\n 'processed_codebook',\n 'feature_data',\n 'parameters']"
     },
     "execution_count": 9,
     "metadata": {},
     "output_type": "execute_result"
    }
   ],
   "source": [
    "catalog.list()"
   ],
   "metadata": {
    "collapsed": false,
    "pycharm": {
     "name": "#%%\n"
    }
   }
  },
  {
   "cell_type": "code",
   "execution_count": 10,
   "outputs": [
    {
     "name": "stdout",
     "output_type": "stream",
     "text": [
      "2023-05-04 19:37:17,069 - kedro.io.data_catalog - INFO - Loading data from 'codebook' (ExcelDataSet)...\n"
     ]
    }
   ],
   "source": [
    "codebook_xls = pd.DataFrame(catalog.load(\"codebook\"))"
   ],
   "metadata": {
    "collapsed": false,
    "pycharm": {
     "name": "#%%\n"
    }
   }
  },
  {
   "cell_type": "code",
   "execution_count": 11,
   "outputs": [],
   "source": [
    "labels = codebook_xls[['Variable', 'Position', 'Label']]"
   ],
   "metadata": {
    "collapsed": false,
    "pycharm": {
     "name": "#%%\n"
    }
   }
  },
  {
   "cell_type": "code",
   "execution_count": 12,
   "outputs": [
    {
     "name": "stdout",
     "output_type": "stream",
     "text": [
      "2023-05-04 19:37:17,605 - py.warnings - WARNING - C:\\Users\\gdbt0\\AppData\\Local\\Temp\\ipykernel_22628\\3937756069.py:1: SettingWithCopyWarning: \n",
      "A value is trying to be set on a copy of a slice from a DataFrame\n",
      "\n",
      "See the caveats in the documentation: https://pandas.pydata.org/pandas-docs/stable/user_guide/indexing.html#returning-a-view-versus-a-copy\n",
      "  labels.dropna(inplace=True)\n",
      "\n"
     ]
    }
   ],
   "source": [
    "labels.dropna(inplace=True)"
   ],
   "metadata": {
    "collapsed": false,
    "pycharm": {
     "name": "#%%\n"
    }
   }
  },
  {
   "cell_type": "markdown",
   "source": [
    "## Converts the labels of questions S1-S31 into annual return percentages"
   ],
   "metadata": {
    "collapsed": false
   }
  },
  {
   "cell_type": "code",
   "execution_count": 13,
   "outputs": [],
   "source": [
    "s_labels = labels.iloc[136:167]"
   ],
   "metadata": {
    "collapsed": false,
    "pycharm": {
     "name": "#%%\n"
    }
   }
  },
  {
   "cell_type": "code",
   "execution_count": 14,
   "outputs": [
    {
     "name": "stdout",
     "output_type": "stream",
     "text": [
      "2023-05-04 19:37:17,638 - py.warnings - WARNING - C:\\Users\\gdbt0\\AppData\\Local\\Temp\\ipykernel_22628\\3137119574.py:1: SettingWithCopyWarning: \n",
      "A value is trying to be set on a copy of a slice from a DataFrame.\n",
      "Try using .loc[row_indexer,col_indexer] = value instead\n",
      "\n",
      "See the caveats in the documentation: https://pandas.pydata.org/pandas-docs/stable/user_guide/indexing.html#returning-a-view-versus-a-copy\n",
      "  s_labels[\"fv\"] = s_labels[\"Label\"].str.split(' ').str[8].str[1:].astype(int)\n",
      "\n"
     ]
    }
   ],
   "source": [
    "s_labels[\"fv\"] = s_labels[\"Label\"].str.split(' ').str[8].str[1:].astype(int)"
   ],
   "metadata": {
    "collapsed": false,
    "pycharm": {
     "name": "#%%\n"
    }
   }
  },
  {
   "cell_type": "code",
   "execution_count": 15,
   "outputs": [
    {
     "name": "stdout",
     "output_type": "stream",
     "text": [
      "2023-05-04 19:37:17,648 - py.warnings - WARNING - C:\\Users\\gdbt0\\AppData\\Local\\Temp\\ipykernel_22628\\2339710980.py:1: SettingWithCopyWarning: \n",
      "A value is trying to be set on a copy of a slice from a DataFrame.\n",
      "Try using .loc[row_indexer,col_indexer] = value instead\n",
      "\n",
      "See the caveats in the documentation: https://pandas.pydata.org/pandas-docs/stable/user_guide/indexing.html#returning-a-view-versus-a-copy\n",
      "  s_labels[\"annual_return\"] = (s_labels[\"fv\"] - 300) / 300\n",
      "\n"
     ]
    }
   ],
   "source": [
    "s_labels[\"annual_return\"] = (s_labels[\"fv\"] - 300) / 300"
   ],
   "metadata": {
    "collapsed": false,
    "pycharm": {
     "name": "#%%\n"
    }
   }
  },
  {
   "cell_type": "code",
   "execution_count": 16,
   "outputs": [
    {
     "data": {
      "text/plain": "    Variable  Position                                              Label   \n724       S1     137.0  S1. Would you rather receive $300 today or $46...  \\\n728       S2     138.0  S2. Would you rather receive $300 today or $37...   \n732       S3     139.0  S3. Would you rather receive $300 today or $33...   \n736       S4     140.0  S4. Would you rather receive $300 today or $31...   \n740       S5     141.0  S5. Would you rather receive $300 today or $30...   \n\n      fv  annual_return  \n724  462           0.54  \n728  375           0.25  \n732  336           0.12  \n736  318           0.06  \n740  309           0.03  ",
      "text/html": "<div>\n<style scoped>\n    .dataframe tbody tr th:only-of-type {\n        vertical-align: middle;\n    }\n\n    .dataframe tbody tr th {\n        vertical-align: top;\n    }\n\n    .dataframe thead th {\n        text-align: right;\n    }\n</style>\n<table border=\"1\" class=\"dataframe\">\n  <thead>\n    <tr style=\"text-align: right;\">\n      <th></th>\n      <th>Variable</th>\n      <th>Position</th>\n      <th>Label</th>\n      <th>fv</th>\n      <th>annual_return</th>\n    </tr>\n  </thead>\n  <tbody>\n    <tr>\n      <th>724</th>\n      <td>S1</td>\n      <td>137.0</td>\n      <td>S1. Would you rather receive $300 today or $46...</td>\n      <td>462</td>\n      <td>0.54</td>\n    </tr>\n    <tr>\n      <th>728</th>\n      <td>S2</td>\n      <td>138.0</td>\n      <td>S2. Would you rather receive $300 today or $37...</td>\n      <td>375</td>\n      <td>0.25</td>\n    </tr>\n    <tr>\n      <th>732</th>\n      <td>S3</td>\n      <td>139.0</td>\n      <td>S3. Would you rather receive $300 today or $33...</td>\n      <td>336</td>\n      <td>0.12</td>\n    </tr>\n    <tr>\n      <th>736</th>\n      <td>S4</td>\n      <td>140.0</td>\n      <td>S4. Would you rather receive $300 today or $31...</td>\n      <td>318</td>\n      <td>0.06</td>\n    </tr>\n    <tr>\n      <th>740</th>\n      <td>S5</td>\n      <td>141.0</td>\n      <td>S5. Would you rather receive $300 today or $30...</td>\n      <td>309</td>\n      <td>0.03</td>\n    </tr>\n  </tbody>\n</table>\n</div>"
     },
     "execution_count": 16,
     "metadata": {},
     "output_type": "execute_result"
    }
   ],
   "source": [
    "s_labels.head()"
   ],
   "metadata": {
    "collapsed": false,
    "pycharm": {
     "name": "#%%\n"
    }
   }
  },
  {
   "cell_type": "markdown",
   "source": [
    "## Converts the labels of questions R1-R31 into return values"
   ],
   "metadata": {
    "collapsed": false
   }
  },
  {
   "cell_type": "code",
   "execution_count": 17,
   "outputs": [],
   "source": [
    "r_labels = labels.iloc[104:135]"
   ],
   "metadata": {
    "collapsed": false,
    "pycharm": {
     "name": "#%%\n"
    }
   }
  },
  {
   "cell_type": "code",
   "execution_count": 18,
   "outputs": [
    {
     "name": "stdout",
     "output_type": "stream",
     "text": [
      "2023-05-04 19:37:17,699 - py.warnings - WARNING - C:\\Users\\gdbt0\\AppData\\Local\\Temp\\ipykernel_22628\\2002518525.py:1: SettingWithCopyWarning: \n",
      "A value is trying to be set on a copy of a slice from a DataFrame.\n",
      "Try using .loc[row_indexer,col_indexer] = value instead\n",
      "\n",
      "See the caveats in the documentation: https://pandas.pydata.org/pandas-docs/stable/user_guide/indexing.html#returning-a-view-versus-a-copy\n",
      "  r_labels[\"ev_rf\"] = r_labels[\"Label\"].str.split(' ').str[33].str[1:].astype(int)\n",
      "\n",
      "2023-05-04 19:37:17,702 - py.warnings - WARNING - C:\\Users\\gdbt0\\AppData\\Local\\Temp\\ipykernel_22628\\2002518525.py:2: SettingWithCopyWarning: \n",
      "A value is trying to be set on a copy of a slice from a DataFrame.\n",
      "Try using .loc[row_indexer,col_indexer] = value instead\n",
      "\n",
      "See the caveats in the documentation: https://pandas.pydata.org/pandas-docs/stable/user_guide/indexing.html#returning-a-view-versus-a-copy\n",
      "  r_labels[\"ev_gamble\"] = 450\n",
      "\n",
      "2023-05-04 19:37:17,704 - py.warnings - WARNING - C:\\Users\\gdbt0\\AppData\\Local\\Temp\\ipykernel_22628\\2002518525.py:3: SettingWithCopyWarning: \n",
      "A value is trying to be set on a copy of a slice from a DataFrame.\n",
      "Try using .loc[row_indexer,col_indexer] = value instead\n",
      "\n",
      "See the caveats in the documentation: https://pandas.pydata.org/pandas-docs/stable/user_guide/indexing.html#returning-a-view-versus-a-copy\n",
      "  r_labels[\"risk_premium\"] = r_labels[\"ev_gamble\"] - r_labels[\"ev_rf\"]\n",
      "\n"
     ]
    }
   ],
   "source": [
    "r_labels[\"ev_rf\"] = r_labels[\"Label\"].str.split(' ').str[33].str[1:].astype(int)\n",
    "r_labels[\"ev_gamble\"] = 450\n",
    "r_labels[\"risk_premium\"] = r_labels[\"ev_gamble\"] - r_labels[\"ev_rf\"]"
   ],
   "metadata": {
    "collapsed": false,
    "pycharm": {
     "name": "#%%\n"
    }
   }
  },
  {
   "cell_type": "code",
   "execution_count": 19,
   "outputs": [
    {
     "name": "stdout",
     "output_type": "stream",
     "text": [
      "2023-05-04 19:37:17,713 - py.warnings - WARNING - C:\\Users\\gdbt0\\AppData\\Local\\Temp\\ipykernel_22628\\1855085640.py:1: SettingWithCopyWarning: \n",
      "A value is trying to be set on a copy of a slice from a DataFrame.\n",
      "Try using .loc[row_indexer,col_indexer] = value instead\n",
      "\n",
      "See the caveats in the documentation: https://pandas.pydata.org/pandas-docs/stable/user_guide/indexing.html#returning-a-view-versus-a-copy\n",
      "  r_labels[\"eu_rf\"] = r_labels[\"ev_rf\"].apply(lambda x: x**0.5)\n",
      "\n",
      "2023-05-04 19:37:17,715 - py.warnings - WARNING - C:\\Users\\gdbt0\\AppData\\Local\\Temp\\ipykernel_22628\\1855085640.py:2: SettingWithCopyWarning: \n",
      "A value is trying to be set on a copy of a slice from a DataFrame.\n",
      "Try using .loc[row_indexer,col_indexer] = value instead\n",
      "\n",
      "See the caveats in the documentation: https://pandas.pydata.org/pandas-docs/stable/user_guide/indexing.html#returning-a-view-versus-a-copy\n",
      "  r_labels[\"eu_gamble\"] = math.sqrt(900)*0.5\n",
      "\n",
      "2023-05-04 19:37:17,717 - py.warnings - WARNING - C:\\Users\\gdbt0\\AppData\\Local\\Temp\\ipykernel_22628\\1855085640.py:3: SettingWithCopyWarning: \n",
      "A value is trying to be set on a copy of a slice from a DataFrame.\n",
      "Try using .loc[row_indexer,col_indexer] = value instead\n",
      "\n",
      "See the caveats in the documentation: https://pandas.pydata.org/pandas-docs/stable/user_guide/indexing.html#returning-a-view-versus-a-copy\n",
      "  r_labels[\"eu_diff\"] = r_labels[\"eu_rf\"] - r_labels[\"eu_gamble\"]\n",
      "\n"
     ]
    },
    {
     "data": {
      "text/plain": "    Variable  Position                                              Label   \n587       R1     105.0  R1. What would you prefer: a 50 percent chance...  \\\n591       R2     106.0  R2. What would you prefer: a 50 percent chance...   \n595       R3     107.0  R3. What would you prefer: a 50 percent chance...   \n599       R4     108.0  R4. What would you prefer: a 50 percent chance...   \n603       R5     109.0  R5. What would you prefer: a 50 percent chance...   \n\n     ev_rf  ev_gamble  risk_premium      eu_rf  eu_gamble   eu_diff  \n587    480        450           -30  21.908902       15.0  6.908902  \n591    240        450           210  15.491933       15.0  0.491933  \n595    120        450           330  10.954451       15.0 -4.045549  \n599    180        450           270  13.416408       15.0 -1.583592  \n603    210        450           240  14.491377       15.0 -0.508623  ",
      "text/html": "<div>\n<style scoped>\n    .dataframe tbody tr th:only-of-type {\n        vertical-align: middle;\n    }\n\n    .dataframe tbody tr th {\n        vertical-align: top;\n    }\n\n    .dataframe thead th {\n        text-align: right;\n    }\n</style>\n<table border=\"1\" class=\"dataframe\">\n  <thead>\n    <tr style=\"text-align: right;\">\n      <th></th>\n      <th>Variable</th>\n      <th>Position</th>\n      <th>Label</th>\n      <th>ev_rf</th>\n      <th>ev_gamble</th>\n      <th>risk_premium</th>\n      <th>eu_rf</th>\n      <th>eu_gamble</th>\n      <th>eu_diff</th>\n    </tr>\n  </thead>\n  <tbody>\n    <tr>\n      <th>587</th>\n      <td>R1</td>\n      <td>105.0</td>\n      <td>R1. What would you prefer: a 50 percent chance...</td>\n      <td>480</td>\n      <td>450</td>\n      <td>-30</td>\n      <td>21.908902</td>\n      <td>15.0</td>\n      <td>6.908902</td>\n    </tr>\n    <tr>\n      <th>591</th>\n      <td>R2</td>\n      <td>106.0</td>\n      <td>R2. What would you prefer: a 50 percent chance...</td>\n      <td>240</td>\n      <td>450</td>\n      <td>210</td>\n      <td>15.491933</td>\n      <td>15.0</td>\n      <td>0.491933</td>\n    </tr>\n    <tr>\n      <th>595</th>\n      <td>R3</td>\n      <td>107.0</td>\n      <td>R3. What would you prefer: a 50 percent chance...</td>\n      <td>120</td>\n      <td>450</td>\n      <td>330</td>\n      <td>10.954451</td>\n      <td>15.0</td>\n      <td>-4.045549</td>\n    </tr>\n    <tr>\n      <th>599</th>\n      <td>R4</td>\n      <td>108.0</td>\n      <td>R4. What would you prefer: a 50 percent chance...</td>\n      <td>180</td>\n      <td>450</td>\n      <td>270</td>\n      <td>13.416408</td>\n      <td>15.0</td>\n      <td>-1.583592</td>\n    </tr>\n    <tr>\n      <th>603</th>\n      <td>R5</td>\n      <td>109.0</td>\n      <td>R5. What would you prefer: a 50 percent chance...</td>\n      <td>210</td>\n      <td>450</td>\n      <td>240</td>\n      <td>14.491377</td>\n      <td>15.0</td>\n      <td>-0.508623</td>\n    </tr>\n  </tbody>\n</table>\n</div>"
     },
     "execution_count": 19,
     "metadata": {},
     "output_type": "execute_result"
    }
   ],
   "source": [
    "r_labels[\"eu_rf\"] = r_labels[\"ev_rf\"].apply(lambda x: x**0.5)\n",
    "r_labels[\"eu_gamble\"] = math.sqrt(900)*0.5\n",
    "r_labels[\"eu_diff\"] = r_labels[\"eu_rf\"] - r_labels[\"eu_gamble\"]\n",
    "r_labels.head()"
   ],
   "metadata": {
    "collapsed": false,
    "pycharm": {
     "name": "#%%\n"
    }
   }
  },
  {
   "cell_type": "code",
   "execution_count": 20,
   "outputs": [],
   "source": [
    "# Risk averse - utility alpha = 0.5\n",
    "# Risk loving - utility alpha = 2\n",
    "# Risk neutral - utility alpha = 1, coefficient 0.1"
   ],
   "metadata": {
    "collapsed": false,
    "pycharm": {
     "name": "#%%\n"
    }
   }
  },
  {
   "cell_type": "code",
   "execution_count": 21,
   "outputs": [
    {
     "name": "stdout",
     "output_type": "stream",
     "text": [
      "<class 'pandas.core.frame.DataFrame'>\n",
      "RangeIndex: 2054 entries, 0 to 2053\n",
      "Data columns (total 31 columns):\n",
      " #   Column  Non-Null Count  Dtype  \n",
      "---  ------  --------------  -----  \n",
      " 0   S1      2050 non-null   float64\n",
      " 1   S2      1044 non-null   float64\n",
      " 2   S3      744 non-null    float64\n",
      " 3   S4      423 non-null    float64\n",
      " 4   S5      206 non-null    float64\n",
      " 5   S6      217 non-null    float64\n",
      " 6   S7      318 non-null    float64\n",
      " 7   S8      151 non-null    float64\n",
      " 8   S9      167 non-null    float64\n",
      " 9   S10     298 non-null    float64\n",
      " 10  S11     238 non-null    float64\n",
      " 11  S12     124 non-null    float64\n",
      " 12  S13     114 non-null    float64\n",
      " 13  S14     60 non-null     float64\n",
      " 14  S15     36 non-null     float64\n",
      " 15  S16     24 non-null     float64\n",
      " 16  S17     1006 non-null   float64\n",
      " 17  S18     670 non-null    float64\n",
      " 18  S19     270 non-null    float64\n",
      " 19  S20     66 non-null     float64\n",
      " 20  S21     204 non-null    float64\n",
      " 21  S22     399 non-null    float64\n",
      " 22  S23     338 non-null    float64\n",
      " 23  S24     60 non-null     float64\n",
      " 24  S25     336 non-null    float64\n",
      " 25  S26     302 non-null    float64\n",
      " 26  S27     170 non-null    float64\n",
      " 27  S28     131 non-null    float64\n",
      " 28  S29     34 non-null     float64\n",
      " 29  S30     23 non-null     float64\n",
      " 30  S31     11 non-null     float64\n",
      "dtypes: float64(31)\n",
      "memory usage: 497.6 KB\n"
     ]
    }
   ],
   "source": [
    "df[s_col].info()\n",
    "\n",
    "\n",
    "\n"
   ],
   "metadata": {
    "collapsed": false,
    "pycharm": {
     "name": "#%%\n"
    }
   }
  }
 ],
 "metadata": {
  "kernelspec": {
   "display_name": "Kedro (data_mining_course_anu_2023)",
   "language": "python",
   "name": "kedro_data_mining_course_anu_2023"
  },
  "language_info": {
   "codemirror_mode": {
    "name": "ipython",
    "version": 3
   },
   "file_extension": ".py",
   "mimetype": "text/x-python",
   "name": "python",
   "nbconvert_exporter": "python",
   "pygments_lexer": "ipython3",
   "version": "3.9.16"
  }
 },
 "nbformat": 4,
 "nbformat_minor": 5
}