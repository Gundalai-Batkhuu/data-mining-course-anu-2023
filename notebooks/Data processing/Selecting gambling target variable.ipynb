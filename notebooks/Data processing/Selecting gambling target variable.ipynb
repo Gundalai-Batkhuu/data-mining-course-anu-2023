{
 "cells": [
  {
   "cell_type": "code",
   "execution_count": 45,
   "metadata": {
    "collapsed": true
   },
   "outputs": [],
   "source": [
    "import numpy as np\n",
    "import pandas as pd\n",
    "import matplotlib.pyplot as plt"
   ]
  },
  {
   "cell_type": "code",
   "execution_count": 46,
   "outputs": [
    {
     "name": "stdout",
     "output_type": "stream",
     "text": [
      "2023-05-08 05:32:10,718 - kedro.io.data_catalog - INFO - Loading data from 'primary_data' (CSVDataSet)...\n"
     ]
    }
   ],
   "source": [
    "primary_data = catalog.load(\"primary_data\")"
   ],
   "metadata": {
    "collapsed": false,
    "pycharm": {
     "name": "#%%\n"
    }
   }
  },
  {
   "cell_type": "code",
   "execution_count": 47,
   "outputs": [],
   "source": [
    "cols = list(primary_data.columns)"
   ],
   "metadata": {
    "collapsed": false,
    "pycharm": {
     "name": "#%%\n"
    }
   }
  },
  {
   "cell_type": "code",
   "execution_count": 48,
   "outputs": [
    {
     "data": {
      "text/plain": "['Q1',\n 'Q2',\n 'Q2_Oth',\n 'Q3',\n 'Q3_Oth',\n 'Q4',\n 'Q4_Oth',\n 'Q5a',\n 'Q5b',\n 'Q5c',\n 'Q5d',\n 'Q5e',\n 'Q5f',\n 'Q5g',\n 'Q5h',\n 'Q5i',\n 'Q5j',\n 'Q5k',\n 'Q5m',\n 'Q6',\n 'Q7a',\n 'Q7b',\n 'Q7c',\n 'Q7d',\n 'Q7e',\n 'Q7f',\n 'Q7g',\n 'Q7h',\n 'Q7i',\n 'Q8',\n 'Q9a',\n 'Q9b',\n 'Q9c',\n 'Q9d',\n 'Q9e',\n 'Q9f',\n 'Q9g',\n 'Q9h',\n 'Q9i',\n 'Q9j',\n 'Q9k',\n 'Q10',\n 'Q11a',\n 'Q11b',\n 'Q11c',\n 'Q11d',\n 'Q11e',\n 'Q11f',\n 'Q11g',\n 'Q12',\n 'Q13_1',\n 'Q13_2',\n 'Q13_3',\n 'Q13_4',\n 'Q13_5',\n 'Q13_6',\n 'Q13_7',\n 'Q13_8',\n 'Q13_9',\n 'Q13_10',\n 'Q13_11',\n 'Q13_12',\n 'Q13_DK',\n 'Q13_REF',\n 'Q14',\n 'Q15a',\n 'Q15b',\n 'Q15c',\n 'Q15d',\n 'Q15e',\n 'Q15f',\n 'Q15g',\n 'Q15h',\n 'Q15i',\n 'Q16a',\n 'Q16b',\n 'Q16c',\n 'Q16d',\n 'Q16e',\n 'Q16f',\n 'Q16g',\n 'Q16h',\n 'Q16i',\n 'Q17a',\n 'Q17b',\n 'Q17c',\n 'Q17d',\n 'Q18',\n 'R1',\n 'R2',\n 'R3',\n 'R4',\n 'R5',\n 'R6',\n 'R7',\n 'R8',\n 'R9',\n 'R10',\n 'R11',\n 'R12',\n 'R13',\n 'R14',\n 'R15',\n 'R16',\n 'R17',\n 'R18',\n 'R19',\n 'R20',\n 'R21',\n 'R22',\n 'R23',\n 'R24',\n 'R25',\n 'R26',\n 'R27',\n 'R28',\n 'R29',\n 'R30',\n 'R31',\n 'Q20',\n 'S1',\n 'S2',\n 'S3',\n 'S4',\n 'S5',\n 'S6',\n 'S7',\n 'S8',\n 'S9',\n 'S10',\n 'S11',\n 'S12',\n 'S13',\n 'S14',\n 'S15',\n 'S16',\n 'S17',\n 'S18',\n 'S19',\n 'S20',\n 'S21',\n 'S22',\n 'S23',\n 'S24',\n 'S25',\n 'S26',\n 'S27',\n 'S28',\n 'S29',\n 'S30',\n 'S31',\n 'Q22',\n 'Q23',\n 'Q24',\n 'Q25',\n 'p_state',\n 'p_region',\n 'p_geography',\n 'p_seifa',\n 'p_gender',\n 'p_age',\n 'p_age_group',\n 'p_birthgroup',\n 'p_citizen',\n 'p_lote',\n 'p_atsi',\n 'p_house_str',\n 'p_schooling',\n 'p_education',\n 'p_phone',\n 'wt_agehedu12',\n 'wt_geography',\n 'wt_sex',\n 'p_gender_sdc',\n 'p_age_group_sdc',\n 'p_education_sdc',\n 'p_state_sdc',\n 'StateMap']"
     },
     "execution_count": 48,
     "metadata": {},
     "output_type": "execute_result"
    }
   ],
   "source": [
    "cols"
   ],
   "metadata": {
    "collapsed": false,
    "pycharm": {
     "name": "#%%\n"
    }
   }
  },
  {
   "cell_type": "code",
   "execution_count": 49,
   "outputs": [],
   "source": [
    "gambling_problem_cols = ['Q15a',\n",
    " 'Q15b',\n",
    " 'Q15c',\n",
    " 'Q15d',\n",
    " 'Q15e',\n",
    " 'Q15f',\n",
    " 'Q15g',\n",
    " 'Q15h',\n",
    " 'Q15i',]"
   ],
   "metadata": {
    "collapsed": false,
    "pycharm": {
     "name": "#%%\n"
    }
   }
  },
  {
   "cell_type": "code",
   "execution_count": 50,
   "outputs": [],
   "source": [
    "primary_data = primary_data.replace(-99.0, np.nan)\n",
    "primary_data = primary_data.replace(-98.0, np.nan)"
   ],
   "metadata": {
    "collapsed": false,
    "pycharm": {
     "name": "#%%\n"
    }
   }
  },
  {
   "cell_type": "code",
   "execution_count": 51,
   "outputs": [],
   "source": [
    "df = primary_data[gambling_problem_cols]"
   ],
   "metadata": {
    "collapsed": false,
    "pycharm": {
     "name": "#%%\n"
    }
   }
  },
  {
   "cell_type": "code",
   "execution_count": 52,
   "outputs": [],
   "source": [
    "# df = df.replace(np.nan, 0)"
   ],
   "metadata": {
    "collapsed": false,
    "pycharm": {
     "name": "#%%\n"
    }
   }
  },
  {
   "cell_type": "code",
   "execution_count": 53,
   "outputs": [
    {
     "data": {
      "text/plain": "<bound method NDFrame.head of        Q15a  Q15b  Q15c  Q15d  Q15e  Q15f  Q15g  Q15h  Q15i\nSRCID                                                      \n39      NaN   NaN   NaN   NaN   NaN   NaN   NaN   NaN   NaN\n156     NaN   NaN   NaN   NaN   NaN   NaN   NaN   NaN   NaN\n605     4.0   4.0   4.0   4.0   4.0   4.0   4.0   4.0   4.0\n41      4.0   4.0   4.0   4.0   4.0   4.0   4.0   4.0   4.0\n1295    4.0   4.0   4.0   4.0   4.0   4.0   4.0   4.0   4.0\n...     ...   ...   ...   ...   ...   ...   ...   ...   ...\n1881    NaN   NaN   NaN   NaN   NaN   NaN   NaN   NaN   NaN\n373     4.0   4.0   4.0   4.0   4.0   4.0   4.0   4.0   4.0\n248     NaN   NaN   NaN   NaN   NaN   NaN   NaN   NaN   NaN\n2024    4.0   4.0   4.0   4.0   4.0   4.0   4.0   4.0   4.0\n2334    4.0   4.0   4.0   4.0   3.0   4.0   3.0   4.0   4.0\n\n[2054 rows x 9 columns]>"
     },
     "execution_count": 53,
     "metadata": {},
     "output_type": "execute_result"
    }
   ],
   "source": [
    "df.head"
   ],
   "metadata": {
    "collapsed": false,
    "pycharm": {
     "name": "#%%\n"
    }
   }
  },
  {
   "cell_type": "code",
   "execution_count": 54,
   "outputs": [
    {
     "data": {
      "text/plain": "Q15a    4\nQ15b    4\nQ15c    4\nQ15d    4\nQ15e    4\nQ15f    4\nQ15g    4\nQ15h    4\nQ15i    4\ndtype: int64"
     },
     "execution_count": 54,
     "metadata": {},
     "output_type": "execute_result"
    }
   ],
   "source": [
    "df.nunique()\n"
   ],
   "metadata": {
    "collapsed": false,
    "pycharm": {
     "name": "#%%\n"
    }
   }
  },
  {
   "cell_type": "code",
   "execution_count": 55,
   "outputs": [
    {
     "data": {
      "text/plain": "array([nan,  4.,  3.,  2.,  1.])"
     },
     "execution_count": 55,
     "metadata": {},
     "output_type": "execute_result"
    }
   ],
   "source": [
    "df['Q15b'].unique()"
   ],
   "metadata": {
    "collapsed": false,
    "pycharm": {
     "name": "#%%\n"
    }
   }
  },
  {
   "cell_type": "code",
   "execution_count": 56,
   "outputs": [
    {
     "name": "stdout",
     "output_type": "stream",
     "text": [
      "2023-05-08 05:32:10,938 - py.warnings - WARNING - C:\\Users\\gdbt0\\AppData\\Local\\Temp\\ipykernel_20368\\1583048273.py:2: SettingWithCopyWarning: \n",
      "A value is trying to be set on a copy of a slice from a DataFrame.\n",
      "Try using .loc[row_indexer,col_indexer] = value instead\n",
      "\n",
      "See the caveats in the documentation: https://pandas.pydata.org/pandas-docs/stable/user_guide/indexing.html#returning-a-view-versus-a-copy\n",
      "  df['gambling_problem'] = df.sum(axis=1)\n",
      "\n"
     ]
    },
    {
     "data": {
      "text/plain": "gambling_problem\n36.0    984\n0.0     846\n35.0    101\n34.0     42\n33.0     23\n32.0     20\n28.0      9\n31.0      8\n30.0      5\n29.0      5\n26.0      2\n23.0      2\n27.0      2\n11.0      1\n25.0      1\n21.0      1\n9.0       1\n22.0      1\nName: count, dtype: int64"
     },
     "execution_count": 56,
     "metadata": {},
     "output_type": "execute_result"
    }
   ],
   "source": [
    "# Create a new column that is the sum of all values in each row\n",
    "df['gambling_problem'] = df.sum(axis=1)\n",
    "\n",
    "df['gambling_problem'].value_counts()"
   ],
   "metadata": {
    "collapsed": false,
    "pycharm": {
     "name": "#%%\n"
    }
   }
  },
  {
   "cell_type": "code",
   "execution_count": 57,
   "outputs": [
    {
     "name": "stdout",
     "output_type": "stream",
     "text": [
      "2023-05-08 05:32:10,952 - py.warnings - WARNING - C:\\Users\\gdbt0\\AppData\\Local\\Temp\\ipykernel_20368\\3067466272.py:1: SettingWithCopyWarning: \n",
      "A value is trying to be set on a copy of a slice from a DataFrame.\n",
      "Try using .loc[row_indexer,col_indexer] = value instead\n",
      "\n",
      "See the caveats in the documentation: https://pandas.pydata.org/pandas-docs/stable/user_guide/indexing.html#returning-a-view-versus-a-copy\n",
      "  df['gambling_problem'] = df['gambling_problem'].replace(0, np.nan)\n",
      "\n"
     ]
    }
   ],
   "source": [
    "df['gambling_problem'] = df['gambling_problem'].replace(0, np.nan)"
   ],
   "metadata": {
    "collapsed": false,
    "pycharm": {
     "name": "#%%\n"
    }
   }
  },
  {
   "cell_type": "code",
   "execution_count": 58,
   "outputs": [
    {
     "data": {
      "text/plain": "<Axes: ylabel='Frequency'>"
     },
     "execution_count": 58,
     "metadata": {},
     "output_type": "execute_result"
    },
    {
     "data": {
      "text/plain": "<Figure size 640x480 with 1 Axes>",
      "image/png": "[encoded data removed]"
     },
     "metadata": {},
     "output_type": "display_data"
    }
   ],
   "source": [
    "df['gambling_problem'].plot(kind='hist')"
   ],
   "metadata": {
    "collapsed": false,
    "pycharm": {
     "name": "#%%\n"
    }
   }
  },
  {
   "cell_type": "code",
   "execution_count": 59,
   "outputs": [
    {
     "data": {
      "text/plain": "count    1208.000000\nmean       35.447848\nstd         1.870876\nmin         9.000000\n25%        36.000000\n50%        36.000000\n75%        36.000000\nmax        36.000000\nName: gambling_problem, dtype: float64"
     },
     "execution_count": 59,
     "metadata": {},
     "output_type": "execute_result"
    }
   ],
   "source": [
    "df['gambling_problem'].describe()"
   ],
   "metadata": {
    "collapsed": false,
    "pycharm": {
     "name": "#%%\n"
    }
   }
  },
  {
   "cell_type": "code",
   "execution_count": 60,
   "outputs": [
    {
     "name": "stdout",
     "output_type": "stream",
     "text": [
      "2023-05-08 05:32:11,124 - py.warnings - WARNING - C:\\Users\\gdbt0\\AppData\\Local\\Temp\\ipykernel_20368\\835703590.py:2: SettingWithCopyWarning: \n",
      "A value is trying to be set on a copy of a slice from a DataFrame.\n",
      "Try using .loc[row_indexer,col_indexer] = value instead\n",
      "\n",
      "See the caveats in the documentation: https://pandas.pydata.org/pandas-docs/stable/user_guide/indexing.html#returning-a-view-versus-a-copy\n",
      "  df['gambling_problem_normalised'] = (df['gambling_problem'].max() - df['gambling_problem']) / (df['gambling_problem'].max() - df['gambling_problem'].min())\n",
      "\n"
     ]
    }
   ],
   "source": [
    "# Normalize the 'gambling_problem' column using the formula\n",
    "df['gambling_problem_normalised'] = (df['gambling_problem'].max() - df['gambling_problem']) / (df['gambling_problem'].max() - df['gambling_problem'].min())"
   ],
   "metadata": {
    "collapsed": false,
    "pycharm": {
     "name": "#%%\n"
    }
   }
  },
  {
   "cell_type": "code",
   "execution_count": 61,
   "outputs": [
    {
     "data": {
      "text/plain": "<Axes: ylabel='Frequency'>"
     },
     "execution_count": 61,
     "metadata": {},
     "output_type": "execute_result"
    },
    {
     "data": {
      "text/plain": "<Figure size 640x480 with 1 Axes>",
      "image/png": "[encoded data removed]"
     },
     "metadata": {},
     "output_type": "display_data"
    }
   ],
   "source": [
    "df['gambling_problem_normalised'].plot(kind='hist')"
   ],
   "metadata": {
    "collapsed": false,
    "pycharm": {
     "name": "#%%\n"
    }
   }
  },
  {
   "cell_type": "code",
   "execution_count": 62,
   "outputs": [
    {
     "data": {
      "text/plain": "count    1208.000000\nmean        0.020450\nstd         0.069292\nmin         0.000000\n25%         0.000000\n50%         0.000000\n75%         0.000000\nmax         1.000000\nName: gambling_problem_normalised, dtype: float64"
     },
     "execution_count": 44,
     "metadata": {},
     "output_type": "execute_result"
    },
    {
     "data": {
      "text/plain": "count    1208.000000\nmean        0.020450\nstd         0.069292\nmin         0.000000\n25%         0.000000\n50%         0.000000\n75%         0.000000\nmax         1.000000\nName: gambling_problem_normalised, dtype: float64"
     },
     "execution_count": 62,
     "metadata": {},
     "output_type": "execute_result"
    }
   ],
   "source": [
    "df['gambling_problem_normalised'].describe()"
   ],
   "metadata": {
    "collapsed": false,
    "pycharm": {
     "name": "#%%\n"
    }
   }
  },
  {
   "cell_type": "code",
   "execution_count": 63,
   "outputs": [
    {
     "name": "stdout",
     "output_type": "stream",
     "text": [
      "2023-05-08 05:32:11,296 - py.warnings - WARNING - C:\\Users\\gdbt0\\AppData\\Local\\Temp\\ipykernel_20368\\1792140912.py:2: SettingWithCopyWarning: \n",
      "A value is trying to be set on a copy of a slice from a DataFrame.\n",
      "Try using .loc[row_indexer,col_indexer] = value instead\n",
      "\n",
      "See the caveats in the documentation: https://pandas.pydata.org/pandas-docs/stable/user_guide/indexing.html#returning-a-view-versus-a-copy\n",
      "  df['gambling_problem_binary'] = df['gambling_problem_normalised'].apply(lambda x: 0 if x == 0 else None if pd.isna(x) else 1)\n",
      "\n"
     ]
    }
   ],
   "source": [
    "# Create a new column using a lambda function to apply the conditions\n",
    "df['gambling_problem_binary'] = df['gambling_problem_normalised'].apply(lambda x: 0 if x == 0 else None if pd.isna(x) else 1)"
   ],
   "metadata": {
    "collapsed": false,
    "pycharm": {
     "name": "#%%\n"
    }
   }
  },
  {
   "cell_type": "code",
   "execution_count": 64,
   "outputs": [
    {
     "data": {
      "text/plain": "count    1208.000000\nmean        0.185430\nstd         0.388807\nmin         0.000000\n25%         0.000000\n50%         0.000000\n75%         0.000000\nmax         1.000000\nName: gambling_problem_binary, dtype: float64"
     },
     "execution_count": 64,
     "metadata": {},
     "output_type": "execute_result"
    }
   ],
   "source": [
    "df['gambling_problem_binary'].describe()"
   ],
   "metadata": {
    "collapsed": false,
    "pycharm": {
     "name": "#%%\n"
    }
   }
  },
  {
   "cell_type": "code",
   "execution_count": 65,
   "outputs": [
    {
     "data": {
      "text/plain": "gambling_problem_binary\n0.0    984\n1.0    224\nName: count, dtype: int64"
     },
     "execution_count": 65,
     "metadata": {},
     "output_type": "execute_result"
    }
   ],
   "source": [
    "df['gambling_problem_binary'].value_counts()"
   ],
   "metadata": {
    "collapsed": false,
    "pycharm": {
     "name": "#%%\n"
    }
   }
  },
  {
   "cell_type": "code",
   "execution_count": 66,
   "outputs": [
    {
     "data": {
      "text/plain": "<Figure size 1000x500 with 1 Axes>",
      "image/png": "[encoded data removed]"
     },
     "metadata": {},
     "output_type": "display_data"
    }
   ],
   "source": [
    "# Plot the percentage of null values per column as a bar chart\n",
    "plt.figure(figsize=(10, 5))\n",
    "df['gambling_problem_normalised'].plot(kind=\"hist\")\n",
    "plt.ylabel(\"Frequency\")\n",
    "plt.xticks([])  # Remove x-axis labels\n",
    "plt.title(\"Frequency of gambling problem (normalised)\")\n",
    "plt.show()"
   ],
   "metadata": {
    "collapsed": false,
    "pycharm": {
     "name": "#%%\n"
    }
   }
  },
  {
   "cell_type": "code",
   "execution_count": 66,
   "outputs": [],
   "source": [],
   "metadata": {
    "collapsed": false,
    "pycharm": {
     "name": "#%%\n"
    }
   }
  }
 ],
 "metadata": {
  "kernelspec": {
   "name": "kedro_data_mining_course_anu_2023",
   "language": "python",
   "display_name": "Kedro (data_mining_course_anu_2023)"
  },
  "language_info": {
   "codemirror_mode": {
    "name": "ipython",
    "version": 2
   },
   "file_extension": ".py",
   "mimetype": "text/x-python",
   "name": "python",
   "nbconvert_exporter": "python",
   "pygments_lexer": "ipython2",
   "version": "2.7.6"
  }
 },
 "nbformat": 4,
 "nbformat_minor": 0
}