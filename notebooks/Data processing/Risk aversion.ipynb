{
 "cells": [
  {
   "cell_type": "code",
   "execution_count": 17,
   "outputs": [],
   "source": [
    "import pandas as pd\n",
    "import numpy as np"
   ],
   "metadata": {
    "collapsed": false,
    "pycharm": {
     "name": "#%%\n"
    }
   }
  },
  {
   "cell_type": "code",
   "execution_count": 6,
   "outputs": [
    {
     "name": "stdout",
     "output_type": "stream",
     "text": [
      "2023-05-04 01:02:10,055 - kedro.io.data_catalog - INFO - Loading data from 'processed_data' (CSVDataSet)...\n",
      "2023-05-04 01:02:10,090 - kedro.io.data_catalog - INFO - Loading data from 'processed_codebook' (CSVDataSet)...\n"
     ]
    }
   ],
   "source": [
    "processed_data = catalog.load(\"processed_data\")\n",
    "codebook = catalog.load(\"processed_codebook\")"
   ],
   "metadata": {
    "collapsed": false,
    "pycharm": {
     "name": "#%%\n"
    }
   }
  },
  {
   "cell_type": "code",
   "execution_count": 7,
   "outputs": [],
   "source": [
    "r_cols = ['SRCID', 'R1', 'R2', 'R3', 'R4', 'R5', 'R6', 'R7', 'R8', 'R9', 'R10', 'R11',\n",
    "       'R12', 'R13', 'R14', 'R15', 'R16', 'R17', 'R18', 'R19', 'R20', 'R21',\n",
    "       'R22', 'R23', 'R24', 'R25', 'R26', 'R27', 'R28', 'R29', 'R30', 'R31']"
   ],
   "metadata": {
    "collapsed": false,
    "pycharm": {
     "name": "#%%\n"
    }
   }
  },
  {
   "cell_type": "code",
   "execution_count": 8,
   "outputs": [],
   "source": [
    "df = processed_data[r_cols]"
   ],
   "metadata": {
    "collapsed": false,
    "pycharm": {
     "name": "#%%\n"
    }
   }
  },
  {
   "cell_type": "code",
   "execution_count": 9,
   "outputs": [
    {
     "data": {
      "text/plain": "   SRCID   R1   R2   R3   R4   R5  R6   R7   R8   R9  ...  R22  R23  R24  R25   \n0     39  2.0  2.0  2.0  NaN  NaN NaN  2.0  NaN  1.0  ...  NaN  NaN  NaN  NaN  \\\n1    156  2.0  2.0  2.0  NaN  NaN NaN  1.0  2.0  NaN  ...  NaN  NaN  NaN  NaN   \n2    605  2.0  2.0  1.0  1.0  1.0 NaN  NaN  NaN  NaN  ...  NaN  NaN  NaN  NaN   \n3     41  2.0  2.0  2.0  NaN  NaN NaN  2.0  NaN  1.0  ...  NaN  NaN  NaN  NaN   \n4   1295  2.0  1.0  NaN  NaN  NaN NaN  NaN  NaN  NaN  ...  NaN  NaN  NaN  NaN   \n\n   R26  R27  R28  R29  R30  R31  \n0  NaN  NaN  NaN  NaN  NaN  NaN  \n1  NaN  NaN  NaN  NaN  NaN  NaN  \n2  NaN  NaN  NaN  NaN  NaN  NaN  \n3  NaN  NaN  NaN  NaN  NaN  NaN  \n4  NaN  NaN  NaN  NaN  NaN  NaN  \n\n[5 rows x 32 columns]",
      "text/html": "<div>\n<style scoped>\n    .dataframe tbody tr th:only-of-type {\n        vertical-align: middle;\n    }\n\n    .dataframe tbody tr th {\n        vertical-align: top;\n    }\n\n    .dataframe thead th {\n        text-align: right;\n    }\n</style>\n<table border=\"1\" class=\"dataframe\">\n  <thead>\n    <tr style=\"text-align: right;\">\n      <th></th>\n      <th>SRCID</th>\n      <th>R1</th>\n      <th>R2</th>\n      <th>R3</th>\n      <th>R4</th>\n      <th>R5</th>\n      <th>R6</th>\n      <th>R7</th>\n      <th>R8</th>\n      <th>R9</th>\n      <th>...</th>\n      <th>R22</th>\n      <th>R23</th>\n      <th>R24</th>\n      <th>R25</th>\n      <th>R26</th>\n      <th>R27</th>\n      <th>R28</th>\n      <th>R29</th>\n      <th>R30</th>\n      <th>R31</th>\n    </tr>\n  </thead>\n  <tbody>\n    <tr>\n      <th>0</th>\n      <td>39</td>\n      <td>2.0</td>\n      <td>2.0</td>\n      <td>2.0</td>\n      <td>NaN</td>\n      <td>NaN</td>\n      <td>NaN</td>\n      <td>2.0</td>\n      <td>NaN</td>\n      <td>1.0</td>\n      <td>...</td>\n      <td>NaN</td>\n      <td>NaN</td>\n      <td>NaN</td>\n      <td>NaN</td>\n      <td>NaN</td>\n      <td>NaN</td>\n      <td>NaN</td>\n      <td>NaN</td>\n      <td>NaN</td>\n      <td>NaN</td>\n    </tr>\n    <tr>\n      <th>1</th>\n      <td>156</td>\n      <td>2.0</td>\n      <td>2.0</td>\n      <td>2.0</td>\n      <td>NaN</td>\n      <td>NaN</td>\n      <td>NaN</td>\n      <td>1.0</td>\n      <td>2.0</td>\n      <td>NaN</td>\n      <td>...</td>\n      <td>NaN</td>\n      <td>NaN</td>\n      <td>NaN</td>\n      <td>NaN</td>\n      <td>NaN</td>\n      <td>NaN</td>\n      <td>NaN</td>\n      <td>NaN</td>\n      <td>NaN</td>\n      <td>NaN</td>\n    </tr>\n    <tr>\n      <th>2</th>\n      <td>605</td>\n      <td>2.0</td>\n      <td>2.0</td>\n      <td>1.0</td>\n      <td>1.0</td>\n      <td>1.0</td>\n      <td>NaN</td>\n      <td>NaN</td>\n      <td>NaN</td>\n      <td>NaN</td>\n      <td>...</td>\n      <td>NaN</td>\n      <td>NaN</td>\n      <td>NaN</td>\n      <td>NaN</td>\n      <td>NaN</td>\n      <td>NaN</td>\n      <td>NaN</td>\n      <td>NaN</td>\n      <td>NaN</td>\n      <td>NaN</td>\n    </tr>\n    <tr>\n      <th>3</th>\n      <td>41</td>\n      <td>2.0</td>\n      <td>2.0</td>\n      <td>2.0</td>\n      <td>NaN</td>\n      <td>NaN</td>\n      <td>NaN</td>\n      <td>2.0</td>\n      <td>NaN</td>\n      <td>1.0</td>\n      <td>...</td>\n      <td>NaN</td>\n      <td>NaN</td>\n      <td>NaN</td>\n      <td>NaN</td>\n      <td>NaN</td>\n      <td>NaN</td>\n      <td>NaN</td>\n      <td>NaN</td>\n      <td>NaN</td>\n      <td>NaN</td>\n    </tr>\n    <tr>\n      <th>4</th>\n      <td>1295</td>\n      <td>2.0</td>\n      <td>1.0</td>\n      <td>NaN</td>\n      <td>NaN</td>\n      <td>NaN</td>\n      <td>NaN</td>\n      <td>NaN</td>\n      <td>NaN</td>\n      <td>NaN</td>\n      <td>...</td>\n      <td>NaN</td>\n      <td>NaN</td>\n      <td>NaN</td>\n      <td>NaN</td>\n      <td>NaN</td>\n      <td>NaN</td>\n      <td>NaN</td>\n      <td>NaN</td>\n      <td>NaN</td>\n      <td>NaN</td>\n    </tr>\n  </tbody>\n</table>\n<p>5 rows × 32 columns</p>\n</div>"
     },
     "execution_count": 9,
     "metadata": {},
     "output_type": "execute_result"
    }
   ],
   "source": [
    "df.head()\n"
   ],
   "metadata": {
    "collapsed": false,
    "pycharm": {
     "name": "#%%\n"
    }
   }
  },
  {
   "cell_type": "code",
   "execution_count": 12,
   "outputs": [
    {
     "data": {
      "text/plain": "['SRCID',\n -30,\n 210,\n 330,\n 270,\n 240,\n 300,\n 390,\n 360,\n 420,\n 90,\n 150,\n 180,\n 120,\n 30,\n 0,\n 60,\n -270,\n -150,\n -90,\n -120,\n -60,\n -210,\n -240,\n -180,\n -390,\n -330,\n -360,\n -300,\n -450,\n -420,\n -480]"
     },
     "execution_count": 12,
     "metadata": {},
     "output_type": "execute_result"
    }
   ],
   "source": [
    "risk_premium_labels = codebook[\"risk_premium\"].tolist()\n",
    "risk_premium_labels.insert(0, 'SRCID')\n",
    "risk_premium_labels"
   ],
   "metadata": {
    "collapsed": false,
    "pycharm": {
     "name": "#%%\n"
    }
   }
  },
  {
   "cell_type": "code",
   "execution_count": 13,
   "outputs": [
    {
     "name": "stdout",
     "output_type": "stream",
     "text": [
      "2023-05-04 01:02:52,040 - py.warnings - WARNING - C:\\Users\\gdbt0\\AppData\\Local\\Temp\\ipykernel_14044\\4037940090.py:1: SettingWithCopyWarning: \n",
      "A value is trying to be set on a copy of a slice from a DataFrame\n",
      "\n",
      "See the caveats in the documentation: https://pandas.pydata.org/pandas-docs/stable/user_guide/indexing.html#returning-a-view-versus-a-copy\n",
      "  df.rename(columns=dict(zip(r_cols, risk_premium_labels)), inplace=True)\n",
      "\n"
     ]
    }
   ],
   "source": [
    "df.rename(columns=dict(zip(r_cols, risk_premium_labels)), inplace=True)"
   ],
   "metadata": {
    "collapsed": false,
    "pycharm": {
     "name": "#%%\n"
    }
   }
  },
  {
   "cell_type": "code",
   "execution_count": 14,
   "outputs": [
    {
     "data": {
      "text/plain": "   SRCID  -30  210  330  270  240  300  390  360  420  ...  -210  -240  -180   \n0     39  2.0  2.0  2.0  NaN  NaN  NaN  2.0  NaN  1.0  ...   NaN   NaN   NaN  \\\n1    156  2.0  2.0  2.0  NaN  NaN  NaN  1.0  2.0  NaN  ...   NaN   NaN   NaN   \n2    605  2.0  2.0  1.0  1.0  1.0  NaN  NaN  NaN  NaN  ...   NaN   NaN   NaN   \n3     41  2.0  2.0  2.0  NaN  NaN  NaN  2.0  NaN  1.0  ...   NaN   NaN   NaN   \n4   1295  2.0  1.0  NaN  NaN  NaN  NaN  NaN  NaN  NaN  ...   NaN   NaN   NaN   \n\n   -390  -330  -360  -300  -450  -420  -480  \n0   NaN   NaN   NaN   NaN   NaN   NaN   NaN  \n1   NaN   NaN   NaN   NaN   NaN   NaN   NaN  \n2   NaN   NaN   NaN   NaN   NaN   NaN   NaN  \n3   NaN   NaN   NaN   NaN   NaN   NaN   NaN  \n4   NaN   NaN   NaN   NaN   NaN   NaN   NaN  \n\n[5 rows x 32 columns]",
      "text/html": "<div>\n<style scoped>\n    .dataframe tbody tr th:only-of-type {\n        vertical-align: middle;\n    }\n\n    .dataframe tbody tr th {\n        vertical-align: top;\n    }\n\n    .dataframe thead th {\n        text-align: right;\n    }\n</style>\n<table border=\"1\" class=\"dataframe\">\n  <thead>\n    <tr style=\"text-align: right;\">\n      <th></th>\n      <th>SRCID</th>\n      <th>-30</th>\n      <th>210</th>\n      <th>330</th>\n      <th>270</th>\n      <th>240</th>\n      <th>300</th>\n      <th>390</th>\n      <th>360</th>\n      <th>420</th>\n      <th>...</th>\n      <th>-210</th>\n      <th>-240</th>\n      <th>-180</th>\n      <th>-390</th>\n      <th>-330</th>\n      <th>-360</th>\n      <th>-300</th>\n      <th>-450</th>\n      <th>-420</th>\n      <th>-480</th>\n    </tr>\n  </thead>\n  <tbody>\n    <tr>\n      <th>0</th>\n      <td>39</td>\n      <td>2.0</td>\n      <td>2.0</td>\n      <td>2.0</td>\n      <td>NaN</td>\n      <td>NaN</td>\n      <td>NaN</td>\n      <td>2.0</td>\n      <td>NaN</td>\n      <td>1.0</td>\n      <td>...</td>\n      <td>NaN</td>\n      <td>NaN</td>\n      <td>NaN</td>\n      <td>NaN</td>\n      <td>NaN</td>\n      <td>NaN</td>\n      <td>NaN</td>\n      <td>NaN</td>\n      <td>NaN</td>\n      <td>NaN</td>\n    </tr>\n    <tr>\n      <th>1</th>\n      <td>156</td>\n      <td>2.0</td>\n      <td>2.0</td>\n      <td>2.0</td>\n      <td>NaN</td>\n      <td>NaN</td>\n      <td>NaN</td>\n      <td>1.0</td>\n      <td>2.0</td>\n      <td>NaN</td>\n      <td>...</td>\n      <td>NaN</td>\n      <td>NaN</td>\n      <td>NaN</td>\n      <td>NaN</td>\n      <td>NaN</td>\n      <td>NaN</td>\n      <td>NaN</td>\n      <td>NaN</td>\n      <td>NaN</td>\n      <td>NaN</td>\n    </tr>\n    <tr>\n      <th>2</th>\n      <td>605</td>\n      <td>2.0</td>\n      <td>2.0</td>\n      <td>1.0</td>\n      <td>1.0</td>\n      <td>1.0</td>\n      <td>NaN</td>\n      <td>NaN</td>\n      <td>NaN</td>\n      <td>NaN</td>\n      <td>...</td>\n      <td>NaN</td>\n      <td>NaN</td>\n      <td>NaN</td>\n      <td>NaN</td>\n      <td>NaN</td>\n      <td>NaN</td>\n      <td>NaN</td>\n      <td>NaN</td>\n      <td>NaN</td>\n      <td>NaN</td>\n    </tr>\n    <tr>\n      <th>3</th>\n      <td>41</td>\n      <td>2.0</td>\n      <td>2.0</td>\n      <td>2.0</td>\n      <td>NaN</td>\n      <td>NaN</td>\n      <td>NaN</td>\n      <td>2.0</td>\n      <td>NaN</td>\n      <td>1.0</td>\n      <td>...</td>\n      <td>NaN</td>\n      <td>NaN</td>\n      <td>NaN</td>\n      <td>NaN</td>\n      <td>NaN</td>\n      <td>NaN</td>\n      <td>NaN</td>\n      <td>NaN</td>\n      <td>NaN</td>\n      <td>NaN</td>\n    </tr>\n    <tr>\n      <th>4</th>\n      <td>1295</td>\n      <td>2.0</td>\n      <td>1.0</td>\n      <td>NaN</td>\n      <td>NaN</td>\n      <td>NaN</td>\n      <td>NaN</td>\n      <td>NaN</td>\n      <td>NaN</td>\n      <td>NaN</td>\n      <td>...</td>\n      <td>NaN</td>\n      <td>NaN</td>\n      <td>NaN</td>\n      <td>NaN</td>\n      <td>NaN</td>\n      <td>NaN</td>\n      <td>NaN</td>\n      <td>NaN</td>\n      <td>NaN</td>\n      <td>NaN</td>\n    </tr>\n  </tbody>\n</table>\n<p>5 rows × 32 columns</p>\n</div>"
     },
     "execution_count": 14,
     "metadata": {},
     "output_type": "execute_result"
    }
   ],
   "source": [
    "df.head()"
   ],
   "metadata": {
    "collapsed": false,
    "pycharm": {
     "name": "#%%\n"
    }
   }
  },
  {
   "cell_type": "code",
   "execution_count": 15,
   "outputs": [
    {
     "name": "stdout",
     "output_type": "stream",
     "text": [
      "<class 'pandas.core.frame.DataFrame'>\n",
      "RangeIndex: 2054 entries, 0 to 2053\n",
      "Data columns (total 32 columns):\n",
      " #   Column  Non-Null Count  Dtype  \n",
      "---  ------  --------------  -----  \n",
      " 0   SRCID   2054 non-null   int64  \n",
      " 1   -30     2048 non-null   float64\n",
      " 2   210     1899 non-null   float64\n",
      " 3   330     1314 non-null   float64\n",
      " 4   270     509 non-null    float64\n",
      " 5   240     345 non-null    float64\n",
      " 6   300     163 non-null    float64\n",
      " 7   390     798 non-null    float64\n",
      " 8   360     347 non-null    float64\n",
      " 9   420     450 non-null    float64\n",
      " 10  90      582 non-null    float64\n",
      " 11  150     284 non-null    float64\n",
      " 12  180     146 non-null    float64\n",
      " 13  120     137 non-null    float64\n",
      " 14  30      298 non-null    float64\n",
      " 15  0       79 non-null     float64\n",
      " 16  60      218 non-null    float64\n",
      " 17  -270    149 non-null    float64\n",
      " 18  -150    108 non-null    float64\n",
      " 19  -90     73 non-null     float64\n",
      " 20  -120    43 non-null     float64\n",
      " 21  -60     30 non-null     float64\n",
      " 22  -210    34 non-null     float64\n",
      " 23  -240    24 non-null     float64\n",
      " 24  -180    10 non-null     float64\n",
      " 25  -390    40 non-null     float64\n",
      " 26  -330    21 non-null     float64\n",
      " 27  -360    10 non-null     float64\n",
      " 28  -300    10 non-null     float64\n",
      " 29  -450    19 non-null     float64\n",
      " 30  -420    7 non-null      float64\n",
      " 31  -480    12 non-null     float64\n",
      "dtypes: float64(31), int64(1)\n",
      "memory usage: 513.6 KB\n"
     ]
    }
   ],
   "source": [
    "df.info()"
   ],
   "metadata": {
    "collapsed": false,
    "pycharm": {
     "name": "#%%\n"
    }
   }
  },
  {
   "cell_type": "code",
   "execution_count": 18,
   "outputs": [
    {
     "name": "stdout",
     "output_type": "stream",
     "text": [
      "2023-05-04 01:03:17,299 - py.warnings - WARNING - C:\\Users\\gdbt0\\AppData\\Local\\Temp\\ipykernel_14044\\1263146930.py:3: SettingWithCopyWarning: \n",
      "A value is trying to be set on a copy of a slice from a DataFrame\n",
      "\n",
      "See the caveats in the documentation: https://pandas.pydata.org/pandas-docs/stable/user_guide/indexing.html#returning-a-view-versus-a-copy\n",
      "  df.replace(-99.0, np.nan, inplace=True)\n",
      "\n",
      "2023-05-04 01:03:17,300 - py.warnings - WARNING - C:\\Users\\gdbt0\\AppData\\Local\\Temp\\ipykernel_14044\\1263146930.py:4: SettingWithCopyWarning: \n",
      "A value is trying to be set on a copy of a slice from a DataFrame\n",
      "\n",
      "See the caveats in the documentation: https://pandas.pydata.org/pandas-docs/stable/user_guide/indexing.html#returning-a-view-versus-a-copy\n",
      "  df.replace(-98.0, np.nan, inplace=True)\n",
      "\n"
     ]
    }
   ],
   "source": [
    "df.nunique()\n",
    "\n",
    "df.replace(-99.0, np.nan, inplace=True)\n",
    "df.replace(-98.0, np.nan, inplace=True)"
   ],
   "metadata": {
    "collapsed": false,
    "pycharm": {
     "name": "#%%\n"
    }
   }
  },
  {
   "cell_type": "code",
   "execution_count": 19,
   "outputs": [
    {
     "data": {
      "text/plain": "SRCID    2054\n-30         2\n210         2\n330         2\n270         2\n240         2\n300         2\n390         2\n360         2\n420         2\n90          2\n150         2\n180         2\n120         2\n30          2\n0           2\n60          2\n-270        2\n-150        2\n-90         2\n-120        2\n-60         2\n-210        2\n-240        2\n-180        2\n-390        2\n-330        2\n-360        2\n-300        2\n-450        2\n-420        2\n-480        2\ndtype: int64"
     },
     "execution_count": 19,
     "metadata": {},
     "output_type": "execute_result"
    }
   ],
   "source": [
    "df.nunique()"
   ],
   "metadata": {
    "collapsed": false,
    "pycharm": {
     "name": "#%%\n"
    }
   }
  },
  {
   "cell_type": "code",
   "execution_count": 20,
   "outputs": [
    {
     "name": "stdout",
     "output_type": "stream",
     "text": [
      "2023-05-04 01:03:41,447 - py.warnings - WARNING - C:\\Users\\gdbt0\\AppData\\Local\\Temp\\ipykernel_14044\\3932172176.py:5: SettingWithCopyWarning: \n",
      "A value is trying to be set on a copy of a slice from a DataFrame.\n",
      "Try using .loc[row_indexer,col_indexer] = value instead\n",
      "\n",
      "See the caveats in the documentation: https://pandas.pydata.org/pandas-docs/stable/user_guide/indexing.html#returning-a-view-versus-a-copy\n",
      "  df[\"risk_premiums_to_bet\"] = df.apply(get_index, axis=1)\n",
      "\n"
     ]
    }
   ],
   "source": [
    "# define a lambda function to apply to each row\n",
    "get_index = lambda row: row.index[row == 1.0].tolist()\n",
    "\n",
    "# apply the lambda function to each row of the DataFrame\n",
    "df[\"risk_premiums_to_bet\"] = df.apply(get_index, axis=1)"
   ],
   "metadata": {
    "collapsed": false,
    "pycharm": {
     "name": "#%%\n"
    }
   }
  },
  {
   "cell_type": "code",
   "execution_count": 21,
   "outputs": [
    {
     "data": {
      "text/plain": "0                 [420]\n1                 [390]\n2       [330, 270, 240]\n3                 [420]\n4            [210, 180]\n             ...       \n2049      [210, 90, 60]\n2050              [390]\n2051      [210, 90, 30]\n2052         [390, 360]\n2053         [330, 300]\nName: risk_premiums_to_bet, Length: 2054, dtype: object"
     },
     "execution_count": 21,
     "metadata": {},
     "output_type": "execute_result"
    }
   ],
   "source": [
    "df[\"risk_premiums_to_bet\"].fillna(0)"
   ],
   "metadata": {
    "collapsed": false,
    "pycharm": {
     "name": "#%%\n"
    }
   }
  },
  {
   "cell_type": "code",
   "execution_count": 22,
   "outputs": [
    {
     "data": {
      "text/plain": "False"
     },
     "execution_count": 22,
     "metadata": {},
     "output_type": "execute_result"
    }
   ],
   "source": [
    "# Check null values in the column\n",
    "df[\"risk_premiums_to_bet\"].isnull().all()"
   ],
   "metadata": {
    "collapsed": false,
    "pycharm": {
     "name": "#%%\n"
    }
   }
  },
  {
   "cell_type": "code",
   "execution_count": 35,
   "outputs": [
    {
     "name": "stdout",
     "output_type": "stream",
     "text": [
      "2023-05-04 01:09:33,857 - py.warnings - WARNING - C:\\Users\\gdbt0\\AppData\\Local\\Temp\\ipykernel_14044\\2469480881.py:9: SettingWithCopyWarning: \n",
      "A value is trying to be set on a copy of a slice from a DataFrame.\n",
      "Try using .loc[row_indexer,col_indexer] = value instead\n",
      "\n",
      "See the caveats in the documentation: https://pandas.pydata.org/pandas-docs/stable/user_guide/indexing.html#returning-a-view-versus-a-copy\n",
      "  df['min_risk_premium_to_bet'] = df[\"risk_premiums_to_bet\"].apply(get_min)\n",
      "\n"
     ]
    }
   ],
   "source": [
    "# Define a function to return the minimum value of a list\n",
    "def get_min(lst):\n",
    "    if len(lst) == 0:\n",
    "        return None\n",
    "    else:\n",
    "        return min(lst)\n",
    "\n",
    "# Apply the function to each row of the DataFrame and assign the result to a new column\n",
    "df['min_risk_premium_to_bet'] = df[\"risk_premiums_to_bet\"].apply(get_min)\n"
   ],
   "metadata": {
    "collapsed": false,
    "pycharm": {
     "name": "#%%\n"
    }
   }
  },
  {
   "cell_type": "code",
   "execution_count": 38,
   "outputs": [],
   "source": [
    "feature = df[['SRCID','min_risk_premium_to_bet']]\n"
   ],
   "metadata": {
    "collapsed": false,
    "pycharm": {
     "name": "#%%\n"
    }
   }
  }
 ],
 "metadata": {
  "kernelspec": {
   "name": "kedro_data_mining_course_anu_2023",
   "language": "python",
   "display_name": "Kedro (data_mining_course_anu_2023)"
  },
  "language_info": {
   "codemirror_mode": {
    "name": "ipython",
    "version": 2
   },
   "file_extension": ".py",
   "mimetype": "text/x-python",
   "name": "python",
   "nbconvert_exporter": "python",
   "pygments_lexer": "ipython2",
   "version": "2.7.6"
  }
 },
 "nbformat": 4,
 "nbformat_minor": 0
}