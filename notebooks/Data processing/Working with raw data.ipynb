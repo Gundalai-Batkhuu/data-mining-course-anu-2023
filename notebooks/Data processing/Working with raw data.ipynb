{
 "cells": [
  {
   "cell_type": "code",
   "execution_count": 24,
   "id": "a658e96b",
   "metadata": {},
   "outputs": [],
   "source": [
    "import pandas as pd\n",
    "import numpy as np\n",
    "import matplotlib.pyplot as plt"
   ]
  },
  {
   "cell_type": "code",
   "execution_count": 3,
   "id": "41c90c3a",
   "metadata": {},
   "outputs": [
    {
     "data": {
      "text/plain": "['raw_data',\n 'codebook',\n 'intermediate_data',\n 'primary_data',\n 'r_labels',\n 's_labels',\n 'feature_data_r',\n 'min_return',\n 'risk_aversion',\n 'target_variable',\n 'gambling_variety',\n 'other_features',\n 'model_input',\n 'parameters']"
     },
     "execution_count": 3,
     "metadata": {},
     "output_type": "execute_result"
    }
   ],
   "source": [
    "catalog.list()"
   ]
  },
  {
   "cell_type": "code",
   "execution_count": 4,
   "id": "61b08791",
   "metadata": {
    "scrolled": true
   },
   "outputs": [
    {
     "name": "stdout",
     "output_type": "stream",
     "text": [
      "2023-05-08 00:53:11,109 - kedro.io.data_catalog - INFO - Loading data from 'raw_data' (CSVDataSet)...\n"
     ]
    }
   ],
   "source": [
    "df = pd.DataFrame(catalog.load(\"raw_data\"))"
   ]
  },
  {
   "cell_type": "code",
   "execution_count": 5,
   "outputs": [
    {
     "name": "stdout",
     "output_type": "stream",
     "text": [
      "<class 'pandas.core.frame.DataFrame'>\n",
      "RangeIndex: 2054 entries, 0 to 2053\n",
      "Columns: 202 entries, SRCID to StateMap\n",
      "dtypes: float64(5), int64(105), object(92)\n",
      "memory usage: 3.2+ MB\n"
     ]
    }
   ],
   "source": [
    "df.info()"
   ],
   "metadata": {
    "collapsed": false,
    "pycharm": {
     "name": "#%%\n"
    }
   }
  },
  {
   "cell_type": "code",
   "execution_count": 6,
   "id": "7f8cea77",
   "metadata": {},
   "outputs": [],
   "source": [
    "# Replace empty strings with None values\n",
    "df.replace(' ', np.nan, inplace=True)\n",
    "\n",
    "# Replace -98, -99 with None values\n",
    "df.replace(-99, np.nan, inplace=True)\n",
    "df.replace(-98, np.nan, inplace=True)\n",
    "df.replace(-99.0, np.nan, inplace=True)\n",
    "df.replace(-98.0, np.nan, inplace=True)"
   ]
  },
  {
   "cell_type": "code",
   "execution_count": 7,
   "id": "e7a179cf",
   "metadata": {},
   "outputs": [],
   "source": [
    "df = df.convert_dtypes()\n"
   ]
  },
  {
   "cell_type": "code",
   "execution_count": 8,
   "id": "9366b890",
   "metadata": {
    "scrolled": true,
    "pycharm": {
     "name": "#%%\n"
    }
   },
   "outputs": [],
   "source": [
    "df[\"IntDate\"] = pd.to_datetime(df[\"IntDate\"])"
   ]
  },
  {
   "cell_type": "code",
   "execution_count": 9,
   "outputs": [],
   "source": [
    "# set column 'SRCID' as the index\n",
    "df.set_index('SRCID', inplace=True)"
   ],
   "metadata": {
    "collapsed": false,
    "pycharm": {
     "name": "#%%\n"
    }
   }
  },
  {
   "cell_type": "code",
   "execution_count": 10,
   "outputs": [
    {
     "name": "stdout",
     "output_type": "stream",
     "text": [
      "<class 'pandas.core.frame.DataFrame'>\n",
      "Index: 2054 entries, 39 to 2334\n",
      "Columns: 201 entries, IntDate to StateMap\n",
      "dtypes: Float64(5), Int64(104), datetime64[ns](1), string(91)\n",
      "memory usage: 3.4 MB\n"
     ]
    }
   ],
   "source": [
    "df.info()"
   ],
   "metadata": {
    "collapsed": false,
    "pycharm": {
     "name": "#%%\n"
    }
   }
  },
  {
   "cell_type": "code",
   "execution_count": 11,
   "outputs": [
    {
     "data": {
      "text/plain": "         IntDate  Mode  CF_Order  Q1    Q2 Q2_Oth    Q3 Q3_Oth  Q4   \nSRCID                                                                \n39    2019-04-11     2         1   2    19   <NA>    16   <NA>   3  \\\n156   2019-04-09     2         2   1    12   <NA>    11   <NA>   1   \n605   2019-04-09     2         1   2  <NA>   <NA>  <NA>   <NA>   3   \n41    2019-04-18     2         1   2    16   <NA>     5   <NA>   3   \n1295  2019-04-18     1         1   4    29   <NA>    16   <NA>   5   \n\n                            Q4_Oth  ...   wt_design  wt_propensit   \nSRCID                               ...                             \n39                            <NA>  ...   4695.4258      1.150989  \\\n156                           <NA>  ...   4997.3515       1.07445   \n605                           <NA>  ...  16529.8031       1.07445   \n41                            <NA>  ...    6108.623      1.150989   \n1295   Some other party but unsure  ...    4100.608      1.150989   \n\n        wt_base_anu   wt_wave_anu  weight_anu  p_gender_sdc  p_age_group_sdc   \nSRCID                                                                          \n39       5384.73462    853.713782    0.091853             2                3  \\\n156     5349.881695    908.609364    0.097759             2                4   \n605    17695.871707  32062.736887    3.449705             2                3   \n41      7005.395282   5064.031682    0.544851             2                4   \n1295    4702.594994   8231.010107    0.885594             1                2   \n\n       p_education_sdc  p_state_sdc  StateMap  \nSRCID                                          \n39                   1            1         1  \n156                  1            1         1  \n605                  3            1         1  \n41                   2            1         1  \n1295                 2            1         1  \n\n[5 rows x 201 columns]",
      "text/html": "<div>\n<style scoped>\n    .dataframe tbody tr th:only-of-type {\n        vertical-align: middle;\n    }\n\n    .dataframe tbody tr th {\n        vertical-align: top;\n    }\n\n    .dataframe thead th {\n        text-align: right;\n    }\n</style>\n<table border=\"1\" class=\"dataframe\">\n  <thead>\n    <tr style=\"text-align: right;\">\n      <th></th>\n      <th>IntDate</th>\n      <th>Mode</th>\n      <th>CF_Order</th>\n      <th>Q1</th>\n      <th>Q2</th>\n      <th>Q2_Oth</th>\n      <th>Q3</th>\n      <th>Q3_Oth</th>\n      <th>Q4</th>\n      <th>Q4_Oth</th>\n      <th>...</th>\n      <th>wt_design</th>\n      <th>wt_propensit</th>\n      <th>wt_base_anu</th>\n      <th>wt_wave_anu</th>\n      <th>weight_anu</th>\n      <th>p_gender_sdc</th>\n      <th>p_age_group_sdc</th>\n      <th>p_education_sdc</th>\n      <th>p_state_sdc</th>\n      <th>StateMap</th>\n    </tr>\n    <tr>\n      <th>SRCID</th>\n      <th></th>\n      <th></th>\n      <th></th>\n      <th></th>\n      <th></th>\n      <th></th>\n      <th></th>\n      <th></th>\n      <th></th>\n      <th></th>\n      <th></th>\n      <th></th>\n      <th></th>\n      <th></th>\n      <th></th>\n      <th></th>\n      <th></th>\n      <th></th>\n      <th></th>\n      <th></th>\n      <th></th>\n    </tr>\n  </thead>\n  <tbody>\n    <tr>\n      <th>39</th>\n      <td>2019-04-11</td>\n      <td>2</td>\n      <td>1</td>\n      <td>2</td>\n      <td>19</td>\n      <td>&lt;NA&gt;</td>\n      <td>16</td>\n      <td>&lt;NA&gt;</td>\n      <td>3</td>\n      <td>&lt;NA&gt;</td>\n      <td>...</td>\n      <td>4695.4258</td>\n      <td>1.150989</td>\n      <td>5384.73462</td>\n      <td>853.713782</td>\n      <td>0.091853</td>\n      <td>2</td>\n      <td>3</td>\n      <td>1</td>\n      <td>1</td>\n      <td>1</td>\n    </tr>\n    <tr>\n      <th>156</th>\n      <td>2019-04-09</td>\n      <td>2</td>\n      <td>2</td>\n      <td>1</td>\n      <td>12</td>\n      <td>&lt;NA&gt;</td>\n      <td>11</td>\n      <td>&lt;NA&gt;</td>\n      <td>1</td>\n      <td>&lt;NA&gt;</td>\n      <td>...</td>\n      <td>4997.3515</td>\n      <td>1.07445</td>\n      <td>5349.881695</td>\n      <td>908.609364</td>\n      <td>0.097759</td>\n      <td>2</td>\n      <td>4</td>\n      <td>1</td>\n      <td>1</td>\n      <td>1</td>\n    </tr>\n    <tr>\n      <th>605</th>\n      <td>2019-04-09</td>\n      <td>2</td>\n      <td>1</td>\n      <td>2</td>\n      <td>&lt;NA&gt;</td>\n      <td>&lt;NA&gt;</td>\n      <td>&lt;NA&gt;</td>\n      <td>&lt;NA&gt;</td>\n      <td>3</td>\n      <td>&lt;NA&gt;</td>\n      <td>...</td>\n      <td>16529.8031</td>\n      <td>1.07445</td>\n      <td>17695.871707</td>\n      <td>32062.736887</td>\n      <td>3.449705</td>\n      <td>2</td>\n      <td>3</td>\n      <td>3</td>\n      <td>1</td>\n      <td>1</td>\n    </tr>\n    <tr>\n      <th>41</th>\n      <td>2019-04-18</td>\n      <td>2</td>\n      <td>1</td>\n      <td>2</td>\n      <td>16</td>\n      <td>&lt;NA&gt;</td>\n      <td>5</td>\n      <td>&lt;NA&gt;</td>\n      <td>3</td>\n      <td>&lt;NA&gt;</td>\n      <td>...</td>\n      <td>6108.623</td>\n      <td>1.150989</td>\n      <td>7005.395282</td>\n      <td>5064.031682</td>\n      <td>0.544851</td>\n      <td>2</td>\n      <td>4</td>\n      <td>2</td>\n      <td>1</td>\n      <td>1</td>\n    </tr>\n    <tr>\n      <th>1295</th>\n      <td>2019-04-18</td>\n      <td>1</td>\n      <td>1</td>\n      <td>4</td>\n      <td>29</td>\n      <td>&lt;NA&gt;</td>\n      <td>16</td>\n      <td>&lt;NA&gt;</td>\n      <td>5</td>\n      <td>Some other party but unsure</td>\n      <td>...</td>\n      <td>4100.608</td>\n      <td>1.150989</td>\n      <td>4702.594994</td>\n      <td>8231.010107</td>\n      <td>0.885594</td>\n      <td>1</td>\n      <td>2</td>\n      <td>2</td>\n      <td>1</td>\n      <td>1</td>\n    </tr>\n  </tbody>\n</table>\n<p>5 rows × 201 columns</p>\n</div>"
     },
     "execution_count": 11,
     "metadata": {},
     "output_type": "execute_result"
    }
   ],
   "source": [
    "df.head()"
   ],
   "metadata": {
    "collapsed": false,
    "pycharm": {
     "name": "#%%\n"
    }
   }
  },
  {
   "cell_type": "code",
   "execution_count": 12,
   "outputs": [],
   "source": [
    "cols = df.columns"
   ],
   "metadata": {
    "collapsed": false,
    "pycharm": {
     "name": "#%%\n"
    }
   }
  },
  {
   "cell_type": "code",
   "execution_count": 14,
   "outputs": [
    {
     "name": "stdout",
     "output_type": "stream",
     "text": [
      "['IntDate', 'Mode', 'CF_Order', 'Q1', 'Q2', 'Q2_Oth', 'Q3', 'Q3_Oth', 'Q4', 'Q4_Oth', 'DUM1', 'DUM2', 'Q5_Order', 'Q5a', 'Q5b', 'Q5c', 'Q5d', 'Q5e', 'Q5f', 'Q5g', 'Q5h', 'Q5i', 'Q5j', 'Q5k', 'Q5m', 'Q6', 'Q7_Order', 'Q7a', 'Q7b', 'Q7c', 'Q7d', 'Q7e', 'Q7f', 'Q7g', 'Q7h', 'Q7i', 'Q8', 'Q9_Order', 'Q9a', 'Q9b', 'Q9c', 'Q9d', 'Q9e', 'Q9f', 'Q9g', 'Q9h', 'Q9i', 'Q9j', 'Q9k', 'Q10_Order', 'Q10', 'Q11_Order', 'Q11a', 'Q11b', 'Q11c', 'Q11d', 'Q11e', 'Q11f', 'Q11g', 'Q12_Order', 'Q12', 'SECTION_DUM', 'Q13_1', 'Q13_2', 'Q13_3', 'Q13_4', 'Q13_5', 'Q13_6', 'Q13_7', 'Q13_8', 'Q13_9', 'Q13_10', 'Q13_11', 'Q13_12', 'Q13_DK', 'Q13_REF', 'Q14', 'Q15_Order', 'Q15a', 'Q15b', 'Q15c', 'Q15d', 'Q15e', 'Q15f', 'Q15g', 'Q15h', 'Q15i', 'Q16_Order', 'Q16a', 'Q16b', 'Q16c', 'Q16d', 'Q16e', 'Q16f', 'Q16g', 'Q16h', 'Q16i', 'Q17_Order', 'Q17a', 'Q17b', 'Q17c', 'Q17d', 'Q18', 'R1', 'R2', 'R3', 'R4', 'R5', 'R6', 'R7', 'R8', 'R9', 'R10', 'R11', 'R12', 'R13', 'R14', 'R15', 'R16', 'R17', 'R18', 'R19', 'R20', 'R21', 'R22', 'R23', 'R24', 'R25', 'R26', 'R27', 'R28', 'R29', 'R30', 'R31', 'Q20', 'S1', 'S2', 'S3', 'S4', 'S5', 'S6', 'S7', 'S8', 'S9', 'S10', 'S11', 'S12', 'S13', 'S14', 'S15', 'S16', 'S17', 'S18', 'S19', 'S20', 'S21', 'S22', 'S23', 'S24', 'S25', 'S26', 'S27', 'S28', 'S29', 'S30', 'S31', 'Q22', 'Q23', 'Q24', 'Q25', 'p_state', 'p_region', 'p_geography', 'p_seifa', 'p_gender', 'p_age', 'p_age_group', 'p_birthgroup', 'p_citizen', 'p_lote', 'p_atsi', 'p_house_str', 'p_schooling', 'p_education', 'p_phone', 'wt_agehedu12', 'wt_geography', 'wt_internet', 'wt_sex', 'wt_tel', 'wt_volunteer', 'wt_design', 'wt_propensit', 'wt_base_anu', 'wt_wave_anu', 'weight_anu', 'p_gender_sdc', 'p_age_group_sdc', 'p_education_sdc', 'p_state_sdc', 'StateMap']\n"
     ]
    }
   ],
   "source": [
    "print(list(cols))\n"
   ],
   "metadata": {
    "collapsed": false,
    "pycharm": {
     "name": "#%%\n"
    }
   }
  },
  {
   "cell_type": "code",
   "execution_count": 18,
   "outputs": [
    {
     "data": {
      "text/plain": "                             IntDate      Mode  CF_Order        Q1         Q2   \ncount                           2054    2054.0    2054.0    2049.0     1967.0  \\\nmean   2019-04-12 19:01:20.623174400  1.878286  1.491237  2.736457   16.43213   \nmin              2019-04-08 00:00:00       1.0       1.0       1.0        1.0   \n25%              2019-04-10 00:00:00       2.0       1.0       2.0        6.0   \n50%              2019-04-11 00:00:00       2.0       1.0       2.0       13.0   \n75%              2019-04-15 00:00:00       2.0       2.0       4.0       19.0   \nmax              2019-04-26 00:00:00       2.0       2.0       5.0       96.0   \nstd                              NaN  0.327035  0.500045  1.148557  17.880249   \n\n              Q4      DUM1      DUM2       Q5a       Q5b  ...  wt_geography   \ncount     1927.0    2054.0    2054.0    2041.0    2041.0  ...           0.0  \\\nmean    7.877011  1.347614  1.754625  1.634493  1.740323  ...          <NA>   \nmin          1.0       1.0       1.0       1.0       1.0  ...          <NA>   \n25%          1.0       1.0       1.0       1.0       1.0  ...          <NA>   \n50%          3.0       1.0       2.0       1.0       2.0  ...          <NA>   \n75%          4.0       2.0       3.0       2.0       2.0  ...          <NA>   \nmax         97.0       2.0       3.0       4.0       4.0  ...          <NA>   \nstd    20.265243  0.476329  0.830006  0.758395  0.764523  ...          <NA>   \n\n       wt_internet  wt_sex    wt_tel  wt_volunteer    wt_design  wt_propensit   \ncount       2054.0     0.0    2054.0        2054.0       2054.0        2054.0  \\\nmean      1.037488    <NA>  2.242454      1.629503  6559.210483      1.411077   \nmin            1.0    <NA>       1.0           1.0    3530.6146       1.07445   \n25%            1.0    <NA>       1.0           1.0    4997.3515      1.150989   \n50%            1.0    <NA>       3.0           2.0     6108.623      1.253732   \n75%            1.0    <NA>       3.0           2.0    7457.8144       1.49866   \nmax            2.0    <NA>       3.0           2.0   25556.1626      2.950849   \nstd           0.19    <NA>  0.960815      0.483055  2499.430748      0.542006   \n\n        wt_base_anu   wt_wave_anu  weight_anu  \ncount        2054.0        2054.0      2054.0  \nmean    9294.341285   9294.341285         1.0  \nmin     3779.676178    641.929927    0.069067  \n25%      5838.17624   1657.495291    0.178334  \n50%      7489.52538    5810.35483     0.62515  \n75%    10463.283506  11906.559502    1.281055  \nmax    30258.766707  117415.02905   12.632959  \nstd     5276.760064  11003.120853    1.183852  \n\n[8 rows x 110 columns]",
      "text/html": "<div>\n<style scoped>\n    .dataframe tbody tr th:only-of-type {\n        vertical-align: middle;\n    }\n\n    .dataframe tbody tr th {\n        vertical-align: top;\n    }\n\n    .dataframe thead th {\n        text-align: right;\n    }\n</style>\n<table border=\"1\" class=\"dataframe\">\n  <thead>\n    <tr style=\"text-align: right;\">\n      <th></th>\n      <th>IntDate</th>\n      <th>Mode</th>\n      <th>CF_Order</th>\n      <th>Q1</th>\n      <th>Q2</th>\n      <th>Q4</th>\n      <th>DUM1</th>\n      <th>DUM2</th>\n      <th>Q5a</th>\n      <th>Q5b</th>\n      <th>...</th>\n      <th>wt_geography</th>\n      <th>wt_internet</th>\n      <th>wt_sex</th>\n      <th>wt_tel</th>\n      <th>wt_volunteer</th>\n      <th>wt_design</th>\n      <th>wt_propensit</th>\n      <th>wt_base_anu</th>\n      <th>wt_wave_anu</th>\n      <th>weight_anu</th>\n    </tr>\n  </thead>\n  <tbody>\n    <tr>\n      <th>count</th>\n      <td>2054</td>\n      <td>2054.0</td>\n      <td>2054.0</td>\n      <td>2049.0</td>\n      <td>1967.0</td>\n      <td>1927.0</td>\n      <td>2054.0</td>\n      <td>2054.0</td>\n      <td>2041.0</td>\n      <td>2041.0</td>\n      <td>...</td>\n      <td>0.0</td>\n      <td>2054.0</td>\n      <td>0.0</td>\n      <td>2054.0</td>\n      <td>2054.0</td>\n      <td>2054.0</td>\n      <td>2054.0</td>\n      <td>2054.0</td>\n      <td>2054.0</td>\n      <td>2054.0</td>\n    </tr>\n    <tr>\n      <th>mean</th>\n      <td>2019-04-12 19:01:20.623174400</td>\n      <td>1.878286</td>\n      <td>1.491237</td>\n      <td>2.736457</td>\n      <td>16.43213</td>\n      <td>7.877011</td>\n      <td>1.347614</td>\n      <td>1.754625</td>\n      <td>1.634493</td>\n      <td>1.740323</td>\n      <td>...</td>\n      <td>&lt;NA&gt;</td>\n      <td>1.037488</td>\n      <td>&lt;NA&gt;</td>\n      <td>2.242454</td>\n      <td>1.629503</td>\n      <td>6559.210483</td>\n      <td>1.411077</td>\n      <td>9294.341285</td>\n      <td>9294.341285</td>\n      <td>1.0</td>\n    </tr>\n    <tr>\n      <th>min</th>\n      <td>2019-04-08 00:00:00</td>\n      <td>1.0</td>\n      <td>1.0</td>\n      <td>1.0</td>\n      <td>1.0</td>\n      <td>1.0</td>\n      <td>1.0</td>\n      <td>1.0</td>\n      <td>1.0</td>\n      <td>1.0</td>\n      <td>...</td>\n      <td>&lt;NA&gt;</td>\n      <td>1.0</td>\n      <td>&lt;NA&gt;</td>\n      <td>1.0</td>\n      <td>1.0</td>\n      <td>3530.6146</td>\n      <td>1.07445</td>\n      <td>3779.676178</td>\n      <td>641.929927</td>\n      <td>0.069067</td>\n    </tr>\n    <tr>\n      <th>25%</th>\n      <td>2019-04-10 00:00:00</td>\n      <td>2.0</td>\n      <td>1.0</td>\n      <td>2.0</td>\n      <td>6.0</td>\n      <td>1.0</td>\n      <td>1.0</td>\n      <td>1.0</td>\n      <td>1.0</td>\n      <td>1.0</td>\n      <td>...</td>\n      <td>&lt;NA&gt;</td>\n      <td>1.0</td>\n      <td>&lt;NA&gt;</td>\n      <td>1.0</td>\n      <td>1.0</td>\n      <td>4997.3515</td>\n      <td>1.150989</td>\n      <td>5838.17624</td>\n      <td>1657.495291</td>\n      <td>0.178334</td>\n    </tr>\n    <tr>\n      <th>50%</th>\n      <td>2019-04-11 00:00:00</td>\n      <td>2.0</td>\n      <td>1.0</td>\n      <td>2.0</td>\n      <td>13.0</td>\n      <td>3.0</td>\n      <td>1.0</td>\n      <td>2.0</td>\n      <td>1.0</td>\n      <td>2.0</td>\n      <td>...</td>\n      <td>&lt;NA&gt;</td>\n      <td>1.0</td>\n      <td>&lt;NA&gt;</td>\n      <td>3.0</td>\n      <td>2.0</td>\n      <td>6108.623</td>\n      <td>1.253732</td>\n      <td>7489.52538</td>\n      <td>5810.35483</td>\n      <td>0.62515</td>\n    </tr>\n    <tr>\n      <th>75%</th>\n      <td>2019-04-15 00:00:00</td>\n      <td>2.0</td>\n      <td>2.0</td>\n      <td>4.0</td>\n      <td>19.0</td>\n      <td>4.0</td>\n      <td>2.0</td>\n      <td>3.0</td>\n      <td>2.0</td>\n      <td>2.0</td>\n      <td>...</td>\n      <td>&lt;NA&gt;</td>\n      <td>1.0</td>\n      <td>&lt;NA&gt;</td>\n      <td>3.0</td>\n      <td>2.0</td>\n      <td>7457.8144</td>\n      <td>1.49866</td>\n      <td>10463.283506</td>\n      <td>11906.559502</td>\n      <td>1.281055</td>\n    </tr>\n    <tr>\n      <th>max</th>\n      <td>2019-04-26 00:00:00</td>\n      <td>2.0</td>\n      <td>2.0</td>\n      <td>5.0</td>\n      <td>96.0</td>\n      <td>97.0</td>\n      <td>2.0</td>\n      <td>3.0</td>\n      <td>4.0</td>\n      <td>4.0</td>\n      <td>...</td>\n      <td>&lt;NA&gt;</td>\n      <td>2.0</td>\n      <td>&lt;NA&gt;</td>\n      <td>3.0</td>\n      <td>2.0</td>\n      <td>25556.1626</td>\n      <td>2.950849</td>\n      <td>30258.766707</td>\n      <td>117415.02905</td>\n      <td>12.632959</td>\n    </tr>\n    <tr>\n      <th>std</th>\n      <td>NaN</td>\n      <td>0.327035</td>\n      <td>0.500045</td>\n      <td>1.148557</td>\n      <td>17.880249</td>\n      <td>20.265243</td>\n      <td>0.476329</td>\n      <td>0.830006</td>\n      <td>0.758395</td>\n      <td>0.764523</td>\n      <td>...</td>\n      <td>&lt;NA&gt;</td>\n      <td>0.19</td>\n      <td>&lt;NA&gt;</td>\n      <td>0.960815</td>\n      <td>0.483055</td>\n      <td>2499.430748</td>\n      <td>0.542006</td>\n      <td>5276.760064</td>\n      <td>11003.120853</td>\n      <td>1.183852</td>\n    </tr>\n  </tbody>\n</table>\n<p>8 rows × 110 columns</p>\n</div>"
     },
     "execution_count": 18,
     "metadata": {},
     "output_type": "execute_result"
    }
   ],
   "source": [
    "df.describe()"
   ],
   "metadata": {
    "collapsed": false,
    "pycharm": {
     "name": "#%%\n"
    }
   }
  },
  {
   "cell_type": "code",
   "execution_count": 19,
   "outputs": [
    {
     "name": "stdout",
     "output_type": "stream",
     "text": [
      "IntDate            0.000000\n",
      "Mode               0.000000\n",
      "CF_Order           0.000000\n",
      "Q1                 0.243427\n",
      "Q2                 4.235638\n",
      "                     ...   \n",
      "p_gender_sdc       0.486855\n",
      "p_age_group_sdc    1.460565\n",
      "p_education_sdc    3.115871\n",
      "p_state_sdc        0.292113\n",
      "StateMap           0.292113\n",
      "Length: 201, dtype: float64\n"
     ]
    }
   ],
   "source": [
    "# Calculate the number of null values per column\n",
    "null_values = df.isnull().sum()\n",
    "\n",
    "# Calculate the percentage of null values per column\n",
    "null_percentage = (null_values / len(df)) * 100\n",
    "\n",
    "# Print the percentage of null values per column\n",
    "print(null_percentage)"
   ],
   "metadata": {
    "collapsed": false,
    "pycharm": {
     "name": "#%%\n"
    }
   }
  },
  {
   "cell_type": "code",
   "execution_count": 22,
   "outputs": [
    {
     "data": {
      "text/plain": "count    201.000000\nmean      39.753521\nstd       44.049976\nmin        0.000000\n25%        0.194742\n50%        3.115871\n75%       92.648491\nmax      100.000000\ndtype: float64"
     },
     "execution_count": 22,
     "metadata": {},
     "output_type": "execute_result"
    }
   ],
   "source": [
    "null_percentage.describe()"
   ],
   "metadata": {
    "collapsed": false,
    "pycharm": {
     "name": "#%%\n"
    }
   }
  },
  {
   "cell_type": "code",
   "execution_count": 26,
   "outputs": [
    {
     "data": {
      "text/plain": "<Figure size 1000x500 with 1 Axes>",
      "image/png": "[encoded data removed]"
     },
     "metadata": {},
     "output_type": "display_data"
    }
   ],
   "source": [
    "# Plot the percentage of null values per column as a bar chart\n",
    "plt.figure(figsize=(10, 5))\n",
    "null_percentage.plot(kind=\"bar\")\n",
    "plt.ylabel(\"Percentage of Null Values\")\n",
    "plt.xlabel(\"Columns\")\n",
    "plt.xticks([])  # Remove x-axis labels\n",
    "plt.title(\"Percentage of Null Values per Column\")\n",
    "plt.show()"
   ],
   "metadata": {
    "collapsed": false,
    "pycharm": {
     "name": "#%%\n"
    }
   }
  },
  {
   "cell_type": "code",
   "execution_count": null,
   "outputs": [],
   "source": [],
   "metadata": {
    "collapsed": false,
    "pycharm": {
     "name": "#%%\n"
    }
   }
  }
 ],
 "metadata": {
  "kernelspec": {
   "display_name": "Kedro (data_mining_course_anu_2023)",
   "language": "python",
   "name": "kedro_data_mining_course_anu_2023"
  },
  "language_info": {
   "codemirror_mode": {
    "name": "ipython",
    "version": 3
   },
   "file_extension": ".py",
   "mimetype": "text/x-python",
   "name": "python",
   "nbconvert_exporter": "python",
   "pygments_lexer": "ipython3",
   "version": "3.8.13"
  }
 },
 "nbformat": 4,
 "nbformat_minor": 5
}