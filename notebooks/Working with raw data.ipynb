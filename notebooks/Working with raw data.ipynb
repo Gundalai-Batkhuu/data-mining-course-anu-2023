{
 "cells": [
  {
   "cell_type": "code",
   "execution_count": 1,
   "id": "a658e96b",
   "metadata": {},
   "outputs": [],
   "source": [
    "import pandas as pd\n",
    "import numpy as np"
   ]
  },
  {
   "cell_type": "code",
   "execution_count": 2,
   "id": "41c90c3a",
   "metadata": {},
   "outputs": [
    {
     "data": {
      "text/plain": [
       "['raw_data', 'parameters']"
      ]
     },
     "execution_count": 2,
     "metadata": {},
     "output_type": "execute_result"
    }
   ],
   "source": [
    "catalog.list()"
   ]
  },
  {
   "cell_type": "code",
   "execution_count": 3,
   "id": "61b08791",
   "metadata": {
    "scrolled": true
   },
   "outputs": [
    {
     "name": "stdout",
     "output_type": "stream",
     "text": [
      "2023-04-09 15:11:36,775 - kedro.io.data_catalog - INFO - Loading data from `raw_data` (CSVDataSet)...\n"
     ]
    }
   ],
   "source": [
    "df = pd.DataFrame(catalog.load(\"raw_data\"))"
   ]
  },
  {
   "cell_type": "code",
   "execution_count": 4,
   "id": "7f8cea77",
   "metadata": {},
   "outputs": [],
   "source": [
    "# Replace empty strings with None values\n",
    "df.replace(' ', np.nan, inplace=True)"
   ]
  },
  {
   "cell_type": "code",
   "execution_count": 5,
   "id": "e7a179cf",
   "metadata": {},
   "outputs": [],
   "source": [
    "df = df.convert_dtypes()"
   ]
  },
  {
   "cell_type": "code",
   "execution_count": 6,
   "id": "179a0475",
   "metadata": {},
   "outputs": [
    {
     "name": "stdout",
     "output_type": "stream",
     "text": [
      "<class 'pandas.core.frame.DataFrame'>\n",
      "RangeIndex: 2054 entries, 0 to 2053\n",
      "Columns: 202 entries, SRCID to StateMap\n",
      "dtypes: Float64(5), Int64(105), string(92)\n",
      "memory usage: 3.4 MB\n"
     ]
    }
   ],
   "source": [
    "df.info()"
   ]
  },
  {
   "cell_type": "code",
   "execution_count": 7,
   "id": "56f32f29",
   "metadata": {},
   "outputs": [
    {
     "data": {
      "text/html": [
       "<div>\n",
       "<style scoped>\n",
       "    .dataframe tbody tr th:only-of-type {\n",
       "        vertical-align: middle;\n",
       "    }\n",
       "\n",
       "    .dataframe tbody tr th {\n",
       "        vertical-align: top;\n",
       "    }\n",
       "\n",
       "    .dataframe thead th {\n",
       "        text-align: right;\n",
       "    }\n",
       "</style>\n",
       "<table border=\"1\" class=\"dataframe\">\n",
       "  <thead>\n",
       "    <tr style=\"text-align: right;\">\n",
       "      <th></th>\n",
       "      <th>SRCID</th>\n",
       "      <th>IntDate</th>\n",
       "      <th>Mode</th>\n",
       "      <th>CF_Order</th>\n",
       "      <th>Q1</th>\n",
       "      <th>Q2</th>\n",
       "      <th>Q2_Oth</th>\n",
       "      <th>Q3</th>\n",
       "      <th>Q3_Oth</th>\n",
       "      <th>Q4</th>\n",
       "      <th>...</th>\n",
       "      <th>wt_design</th>\n",
       "      <th>wt_propensit</th>\n",
       "      <th>wt_base_anu</th>\n",
       "      <th>wt_wave_anu</th>\n",
       "      <th>weight_anu</th>\n",
       "      <th>p_gender_sdc</th>\n",
       "      <th>p_age_group_sdc</th>\n",
       "      <th>p_education_sdc</th>\n",
       "      <th>p_state_sdc</th>\n",
       "      <th>StateMap</th>\n",
       "    </tr>\n",
       "  </thead>\n",
       "  <tbody>\n",
       "    <tr>\n",
       "      <th>0</th>\n",
       "      <td>39</td>\n",
       "      <td>4/11/2019</td>\n",
       "      <td>2</td>\n",
       "      <td>1</td>\n",
       "      <td>2</td>\n",
       "      <td>19</td>\n",
       "      <td>&lt;NA&gt;</td>\n",
       "      <td>16</td>\n",
       "      <td>&lt;NA&gt;</td>\n",
       "      <td>3</td>\n",
       "      <td>...</td>\n",
       "      <td>4695.4258</td>\n",
       "      <td>1.150989</td>\n",
       "      <td>5384.73462</td>\n",
       "      <td>853.713782</td>\n",
       "      <td>0.091853</td>\n",
       "      <td>2</td>\n",
       "      <td>3</td>\n",
       "      <td>1</td>\n",
       "      <td>1</td>\n",
       "      <td>1</td>\n",
       "    </tr>\n",
       "    <tr>\n",
       "      <th>1</th>\n",
       "      <td>156</td>\n",
       "      <td>4/9/2019</td>\n",
       "      <td>2</td>\n",
       "      <td>2</td>\n",
       "      <td>1</td>\n",
       "      <td>12</td>\n",
       "      <td>&lt;NA&gt;</td>\n",
       "      <td>11</td>\n",
       "      <td>&lt;NA&gt;</td>\n",
       "      <td>1</td>\n",
       "      <td>...</td>\n",
       "      <td>4997.3515</td>\n",
       "      <td>1.07445</td>\n",
       "      <td>5349.881695</td>\n",
       "      <td>908.609364</td>\n",
       "      <td>0.097759</td>\n",
       "      <td>2</td>\n",
       "      <td>4</td>\n",
       "      <td>1</td>\n",
       "      <td>1</td>\n",
       "      <td>1</td>\n",
       "    </tr>\n",
       "    <tr>\n",
       "      <th>2</th>\n",
       "      <td>605</td>\n",
       "      <td>4/9/2019</td>\n",
       "      <td>2</td>\n",
       "      <td>1</td>\n",
       "      <td>2</td>\n",
       "      <td>-98</td>\n",
       "      <td>&lt;NA&gt;</td>\n",
       "      <td>&lt;NA&gt;</td>\n",
       "      <td>&lt;NA&gt;</td>\n",
       "      <td>3</td>\n",
       "      <td>...</td>\n",
       "      <td>16529.8031</td>\n",
       "      <td>1.07445</td>\n",
       "      <td>17695.871707</td>\n",
       "      <td>32062.736887</td>\n",
       "      <td>3.449705</td>\n",
       "      <td>2</td>\n",
       "      <td>3</td>\n",
       "      <td>3</td>\n",
       "      <td>1</td>\n",
       "      <td>1</td>\n",
       "    </tr>\n",
       "    <tr>\n",
       "      <th>3</th>\n",
       "      <td>41</td>\n",
       "      <td>4/18/2019</td>\n",
       "      <td>2</td>\n",
       "      <td>1</td>\n",
       "      <td>2</td>\n",
       "      <td>16</td>\n",
       "      <td>&lt;NA&gt;</td>\n",
       "      <td>5</td>\n",
       "      <td>&lt;NA&gt;</td>\n",
       "      <td>3</td>\n",
       "      <td>...</td>\n",
       "      <td>6108.623</td>\n",
       "      <td>1.150989</td>\n",
       "      <td>7005.395282</td>\n",
       "      <td>5064.031682</td>\n",
       "      <td>0.544851</td>\n",
       "      <td>2</td>\n",
       "      <td>4</td>\n",
       "      <td>2</td>\n",
       "      <td>1</td>\n",
       "      <td>1</td>\n",
       "    </tr>\n",
       "    <tr>\n",
       "      <th>4</th>\n",
       "      <td>1295</td>\n",
       "      <td>4/18/2019</td>\n",
       "      <td>1</td>\n",
       "      <td>1</td>\n",
       "      <td>4</td>\n",
       "      <td>29</td>\n",
       "      <td>&lt;NA&gt;</td>\n",
       "      <td>16</td>\n",
       "      <td>&lt;NA&gt;</td>\n",
       "      <td>5</td>\n",
       "      <td>...</td>\n",
       "      <td>4100.608</td>\n",
       "      <td>1.150989</td>\n",
       "      <td>4702.594994</td>\n",
       "      <td>8231.010107</td>\n",
       "      <td>0.885594</td>\n",
       "      <td>1</td>\n",
       "      <td>2</td>\n",
       "      <td>2</td>\n",
       "      <td>1</td>\n",
       "      <td>1</td>\n",
       "    </tr>\n",
       "  </tbody>\n",
       "</table>\n",
       "<p>5 rows × 202 columns</p>\n",
       "</div>"
      ],
      "text/plain": [
       "   SRCID    IntDate  Mode  CF_Order  Q1   Q2 Q2_Oth    Q3 Q3_Oth  Q4  ...  \\\n",
       "0     39  4/11/2019     2         1   2   19   <NA>    16   <NA>   3  ...   \n",
       "1    156   4/9/2019     2         2   1   12   <NA>    11   <NA>   1  ...   \n",
       "2    605   4/9/2019     2         1   2  -98   <NA>  <NA>   <NA>   3  ...   \n",
       "3     41  4/18/2019     2         1   2   16   <NA>     5   <NA>   3  ...   \n",
       "4   1295  4/18/2019     1         1   4   29   <NA>    16   <NA>   5  ...   \n",
       "\n",
       "    wt_design  wt_propensit   wt_base_anu   wt_wave_anu  weight_anu  \\\n",
       "0   4695.4258      1.150989    5384.73462    853.713782    0.091853   \n",
       "1   4997.3515       1.07445   5349.881695    908.609364    0.097759   \n",
       "2  16529.8031       1.07445  17695.871707  32062.736887    3.449705   \n",
       "3    6108.623      1.150989   7005.395282   5064.031682    0.544851   \n",
       "4    4100.608      1.150989   4702.594994   8231.010107    0.885594   \n",
       "\n",
       "   p_gender_sdc  p_age_group_sdc  p_education_sdc  p_state_sdc  StateMap  \n",
       "0             2                3                1            1         1  \n",
       "1             2                4                1            1         1  \n",
       "2             2                3                3            1         1  \n",
       "3             2                4                2            1         1  \n",
       "4             1                2                2            1         1  \n",
       "\n",
       "[5 rows x 202 columns]"
      ]
     },
     "execution_count": 7,
     "metadata": {},
     "output_type": "execute_result"
    }
   ],
   "source": [
    "df.head()"
   ]
  },
  {
   "cell_type": "code",
   "execution_count": 12,
   "id": "9366b890",
   "metadata": {
    "scrolled": true
   },
   "outputs": [],
   "source": [
    "df[\"IntDate\"] = pd.to_datetime(df[\"IntDate\"])"
   ]
  },
  {
   "cell_type": "code",
   "execution_count": 13,
   "id": "50e5e6d4",
   "metadata": {},
   "outputs": [
    {
     "name": "stdout",
     "output_type": "stream",
     "text": [
      "<class 'pandas.core.frame.DataFrame'>\n",
      "RangeIndex: 2054 entries, 0 to 2053\n",
      "Columns: 202 entries, SRCID to StateMap\n",
      "dtypes: Float64(5), Int64(105), datetime64[ns](1), string(91)\n",
      "memory usage: 3.4 MB\n"
     ]
    }
   ],
   "source": [
    "df.info()"
   ]
  },
  {
   "cell_type": "code",
   "execution_count": null,
   "id": "58aacbb4",
   "metadata": {},
   "outputs": [],
   "source": []
  }
 ],
 "metadata": {
  "kernelspec": {
   "display_name": "Kedro (data_mining_course_anu_2023)",
   "language": "python",
   "name": "kedro_data_mining_course_anu_2023"
  },
  "language_info": {
   "codemirror_mode": {
    "name": "ipython",
    "version": 3
   },
   "file_extension": ".py",
   "mimetype": "text/x-python",
   "name": "python",
   "nbconvert_exporter": "python",
   "pygments_lexer": "ipython3",
   "version": "3.8.13"
  }
 },
 "nbformat": 4,
 "nbformat_minor": 5
}
