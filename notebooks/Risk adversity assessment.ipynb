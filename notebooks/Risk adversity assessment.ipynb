{
 "cells": [
  {
   "cell_type": "code",
   "execution_count": 20,
   "id": "4911db0c-4501-41f5-9fca-571f1395e5e4",
   "metadata": {},
   "outputs": [],
   "source": [
    "import pandas as pd"
   ]
  },
  {
   "cell_type": "code",
   "execution_count": 21,
   "id": "36d908c0-43b8-4b55-b7f4-03b70332ba22",
   "metadata": {},
   "outputs": [
    {
     "name": "stdout",
     "output_type": "stream",
     "text": [
      "2023-04-13 22:29:39,149 - kedro.io.data_catalog - INFO - Loading data from 'intermediate_data' (CSVDataSet)...\n"
     ]
    }
   ],
   "source": [
    "df = catalog.load(\"intermediate_data\")"
   ]
  },
  {
   "cell_type": "code",
   "execution_count": 22,
   "id": "3f4ef55d-23cd-45fd-8323-2c0977e02ae4",
   "metadata": {},
   "outputs": [
    {
     "data": {
      "text/plain": "   SRCID     IntDate  Mode  CF_Order  Q1  Q2 Q2_Oth    Q3 Q3_Oth  Q4  ...   \n0     39  2019-04-11     2         1   2  19    NaN  16.0    NaN   3  ...  \\\n1    156  2019-04-09     2         2   1  12    NaN  11.0    NaN   1  ...   \n2    605  2019-04-09     2         1   2 -98    NaN   NaN    NaN   3  ...   \n3     41  2019-04-18     2         1   2  16    NaN   5.0    NaN   3  ...   \n4   1295  2019-04-18     1         1   4  29    NaN  16.0    NaN   5  ...   \n\n    wt_design  wt_propensit   wt_base_anu   wt_wave_anu  weight_anu   \n0   4695.4258      1.150989   5384.734620    853.713782    0.091853  \\\n1   4997.3515      1.074450   5349.881695    908.609364    0.097759   \n2  16529.8031      1.074450  17695.871707  32062.736887    3.449705   \n3   6108.6230      1.150989   7005.395282   5064.031682    0.544851   \n4   4100.6080      1.150989   4702.594994   8231.010107    0.885594   \n\n   p_gender_sdc  p_age_group_sdc  p_education_sdc  p_state_sdc  StateMap  \n0           2.0              3.0              1.0          1.0       1.0  \n1           2.0              4.0              1.0          1.0       1.0  \n2           2.0              3.0              3.0          1.0       1.0  \n3           2.0              4.0              2.0          1.0       1.0  \n4           1.0              2.0              2.0          1.0       1.0  \n\n[5 rows x 202 columns]",
      "text/html": "<div>\n<style scoped>\n    .dataframe tbody tr th:only-of-type {\n        vertical-align: middle;\n    }\n\n    .dataframe tbody tr th {\n        vertical-align: top;\n    }\n\n    .dataframe thead th {\n        text-align: right;\n    }\n</style>\n<table border=\"1\" class=\"dataframe\">\n  <thead>\n    <tr style=\"text-align: right;\">\n      <th></th>\n      <th>SRCID</th>\n      <th>IntDate</th>\n      <th>Mode</th>\n      <th>CF_Order</th>\n      <th>Q1</th>\n      <th>Q2</th>\n      <th>Q2_Oth</th>\n      <th>Q3</th>\n      <th>Q3_Oth</th>\n      <th>Q4</th>\n      <th>...</th>\n      <th>wt_design</th>\n      <th>wt_propensit</th>\n      <th>wt_base_anu</th>\n      <th>wt_wave_anu</th>\n      <th>weight_anu</th>\n      <th>p_gender_sdc</th>\n      <th>p_age_group_sdc</th>\n      <th>p_education_sdc</th>\n      <th>p_state_sdc</th>\n      <th>StateMap</th>\n    </tr>\n  </thead>\n  <tbody>\n    <tr>\n      <th>0</th>\n      <td>39</td>\n      <td>2019-04-11</td>\n      <td>2</td>\n      <td>1</td>\n      <td>2</td>\n      <td>19</td>\n      <td>NaN</td>\n      <td>16.0</td>\n      <td>NaN</td>\n      <td>3</td>\n      <td>...</td>\n      <td>4695.4258</td>\n      <td>1.150989</td>\n      <td>5384.734620</td>\n      <td>853.713782</td>\n      <td>0.091853</td>\n      <td>2.0</td>\n      <td>3.0</td>\n      <td>1.0</td>\n      <td>1.0</td>\n      <td>1.0</td>\n    </tr>\n    <tr>\n      <th>1</th>\n      <td>156</td>\n      <td>2019-04-09</td>\n      <td>2</td>\n      <td>2</td>\n      <td>1</td>\n      <td>12</td>\n      <td>NaN</td>\n      <td>11.0</td>\n      <td>NaN</td>\n      <td>1</td>\n      <td>...</td>\n      <td>4997.3515</td>\n      <td>1.074450</td>\n      <td>5349.881695</td>\n      <td>908.609364</td>\n      <td>0.097759</td>\n      <td>2.0</td>\n      <td>4.0</td>\n      <td>1.0</td>\n      <td>1.0</td>\n      <td>1.0</td>\n    </tr>\n    <tr>\n      <th>2</th>\n      <td>605</td>\n      <td>2019-04-09</td>\n      <td>2</td>\n      <td>1</td>\n      <td>2</td>\n      <td>-98</td>\n      <td>NaN</td>\n      <td>NaN</td>\n      <td>NaN</td>\n      <td>3</td>\n      <td>...</td>\n      <td>16529.8031</td>\n      <td>1.074450</td>\n      <td>17695.871707</td>\n      <td>32062.736887</td>\n      <td>3.449705</td>\n      <td>2.0</td>\n      <td>3.0</td>\n      <td>3.0</td>\n      <td>1.0</td>\n      <td>1.0</td>\n    </tr>\n    <tr>\n      <th>3</th>\n      <td>41</td>\n      <td>2019-04-18</td>\n      <td>2</td>\n      <td>1</td>\n      <td>2</td>\n      <td>16</td>\n      <td>NaN</td>\n      <td>5.0</td>\n      <td>NaN</td>\n      <td>3</td>\n      <td>...</td>\n      <td>6108.6230</td>\n      <td>1.150989</td>\n      <td>7005.395282</td>\n      <td>5064.031682</td>\n      <td>0.544851</td>\n      <td>2.0</td>\n      <td>4.0</td>\n      <td>2.0</td>\n      <td>1.0</td>\n      <td>1.0</td>\n    </tr>\n    <tr>\n      <th>4</th>\n      <td>1295</td>\n      <td>2019-04-18</td>\n      <td>1</td>\n      <td>1</td>\n      <td>4</td>\n      <td>29</td>\n      <td>NaN</td>\n      <td>16.0</td>\n      <td>NaN</td>\n      <td>5</td>\n      <td>...</td>\n      <td>4100.6080</td>\n      <td>1.150989</td>\n      <td>4702.594994</td>\n      <td>8231.010107</td>\n      <td>0.885594</td>\n      <td>1.0</td>\n      <td>2.0</td>\n      <td>2.0</td>\n      <td>1.0</td>\n      <td>1.0</td>\n    </tr>\n  </tbody>\n</table>\n<p>5 rows × 202 columns</p>\n</div>"
     },
     "execution_count": 22,
     "metadata": {},
     "output_type": "execute_result"
    }
   ],
   "source": [
    "df.head()"
   ]
  },
  {
   "cell_type": "code",
   "execution_count": 23,
   "id": "4387112f-3a26-4bfa-8816-170e34c57f4d",
   "metadata": {},
   "outputs": [],
   "source": [
    "columns = df.columns"
   ]
  },
  {
   "cell_type": "code",
   "execution_count": 24,
   "id": "32137f37-32ba-4d6b-8262-04c5902490f5",
   "metadata": {},
   "outputs": [
    {
     "data": {
      "text/plain": "Index(['SRCID', 'IntDate', 'Mode', 'CF_Order', 'Q1', 'Q2', 'Q2_Oth', 'Q3',\n       'Q3_Oth', 'Q4',\n       ...\n       'wt_design', 'wt_propensit', 'wt_base_anu', 'wt_wave_anu', 'weight_anu',\n       'p_gender_sdc', 'p_age_group_sdc', 'p_education_sdc', 'p_state_sdc',\n       'StateMap'],\n      dtype='object', length=202)"
     },
     "execution_count": 24,
     "metadata": {},
     "output_type": "execute_result"
    }
   ],
   "source": [
    "columns"
   ]
  },
  {
   "cell_type": "code",
   "execution_count": 25,
   "id": "ac578f62-d8d6-4afb-a22e-d49a6e66331b",
   "metadata": {},
   "outputs": [
    {
     "data": {
      "text/plain": "136"
     },
     "execution_count": 25,
     "metadata": {},
     "output_type": "execute_result"
    }
   ],
   "source": [
    "columns.get_loc(\"S1\")"
   ]
  },
  {
   "cell_type": "code",
   "execution_count": 26,
   "id": "f564af81-941a-4ace-ab3f-ce07bdc0e90b",
   "metadata": {},
   "outputs": [],
   "source": [
    "s_col = columns[136:167]"
   ]
  },
  {
   "cell_type": "code",
   "execution_count": 27,
   "id": "2f76d476-b500-4fb3-b379-001176f27c16",
   "metadata": {},
   "outputs": [
    {
     "data": {
      "text/plain": "Index(['S1', 'S2', 'S3', 'S4', 'S5', 'S6', 'S7', 'S8', 'S9', 'S10', 'S11',\n       'S12', 'S13', 'S14', 'S15', 'S16', 'S17', 'S18', 'S19', 'S20', 'S21',\n       'S22', 'S23', 'S24', 'S25', 'S26', 'S27', 'S28', 'S29', 'S30', 'S31'],\n      dtype='object')"
     },
     "execution_count": 27,
     "metadata": {},
     "output_type": "execute_result"
    }
   ],
   "source": [
    "s_col"
   ]
  },
  {
   "cell_type": "code",
   "execution_count": 28,
   "id": "f2c8f853-ba27-4840-9ebe-3bd528b32e83",
   "metadata": {},
   "outputs": [
    {
     "data": {
      "text/plain": "['raw_data', 'codebook', 'intermediate_data', 'parameters']"
     },
     "execution_count": 28,
     "metadata": {},
     "output_type": "execute_result"
    }
   ],
   "source": [
    "catalog.list()"
   ]
  },
  {
   "cell_type": "code",
   "execution_count": 29,
   "id": "323f04ff-3072-45bb-aae2-d427c55c2ee9",
   "metadata": {},
   "outputs": [
    {
     "name": "stdout",
     "output_type": "stream",
     "text": [
      "2023-04-13 22:29:39,306 - kedro.io.data_catalog - INFO - Loading data from 'codebook' (ExcelDataSet)...\n"
     ]
    }
   ],
   "source": [
    "codebook_xls = pd.DataFrame(catalog.load(\"codebook\"))"
   ]
  },
  {
   "cell_type": "code",
   "execution_count": 30,
   "id": "a89cec10-d220-4bd8-815a-c532c619719d",
   "metadata": {
    "scrolled": true
   },
   "outputs": [],
   "source": [
    "labels = codebook_xls[['Variable', 'Position', 'Label']]"
   ]
  },
  {
   "cell_type": "code",
   "execution_count": 31,
   "id": "2a6dd292-3d50-4f18-846e-af4337896cf5",
   "metadata": {
    "scrolled": true
   },
   "outputs": [
    {
     "name": "stdout",
     "output_type": "stream",
     "text": [
      "2023-04-13 22:29:39,417 - py.warnings - WARNING - C:\\Users\\gdbt0\\AppData\\Local\\Temp\\ipykernel_20076\\3937756069.py:1: SettingWithCopyWarning: \n",
      "A value is trying to be set on a copy of a slice from a DataFrame\n",
      "\n",
      "See the caveats in the documentation: https://pandas.pydata.org/pandas-docs/stable/user_guide/indexing.html#returning-a-view-versus-a-copy\n",
      "  labels.dropna(inplace=True)\n",
      "\n"
     ]
    }
   ],
   "source": [
    "labels.dropna(inplace=True)"
   ]
  },
  {
   "cell_type": "markdown",
   "id": "8686b5d3",
   "metadata": {},
   "source": [
    "## Converts the labels of questions S1-S31 into annual return percentages"
   ]
  },
  {
   "cell_type": "code",
   "execution_count": 32,
   "id": "75509d10",
   "metadata": {
    "scrolled": true
   },
   "outputs": [],
   "source": [
    "s_labels = labels.iloc[136:167]"
   ]
  },
  {
   "cell_type": "code",
   "execution_count": 33,
   "id": "0583a04e",
   "metadata": {
    "scrolled": false
   },
   "outputs": [
    {
     "name": "stdout",
     "output_type": "stream",
     "text": [
      "2023-04-13 22:29:39,464 - py.warnings - WARNING - C:\\Users\\gdbt0\\AppData\\Local\\Temp\\ipykernel_20076\\3137119574.py:1: SettingWithCopyWarning: \n",
      "A value is trying to be set on a copy of a slice from a DataFrame.\n",
      "Try using .loc[row_indexer,col_indexer] = value instead\n",
      "\n",
      "See the caveats in the documentation: https://pandas.pydata.org/pandas-docs/stable/user_guide/indexing.html#returning-a-view-versus-a-copy\n",
      "  s_labels[\"fv\"] = s_labels[\"Label\"].str.split(' ').str[8].str[1:].astype(int)\n",
      "\n"
     ]
    }
   ],
   "source": [
    "s_labels[\"fv\"] = s_labels[\"Label\"].str.split(' ').str[8].str[1:].astype(int)"
   ]
  },
  {
   "cell_type": "code",
   "execution_count": 34,
   "id": "440769fa",
   "metadata": {
    "scrolled": true
   },
   "outputs": [
    {
     "name": "stdout",
     "output_type": "stream",
     "text": [
      "2023-04-13 22:29:39,480 - py.warnings - WARNING - C:\\Users\\gdbt0\\AppData\\Local\\Temp\\ipykernel_20076\\2339710980.py:1: SettingWithCopyWarning: \n",
      "A value is trying to be set on a copy of a slice from a DataFrame.\n",
      "Try using .loc[row_indexer,col_indexer] = value instead\n",
      "\n",
      "See the caveats in the documentation: https://pandas.pydata.org/pandas-docs/stable/user_guide/indexing.html#returning-a-view-versus-a-copy\n",
      "  s_labels[\"annual_return\"] = (s_labels[\"fv\"] - 300) / 300\n",
      "\n"
     ]
    }
   ],
   "source": [
    "s_labels[\"annual_return\"] = (s_labels[\"fv\"] - 300) / 300"
   ]
  },
  {
   "cell_type": "code",
   "execution_count": 35,
   "id": "c8e0f54a",
   "metadata": {
    "scrolled": true
   },
   "outputs": [
    {
     "data": {
      "text/plain": "    Variable  Position                                              Label   \n724       S1     137.0  S1. Would you rather receive $300 today or $46...  \\\n728       S2     138.0  S2. Would you rather receive $300 today or $37...   \n732       S3     139.0  S3. Would you rather receive $300 today or $33...   \n736       S4     140.0  S4. Would you rather receive $300 today or $31...   \n740       S5     141.0  S5. Would you rather receive $300 today or $30...   \n\n      fv  annual_return  \n724  462           0.54  \n728  375           0.25  \n732  336           0.12  \n736  318           0.06  \n740  309           0.03  ",
      "text/html": "<div>\n<style scoped>\n    .dataframe tbody tr th:only-of-type {\n        vertical-align: middle;\n    }\n\n    .dataframe tbody tr th {\n        vertical-align: top;\n    }\n\n    .dataframe thead th {\n        text-align: right;\n    }\n</style>\n<table border=\"1\" class=\"dataframe\">\n  <thead>\n    <tr style=\"text-align: right;\">\n      <th></th>\n      <th>Variable</th>\n      <th>Position</th>\n      <th>Label</th>\n      <th>fv</th>\n      <th>annual_return</th>\n    </tr>\n  </thead>\n  <tbody>\n    <tr>\n      <th>724</th>\n      <td>S1</td>\n      <td>137.0</td>\n      <td>S1. Would you rather receive $300 today or $46...</td>\n      <td>462</td>\n      <td>0.54</td>\n    </tr>\n    <tr>\n      <th>728</th>\n      <td>S2</td>\n      <td>138.0</td>\n      <td>S2. Would you rather receive $300 today or $37...</td>\n      <td>375</td>\n      <td>0.25</td>\n    </tr>\n    <tr>\n      <th>732</th>\n      <td>S3</td>\n      <td>139.0</td>\n      <td>S3. Would you rather receive $300 today or $33...</td>\n      <td>336</td>\n      <td>0.12</td>\n    </tr>\n    <tr>\n      <th>736</th>\n      <td>S4</td>\n      <td>140.0</td>\n      <td>S4. Would you rather receive $300 today or $31...</td>\n      <td>318</td>\n      <td>0.06</td>\n    </tr>\n    <tr>\n      <th>740</th>\n      <td>S5</td>\n      <td>141.0</td>\n      <td>S5. Would you rather receive $300 today or $30...</td>\n      <td>309</td>\n      <td>0.03</td>\n    </tr>\n  </tbody>\n</table>\n</div>"
     },
     "execution_count": 35,
     "metadata": {},
     "output_type": "execute_result"
    }
   ],
   "source": [
    "s_labels.head()"
   ]
  },
  {
   "cell_type": "markdown",
   "id": "7de2b592",
   "metadata": {},
   "source": [
    "## Converts the labels of questions R1-R31 into return values"
   ]
  },
  {
   "cell_type": "code",
   "execution_count": 36,
   "id": "c3cddcad",
   "metadata": {},
   "outputs": [],
   "source": [
    "r_labels = labels.iloc[105:135]"
   ]
  },
  {
   "cell_type": "code",
   "execution_count": 37,
   "id": "be6982bc",
   "metadata": {},
   "outputs": [
    {
     "name": "stdout",
     "output_type": "stream",
     "text": [
      "2023-04-13 22:29:39,532 - py.warnings - WARNING - C:\\Users\\gdbt0\\AppData\\Local\\Temp\\ipykernel_20076\\3879757768.py:1: SettingWithCopyWarning: \n",
      "A value is trying to be set on a copy of a slice from a DataFrame.\n",
      "Try using .loc[row_indexer,col_indexer] = value instead\n",
      "\n",
      "See the caveats in the documentation: https://pandas.pydata.org/pandas-docs/stable/user_guide/indexing.html#returning-a-view-versus-a-copy\n",
      "  r_labels[\"risk_free_return\"] = r_labels[\"Label\"].str.split(' ').str[33].str[1:].astype(int)\n",
      "\n"
     ]
    }
   ],
   "source": [
    "r_labels[\"risk_free_return\"] = r_labels[\"Label\"].str.split(' ').str[33].str[1:].astype(int)"
   ]
  },
  {
   "cell_type": "code",
   "execution_count": 38,
   "id": "8640711e",
   "metadata": {},
   "outputs": [
    {
     "name": "stdout",
     "output_type": "stream",
     "text": [
      "2023-04-13 22:29:39,540 - py.warnings - WARNING - C:\\Users\\gdbt0\\AppData\\Local\\Temp\\ipykernel_20076\\421842168.py:1: SettingWithCopyWarning: \n",
      "A value is trying to be set on a copy of a slice from a DataFrame.\n",
      "Try using .loc[row_indexer,col_indexer] = value instead\n",
      "\n",
      "See the caveats in the documentation: https://pandas.pydata.org/pandas-docs/stable/user_guide/indexing.html#returning-a-view-versus-a-copy\n",
      "  r_labels[\"ev_gamble\"] = 450\n",
      "\n",
      "2023-04-13 22:29:39,542 - py.warnings - WARNING - C:\\Users\\gdbt0\\AppData\\Local\\Temp\\ipykernel_20076\\421842168.py:2: SettingWithCopyWarning: \n",
      "A value is trying to be set on a copy of a slice from a DataFrame.\n",
      "Try using .loc[row_indexer,col_indexer] = value instead\n",
      "\n",
      "See the caveats in the documentation: https://pandas.pydata.org/pandas-docs/stable/user_guide/indexing.html#returning-a-view-versus-a-copy\n",
      "  r_labels[\"risk_prem_scenario\"] = r_labels[\"ev_gamble\"] - r_labels[\"risk_free_return\"]\n",
      "\n"
     ]
    },
    {
     "data": {
      "text/plain": "    Variable  Position                                              Label   \n591       R2     106.0  R2. What would you prefer: a 50 percent chance...  \\\n595       R3     107.0  R3. What would you prefer: a 50 percent chance...   \n599       R4     108.0  R4. What would you prefer: a 50 percent chance...   \n603       R5     109.0  R5. What would you prefer: a 50 percent chance...   \n607       R6     110.0  R6. What would you prefer: a 50 percent chance...   \n\n     risk_free_return  ev_gamble  risk_prem_scenario  \n591               240        450                 210  \n595               120        450                 330  \n599               180        450                 270  \n603               210        450                 240  \n607               150        450                 300  ",
      "text/html": "<div>\n<style scoped>\n    .dataframe tbody tr th:only-of-type {\n        vertical-align: middle;\n    }\n\n    .dataframe tbody tr th {\n        vertical-align: top;\n    }\n\n    .dataframe thead th {\n        text-align: right;\n    }\n</style>\n<table border=\"1\" class=\"dataframe\">\n  <thead>\n    <tr style=\"text-align: right;\">\n      <th></th>\n      <th>Variable</th>\n      <th>Position</th>\n      <th>Label</th>\n      <th>risk_free_return</th>\n      <th>ev_gamble</th>\n      <th>risk_prem_scenario</th>\n    </tr>\n  </thead>\n  <tbody>\n    <tr>\n      <th>591</th>\n      <td>R2</td>\n      <td>106.0</td>\n      <td>R2. What would you prefer: a 50 percent chance...</td>\n      <td>240</td>\n      <td>450</td>\n      <td>210</td>\n    </tr>\n    <tr>\n      <th>595</th>\n      <td>R3</td>\n      <td>107.0</td>\n      <td>R3. What would you prefer: a 50 percent chance...</td>\n      <td>120</td>\n      <td>450</td>\n      <td>330</td>\n    </tr>\n    <tr>\n      <th>599</th>\n      <td>R4</td>\n      <td>108.0</td>\n      <td>R4. What would you prefer: a 50 percent chance...</td>\n      <td>180</td>\n      <td>450</td>\n      <td>270</td>\n    </tr>\n    <tr>\n      <th>603</th>\n      <td>R5</td>\n      <td>109.0</td>\n      <td>R5. What would you prefer: a 50 percent chance...</td>\n      <td>210</td>\n      <td>450</td>\n      <td>240</td>\n    </tr>\n    <tr>\n      <th>607</th>\n      <td>R6</td>\n      <td>110.0</td>\n      <td>R6. What would you prefer: a 50 percent chance...</td>\n      <td>150</td>\n      <td>450</td>\n      <td>300</td>\n    </tr>\n  </tbody>\n</table>\n</div>"
     },
     "execution_count": 38,
     "metadata": {},
     "output_type": "execute_result"
    }
   ],
   "source": [
    "r_labels[\"ev_gamble\"] = 450\n",
    "r_labels[\"risk_prem_scenario\"] = r_labels[\"ev_gamble\"] - r_labels[\"risk_free_return\"]\n",
    "r_labels.head()"
   ]
  },
  {
   "cell_type": "code",
   "execution_count": 38,
   "id": "60197148",
   "metadata": {},
   "outputs": [],
   "source": []
  },
  {
   "cell_type": "code",
   "execution_count": 38,
   "outputs": [],
   "source": [],
   "metadata": {
    "collapsed": false,
    "pycharm": {
     "name": "#%%\n"
    }
   }
  }
 ],
 "metadata": {
  "kernelspec": {
   "display_name": "Kedro (data_mining_course_anu_2023)",
   "language": "python",
   "name": "kedro_data_mining_course_anu_2023"
  },
  "language_info": {
   "codemirror_mode": {
    "name": "ipython",
    "version": 3
   },
   "file_extension": ".py",
   "mimetype": "text/x-python",
   "name": "python",
   "nbconvert_exporter": "python",
   "pygments_lexer": "ipython3",
   "version": "3.9.16"
  }
 },
 "nbformat": 4,
 "nbformat_minor": 5
}